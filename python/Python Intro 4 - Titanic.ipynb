{
 "cells": [
  {
   "cell_type": "markdown",
   "metadata": {},
   "source": [
    "# Understanding the Titanic Survival\n",
    "\n",
    "<img src=\"https://upload.wikimedia.org/wikipedia/commons/6/6e/St%C3%B6wer_Titanic.jpg\" />\n",
    " \n",
    "Wellcome to the Titanic, the largest British ship at the time,  that sank in the North \n",
    "Atlantic Ocean in the early hours of 15 April 1912. \n",
    " \n",
    "In this notebook we will try to undestand the characteristics of the individuals that were at the Titanic, how many survived and who survived.\n",
    "\n",
    "Please download the titanic.csv file from the Google Drive into your computer and load it\n",
    "using Pandas.\n",
    "\n",
    "This dataset is a partial dataset used as the training set on Kaggle's Titanic challenge.\n",
    "\n",
    "###  NOTE: Open this notebook in Jupiter and make a copy of it (File ->  Make a copy). Work on the copied notebook so you can use the original notebook as a reference for the expected results.\n",
    " \n",
    "I recommend you to try to repeat the same analysis we make here using R :-)\n",
    " "
   ]
  },
  {
   "cell_type": "code",
<<<<<<< HEAD
   "execution_count": 83,
=======
   "execution_count": 210,
>>>>>>> 09e97300c08ed82afbc3b1ff6711a93f409a91c5
   "metadata": {},
   "outputs": [],
   "source": [
    "import numpy as np\n",
    "import pandas as pd\n",
    "import matplotlib.pyplot as plt\n",
    "import seaborn as sns"
   ]
  },
  {
   "cell_type": "code",
<<<<<<< HEAD
   "execution_count": 10,
=======
   "execution_count": 245,
>>>>>>> 09e97300c08ed82afbc3b1ff6711a93f409a91c5
   "metadata": {},
   "outputs": [],
   "source": [
    "### change this to the path you downloded the file\n",
<<<<<<< HEAD
    "path = \"C:/Users/Oren Gadot/HagitGadot/DataScience/Data/titanic.csv\""
=======
    "path = \"YOUR_PATH\""
>>>>>>> 09e97300c08ed82afbc3b1ff6711a93f409a91c5
   ]
  },
  {
   "cell_type": "code",
<<<<<<< HEAD
   "execution_count": 11,
=======
   "execution_count": 212,
>>>>>>> 09e97300c08ed82afbc3b1ff6711a93f409a91c5
   "metadata": {},
   "outputs": [
    {
     "data": {
      "text/html": [
       "<div>\n",
<<<<<<< HEAD
       "<style scoped>\n",
       "    .dataframe tbody tr th:only-of-type {\n",
       "        vertical-align: middle;\n",
       "    }\n",
       "\n",
       "    .dataframe tbody tr th {\n",
       "        vertical-align: top;\n",
       "    }\n",
       "\n",
       "    .dataframe thead th {\n",
       "        text-align: right;\n",
=======
       "<style>\n",
       "    .dataframe thead tr:only-child th {\n",
       "        text-align: right;\n",
       "    }\n",
       "\n",
       "    .dataframe thead th {\n",
       "        text-align: left;\n",
       "    }\n",
       "\n",
       "    .dataframe tbody tr th {\n",
       "        vertical-align: top;\n",
>>>>>>> 09e97300c08ed82afbc3b1ff6711a93f409a91c5
       "    }\n",
       "</style>\n",
       "<table border=\"1\" class=\"dataframe\">\n",
       "  <thead>\n",
       "    <tr style=\"text-align: right;\">\n",
       "      <th></th>\n",
<<<<<<< HEAD
       "      <th>survived</th>\n",
       "      <th>pclass</th>\n",
       "      <th>sex</th>\n",
       "      <th>age</th>\n",
       "      <th>sibsp</th>\n",
       "      <th>parch</th>\n",
       "      <th>fare</th>\n",
       "      <th>embarked</th>\n",
       "      <th>class</th>\n",
       "      <th>who</th>\n",
       "      <th>adult_male</th>\n",
       "      <th>deck</th>\n",
       "      <th>embark_town</th>\n",
       "      <th>alive</th>\n",
       "      <th>alone</th>\n",
=======
       "      <th>PassengerId</th>\n",
       "      <th>Survived</th>\n",
       "      <th>Pclass</th>\n",
       "      <th>Name</th>\n",
       "      <th>Sex</th>\n",
       "      <th>Age</th>\n",
       "      <th>SibSp</th>\n",
       "      <th>Parch</th>\n",
       "      <th>Ticket</th>\n",
       "      <th>Fare</th>\n",
       "      <th>Cabin</th>\n",
       "      <th>Embarked</th>\n",
>>>>>>> 09e97300c08ed82afbc3b1ff6711a93f409a91c5
       "    </tr>\n",
       "  </thead>\n",
       "  <tbody>\n",
       "    <tr>\n",
       "      <th>0</th>\n",
<<<<<<< HEAD
       "      <td>0</td>\n",
       "      <td>3</td>\n",
=======
       "      <td>1</td>\n",
       "      <td>0</td>\n",
       "      <td>3</td>\n",
       "      <td>Braund, Mr. Owen Harris</td>\n",
>>>>>>> 09e97300c08ed82afbc3b1ff6711a93f409a91c5
       "      <td>male</td>\n",
       "      <td>22.0</td>\n",
       "      <td>1</td>\n",
       "      <td>0</td>\n",
<<<<<<< HEAD
       "      <td>7.2500</td>\n",
       "      <td>S</td>\n",
       "      <td>Third</td>\n",
       "      <td>man</td>\n",
       "      <td>True</td>\n",
       "      <td>NaN</td>\n",
       "      <td>Southampton</td>\n",
       "      <td>no</td>\n",
       "      <td>False</td>\n",
       "    </tr>\n",
       "    <tr>\n",
       "      <th>1</th>\n",
       "      <td>1</td>\n",
       "      <td>1</td>\n",
=======
       "      <td>A/5 21171</td>\n",
       "      <td>7.2500</td>\n",
       "      <td>NaN</td>\n",
       "      <td>S</td>\n",
       "    </tr>\n",
       "    <tr>\n",
       "      <th>1</th>\n",
       "      <td>2</td>\n",
       "      <td>1</td>\n",
       "      <td>1</td>\n",
       "      <td>Cumings, Mrs. John Bradley (Florence Briggs Th...</td>\n",
>>>>>>> 09e97300c08ed82afbc3b1ff6711a93f409a91c5
       "      <td>female</td>\n",
       "      <td>38.0</td>\n",
       "      <td>1</td>\n",
       "      <td>0</td>\n",
<<<<<<< HEAD
       "      <td>71.2833</td>\n",
       "      <td>C</td>\n",
       "      <td>First</td>\n",
       "      <td>woman</td>\n",
       "      <td>False</td>\n",
       "      <td>C</td>\n",
       "      <td>Cherbourg</td>\n",
       "      <td>yes</td>\n",
       "      <td>False</td>\n",
       "    </tr>\n",
       "    <tr>\n",
       "      <th>2</th>\n",
       "      <td>1</td>\n",
       "      <td>3</td>\n",
=======
       "      <td>PC 17599</td>\n",
       "      <td>71.2833</td>\n",
       "      <td>C85</td>\n",
       "      <td>C</td>\n",
       "    </tr>\n",
       "    <tr>\n",
       "      <th>2</th>\n",
       "      <td>3</td>\n",
       "      <td>1</td>\n",
       "      <td>3</td>\n",
       "      <td>Heikkinen, Miss. Laina</td>\n",
>>>>>>> 09e97300c08ed82afbc3b1ff6711a93f409a91c5
       "      <td>female</td>\n",
       "      <td>26.0</td>\n",
       "      <td>0</td>\n",
       "      <td>0</td>\n",
<<<<<<< HEAD
       "      <td>7.9250</td>\n",
       "      <td>S</td>\n",
       "      <td>Third</td>\n",
       "      <td>woman</td>\n",
       "      <td>False</td>\n",
       "      <td>NaN</td>\n",
       "      <td>Southampton</td>\n",
       "      <td>yes</td>\n",
       "      <td>True</td>\n",
       "    </tr>\n",
       "    <tr>\n",
       "      <th>3</th>\n",
       "      <td>1</td>\n",
       "      <td>1</td>\n",
=======
       "      <td>STON/O2. 3101282</td>\n",
       "      <td>7.9250</td>\n",
       "      <td>NaN</td>\n",
       "      <td>S</td>\n",
       "    </tr>\n",
       "    <tr>\n",
       "      <th>3</th>\n",
       "      <td>4</td>\n",
       "      <td>1</td>\n",
       "      <td>1</td>\n",
       "      <td>Futrelle, Mrs. Jacques Heath (Lily May Peel)</td>\n",
>>>>>>> 09e97300c08ed82afbc3b1ff6711a93f409a91c5
       "      <td>female</td>\n",
       "      <td>35.0</td>\n",
       "      <td>1</td>\n",
       "      <td>0</td>\n",
<<<<<<< HEAD
       "      <td>53.1000</td>\n",
       "      <td>S</td>\n",
       "      <td>First</td>\n",
       "      <td>woman</td>\n",
       "      <td>False</td>\n",
       "      <td>C</td>\n",
       "      <td>Southampton</td>\n",
       "      <td>yes</td>\n",
       "      <td>False</td>\n",
       "    </tr>\n",
       "    <tr>\n",
       "      <th>4</th>\n",
       "      <td>0</td>\n",
       "      <td>3</td>\n",
=======
       "      <td>113803</td>\n",
       "      <td>53.1000</td>\n",
       "      <td>C123</td>\n",
       "      <td>S</td>\n",
       "    </tr>\n",
       "    <tr>\n",
       "      <th>4</th>\n",
       "      <td>5</td>\n",
       "      <td>0</td>\n",
       "      <td>3</td>\n",
       "      <td>Allen, Mr. William Henry</td>\n",
>>>>>>> 09e97300c08ed82afbc3b1ff6711a93f409a91c5
       "      <td>male</td>\n",
       "      <td>35.0</td>\n",
       "      <td>0</td>\n",
       "      <td>0</td>\n",
<<<<<<< HEAD
       "      <td>8.0500</td>\n",
       "      <td>S</td>\n",
       "      <td>Third</td>\n",
       "      <td>man</td>\n",
       "      <td>True</td>\n",
       "      <td>NaN</td>\n",
       "      <td>Southampton</td>\n",
       "      <td>no</td>\n",
       "      <td>True</td>\n",
=======
       "      <td>373450</td>\n",
       "      <td>8.0500</td>\n",
       "      <td>NaN</td>\n",
       "      <td>S</td>\n",
>>>>>>> 09e97300c08ed82afbc3b1ff6711a93f409a91c5
       "    </tr>\n",
       "  </tbody>\n",
       "</table>\n",
       "</div>"
      ],
      "text/plain": [
<<<<<<< HEAD
       "   survived  pclass     sex   age  sibsp  parch     fare embarked  class  \\\n",
       "0         0       3    male  22.0      1      0   7.2500        S  Third   \n",
       "1         1       1  female  38.0      1      0  71.2833        C  First   \n",
       "2         1       3  female  26.0      0      0   7.9250        S  Third   \n",
       "3         1       1  female  35.0      1      0  53.1000        S  First   \n",
       "4         0       3    male  35.0      0      0   8.0500        S  Third   \n",
       "\n",
       "     who  adult_male deck  embark_town alive  alone  \n",
       "0    man        True  NaN  Southampton    no  False  \n",
       "1  woman       False    C    Cherbourg   yes  False  \n",
       "2  woman       False  NaN  Southampton   yes   True  \n",
       "3  woman       False    C  Southampton   yes  False  \n",
       "4    man        True  NaN  Southampton    no   True  "
      ]
     },
     "execution_count": 11,
=======
       "   PassengerId  Survived  Pclass  \\\n",
       "0            1         0       3   \n",
       "1            2         1       1   \n",
       "2            3         1       3   \n",
       "3            4         1       1   \n",
       "4            5         0       3   \n",
       "\n",
       "                                                Name     Sex   Age  SibSp  \\\n",
       "0                            Braund, Mr. Owen Harris    male  22.0      1   \n",
       "1  Cumings, Mrs. John Bradley (Florence Briggs Th...  female  38.0      1   \n",
       "2                             Heikkinen, Miss. Laina  female  26.0      0   \n",
       "3       Futrelle, Mrs. Jacques Heath (Lily May Peel)  female  35.0      1   \n",
       "4                           Allen, Mr. William Henry    male  35.0      0   \n",
       "\n",
       "   Parch            Ticket     Fare Cabin Embarked  \n",
       "0      0         A/5 21171   7.2500   NaN        S  \n",
       "1      0          PC 17599  71.2833   C85        C  \n",
       "2      0  STON/O2. 3101282   7.9250   NaN        S  \n",
       "3      0            113803  53.1000  C123        S  \n",
       "4      0            373450   8.0500   NaN        S  "
      ]
     },
     "execution_count": 212,
>>>>>>> 09e97300c08ed82afbc3b1ff6711a93f409a91c5
     "metadata": {},
     "output_type": "execute_result"
    }
   ],
   "source": [
    "### user pandas to read the csv (read_csv())\n",
    "### show the top rows\n",
    "\n",
<<<<<<< HEAD
    "titanic = pd.read_csv(path)\n",
=======
    "titanic = \n",
>>>>>>> 09e97300c08ed82afbc3b1ff6711a93f409a91c5
    "titanic.head()"
   ]
  },
  {
   "cell_type": "markdown",
   "metadata": {},
   "source": [
    "#### Columns\n",
    " \n",
    "Those the descriptions of the variables in this dataset:\n",
    "\n",
    "<table>\n",
    "    <tr><th> PassengerId </th><td> type should be integers </td></tr>\n",
    "    <tr><th> Survived </th><td> Survived or Not </td></tr>\n",
    "    <tr><th> Pclass </th><td> Class of Travel </td></tr>\n",
    "    <tr><th> Name </th><td> Name of Passenger </td></tr>\n",
    "    <tr><th> Sex </th><td> Gender </td></tr>\n",
    "    <tr><th> Age </th><td> </td></tr>\n",
    "    <tr><th> SibSp </th><td> Number of Sibling/Spouse abord </td></tr>\n",
    "    <tr><th> Parch </th><td> Number of Parent/Child abord </td></tr>\n",
    "    <tr><th> Ticket </th><td> </td></tr>\n",
    "    <tr><th> Fare </th><td> </td></tr>\n",
    "    <tr><th> Cabin </th><td> </td></tr>\n",
    "    <tr><th> Embarked </th><td> The port in which a passenger has embarked. <br> C - Cherbourg, S - Southampton, Q = Queenstown </td></tr>\n",
    "</table>\n"
   ]
  },
  {
   "cell_type": "markdown",
   "metadata": {},
   "source": [
    "#### Passangers and Survival\n",
    " \n",
    "First, lets check how many passangers are on the Titanic's dataset and how many of them survived?"
   ]
  },
  {
   "cell_type": "code",
<<<<<<< HEAD
   "execution_count": 18,
   "metadata": {},
   "outputs": [
    {
     "ename": "AttributeError",
     "evalue": "'DataFrame' object has no attribute 'passangers'",
     "output_type": "error",
     "traceback": [
      "\u001b[1;31m---------------------------------------------------------------------------\u001b[0m",
      "\u001b[1;31mAttributeError\u001b[0m                            Traceback (most recent call last)",
      "\u001b[1;32m<ipython-input-18-1c0673881edb>\u001b[0m in \u001b[0;36m<module>\u001b[1;34m\u001b[0m\n\u001b[1;32m----> 1\u001b[1;33m \u001b[0mpassangers\u001b[0m \u001b[1;33m=\u001b[0m \u001b[0mtitanic\u001b[0m\u001b[1;33m.\u001b[0m\u001b[0mcount\u001b[0m\u001b[1;33m(\u001b[0m\u001b[0mtitanic\u001b[0m\u001b[1;33m.\u001b[0m\u001b[0mpassangers\u001b[0m\u001b[1;33m)\u001b[0m\u001b[1;33m\u001b[0m\u001b[1;33m\u001b[0m\u001b[0m\n\u001b[0m\u001b[0;32m      2\u001b[0m \u001b[0msurvived\u001b[0m \u001b[1;33m=\u001b[0m \u001b[0msum\u001b[0m \u001b[1;33m(\u001b[0m\u001b[0mtitanic\u001b[0m\u001b[1;33m.\u001b[0m\u001b[0msurvived\u001b[0m\u001b[1;33m)\u001b[0m\u001b[1;33m\u001b[0m\u001b[1;33m\u001b[0m\u001b[0m\n\u001b[0;32m      3\u001b[0m \u001b[1;33m\u001b[0m\u001b[0m\n\u001b[0;32m      4\u001b[0m \u001b[0mprint\u001b[0m\u001b[1;33m(\u001b[0m\u001b[1;34m\"We have %d passangers but only %d of them survived (%f%%)\"\u001b[0m \u001b[1;33m%\u001b[0m \u001b[1;33m(\u001b[0m\u001b[0mpassangers\u001b[0m\u001b[1;33m,\u001b[0m \u001b[0msurvived\u001b[0m\u001b[1;33m,\u001b[0m \u001b[1;33m(\u001b[0m\u001b[0msurvived\u001b[0m\u001b[1;33m/\u001b[0m\u001b[0mpassangers\u001b[0m\u001b[1;33m*\u001b[0m\u001b[1;36m100\u001b[0m\u001b[1;33m)\u001b[0m\u001b[1;33m)\u001b[0m\u001b[1;33m)\u001b[0m\u001b[1;33m\u001b[0m\u001b[1;33m\u001b[0m\u001b[0m\n\u001b[0;32m      5\u001b[0m \u001b[1;33m\u001b[0m\u001b[0m\n",
      "\u001b[1;32m~\\anaconda3\\lib\\site-packages\\pandas\\core\\generic.py\u001b[0m in \u001b[0;36m__getattr__\u001b[1;34m(self, name)\u001b[0m\n\u001b[0;32m   5272\u001b[0m             \u001b[1;32mif\u001b[0m \u001b[0mself\u001b[0m\u001b[1;33m.\u001b[0m\u001b[0m_info_axis\u001b[0m\u001b[1;33m.\u001b[0m\u001b[0m_can_hold_identifiers_and_holds_name\u001b[0m\u001b[1;33m(\u001b[0m\u001b[0mname\u001b[0m\u001b[1;33m)\u001b[0m\u001b[1;33m:\u001b[0m\u001b[1;33m\u001b[0m\u001b[1;33m\u001b[0m\u001b[0m\n\u001b[0;32m   5273\u001b[0m                 \u001b[1;32mreturn\u001b[0m \u001b[0mself\u001b[0m\u001b[1;33m[\u001b[0m\u001b[0mname\u001b[0m\u001b[1;33m]\u001b[0m\u001b[1;33m\u001b[0m\u001b[1;33m\u001b[0m\u001b[0m\n\u001b[1;32m-> 5274\u001b[1;33m             \u001b[1;32mreturn\u001b[0m \u001b[0mobject\u001b[0m\u001b[1;33m.\u001b[0m\u001b[0m__getattribute__\u001b[0m\u001b[1;33m(\u001b[0m\u001b[0mself\u001b[0m\u001b[1;33m,\u001b[0m \u001b[0mname\u001b[0m\u001b[1;33m)\u001b[0m\u001b[1;33m\u001b[0m\u001b[1;33m\u001b[0m\u001b[0m\n\u001b[0m\u001b[0;32m   5275\u001b[0m \u001b[1;33m\u001b[0m\u001b[0m\n\u001b[0;32m   5276\u001b[0m     \u001b[1;32mdef\u001b[0m \u001b[0m__setattr__\u001b[0m\u001b[1;33m(\u001b[0m\u001b[0mself\u001b[0m\u001b[1;33m,\u001b[0m \u001b[0mname\u001b[0m\u001b[1;33m:\u001b[0m \u001b[0mstr\u001b[0m\u001b[1;33m,\u001b[0m \u001b[0mvalue\u001b[0m\u001b[1;33m)\u001b[0m \u001b[1;33m->\u001b[0m \u001b[1;32mNone\u001b[0m\u001b[1;33m:\u001b[0m\u001b[1;33m\u001b[0m\u001b[1;33m\u001b[0m\u001b[0m\n",
      "\u001b[1;31mAttributeError\u001b[0m: 'DataFrame' object has no attribute 'passangers'"
=======
   "execution_count": 213,
   "metadata": {},
   "outputs": [
    {
     "name": "stdout",
     "output_type": "stream",
     "text": [
      "We have 891 passangers but only 342 of them survived (38.383838%)\n"
>>>>>>> 09e97300c08ed82afbc3b1ff6711a93f409a91c5
     ]
    }
   ],
   "source": [
<<<<<<< HEAD
    "passangers = titanic.count(titanic.passangers)\n",
    "survived = sum (titanic.survived)\n",
=======
    "passangers = \n",
    "survived = \n",
>>>>>>> 09e97300c08ed82afbc3b1ff6711a93f409a91c5
    "\n",
    "print(\"We have %d passangers but only %d of them survived (%f%%)\" % (passangers, survived, (survived/passangers*100)))\n",
    "\n"
   ]
  },
  {
   "cell_type": "markdown",
   "metadata": {},
   "source": [
    "Answer: We have 891 passangers but only 342 of them survived (38.383838%)"
   ]
  },
  {
   "cell_type": "markdown",
   "metadata": {},
   "source": [
    "#### Missing values\n",
    " \n",
    "How many missing values are in the dataset?"
   ]
  },
  {
   "cell_type": "code",
<<<<<<< HEAD
   "execution_count": 17,
=======
   "execution_count": 214,
>>>>>>> 09e97300c08ed82afbc3b1ff6711a93f409a91c5
   "metadata": {},
   "outputs": [
    {
     "data": {
      "text/plain": [
<<<<<<< HEAD
       "survived         0\n",
       "pclass           0\n",
       "sex              0\n",
       "age            177\n",
       "sibsp            0\n",
       "parch            0\n",
       "fare             0\n",
       "embarked         2\n",
       "class            0\n",
       "who              0\n",
       "adult_male       0\n",
       "deck           688\n",
       "embark_town      2\n",
       "alive            0\n",
       "alone            0\n",
       "dtype: int64"
      ]
     },
     "execution_count": 17,
=======
       "PassengerId      0\n",
       "Survived         0\n",
       "Pclass           0\n",
       "Name             0\n",
       "Sex              0\n",
       "Age            177\n",
       "SibSp            0\n",
       "Parch            0\n",
       "Ticket           0\n",
       "Fare             0\n",
       "Cabin          687\n",
       "Embarked         2\n",
       "dtype: int64"
      ]
     },
     "execution_count": 214,
>>>>>>> 09e97300c08ed82afbc3b1ff6711a93f409a91c5
     "metadata": {},
     "output_type": "execute_result"
    }
   ],
   "source": [
    "### use the function isnull() and the function sum()\n",
<<<<<<< HEAD
    "titanic.isnull().sum()"
=======
    "titanic."
>>>>>>> 09e97300c08ed82afbc3b1ff6711a93f409a91c5
   ]
  },
  {
   "cell_type": "markdown",
   "metadata": {},
   "source": [
    "Answer: The only variables having missing values are: Age (177), Cabin (687) and Emberked (2)"
   ]
  },
  {
   "cell_type": "markdown",
   "metadata": {},
   "source": [
    "#### Gender distribution and survival\n",
    "\n",
    "How distributed the survivors by gender?"
   ]
  },
  {
   "cell_type": "code",
   "execution_count": 215,
   "metadata": {},
   "outputs": [
    {
     "data": {
      "text/html": [
       "<div>\n",
       "<style>\n",
       "    .dataframe thead tr:only-child th {\n",
       "        text-align: right;\n",
       "    }\n",
       "\n",
       "    .dataframe thead th {\n",
       "        text-align: left;\n",
       "    }\n",
       "\n",
       "    .dataframe tbody tr th {\n",
       "        vertical-align: top;\n",
       "    }\n",
       "</style>\n",
       "<table border=\"1\" class=\"dataframe\">\n",
       "  <thead>\n",
       "    <tr>\n",
       "      <th></th>\n",
       "      <th colspan=\"3\" halign=\"left\">Survived</th>\n",
       "    </tr>\n",
       "    <tr>\n",
       "      <th></th>\n",
       "      <th>count</th>\n",
       "      <th>sum</th>\n",
       "      <th>mean</th>\n",
       "    </tr>\n",
       "    <tr>\n",
       "      <th>Sex</th>\n",
       "      <th></th>\n",
       "      <th></th>\n",
       "      <th></th>\n",
       "    </tr>\n",
       "  </thead>\n",
       "  <tbody>\n",
       "    <tr>\n",
       "      <th>female</th>\n",
       "      <td>314</td>\n",
       "      <td>233</td>\n",
       "      <td>0.742038</td>\n",
       "    </tr>\n",
       "    <tr>\n",
       "      <th>male</th>\n",
       "      <td>577</td>\n",
       "      <td>109</td>\n",
       "      <td>0.188908</td>\n",
       "    </tr>\n",
       "  </tbody>\n",
       "</table>\n",
       "</div>"
      ],
      "text/plain": [
       "       Survived               \n",
       "          count  sum      mean\n",
       "Sex                           \n",
       "female      314  233  0.742038\n",
       "male        577  109  0.188908"
      ]
     },
     "execution_count": 215,
     "metadata": {},
     "output_type": "execute_result"
    }
   ],
   "source": [
    "## use groupby() and agg() to get the table bellow\n",
    "titanic.groupby('Sex').agg({'Survived':['count',sum,'mean']})"
   ]
  },
  {
   "cell_type": "markdown",
   "metadata": {},
   "source": [
    "Survived\n",
    "\n",
    "Sex\t\tcount\tsum\tmean\n",
    "female\t  314\t233\t0.742038\n",
    "male\t  577\t109\t0.188908\n",
    "\n"
   ]
  },
  {
   "cell_type": "markdown",
   "metadata": {},
   "source": [
    "#### Age distribution and survival\n",
    "\n",
    "Plot the Age frequencies of the passangers. (use an histogram)\n"
   ]
  },
  {
   "cell_type": "code",
   "execution_count": 216,
   "metadata": {},
   "outputs": [
    {
     "data": {
      "text/plain": [
       "count    714.000000\n",
       "mean      29.699118\n",
       "std       14.526497\n",
       "min        0.420000\n",
       "25%       20.125000\n",
       "50%       28.000000\n",
       "75%       38.000000\n",
       "max       80.000000\n",
       "Name: Age, dtype: float64"
      ]
     },
     "execution_count": 216,
     "metadata": {},
     "output_type": "execute_result"
    }
   ],
   "source": [
    "titanic['Age'].describe()"
   ]
  },
  {
   "cell_type": "code",
<<<<<<< HEAD
   "execution_count": 21,
   "metadata": {},
   "outputs": [
    {
     "ename": "KeyError",
     "evalue": "'Age'",
     "output_type": "error",
     "traceback": [
      "\u001b[1;31m---------------------------------------------------------------------------\u001b[0m",
      "\u001b[1;31mKeyError\u001b[0m                                  Traceback (most recent call last)",
      "\u001b[1;32m~\\anaconda3\\lib\\site-packages\\pandas\\core\\indexes\\base.py\u001b[0m in \u001b[0;36mget_loc\u001b[1;34m(self, key, method, tolerance)\u001b[0m\n\u001b[0;32m   2645\u001b[0m             \u001b[1;32mtry\u001b[0m\u001b[1;33m:\u001b[0m\u001b[1;33m\u001b[0m\u001b[1;33m\u001b[0m\u001b[0m\n\u001b[1;32m-> 2646\u001b[1;33m                 \u001b[1;32mreturn\u001b[0m \u001b[0mself\u001b[0m\u001b[1;33m.\u001b[0m\u001b[0m_engine\u001b[0m\u001b[1;33m.\u001b[0m\u001b[0mget_loc\u001b[0m\u001b[1;33m(\u001b[0m\u001b[0mkey\u001b[0m\u001b[1;33m)\u001b[0m\u001b[1;33m\u001b[0m\u001b[1;33m\u001b[0m\u001b[0m\n\u001b[0m\u001b[0;32m   2647\u001b[0m             \u001b[1;32mexcept\u001b[0m \u001b[0mKeyError\u001b[0m\u001b[1;33m:\u001b[0m\u001b[1;33m\u001b[0m\u001b[1;33m\u001b[0m\u001b[0m\n",
      "\u001b[1;32mpandas\\_libs\\index.pyx\u001b[0m in \u001b[0;36mpandas._libs.index.IndexEngine.get_loc\u001b[1;34m()\u001b[0m\n",
      "\u001b[1;32mpandas\\_libs\\index.pyx\u001b[0m in \u001b[0;36mpandas._libs.index.IndexEngine.get_loc\u001b[1;34m()\u001b[0m\n",
      "\u001b[1;32mpandas\\_libs\\hashtable_class_helper.pxi\u001b[0m in \u001b[0;36mpandas._libs.hashtable.PyObjectHashTable.get_item\u001b[1;34m()\u001b[0m\n",
      "\u001b[1;32mpandas\\_libs\\hashtable_class_helper.pxi\u001b[0m in \u001b[0;36mpandas._libs.hashtable.PyObjectHashTable.get_item\u001b[1;34m()\u001b[0m\n",
      "\u001b[1;31mKeyError\u001b[0m: 'Age'",
      "\nDuring handling of the above exception, another exception occurred:\n",
      "\u001b[1;31mKeyError\u001b[0m                                  Traceback (most recent call last)",
      "\u001b[1;32m<ipython-input-21-0fd7dd5b68a3>\u001b[0m in \u001b[0;36m<module>\u001b[1;34m\u001b[0m\n\u001b[0;32m      1\u001b[0m \u001b[1;31m### As there are null values in Age, we have to drop those nulls adding the .dropna() function !\u001b[0m\u001b[1;33m\u001b[0m\u001b[1;33m\u001b[0m\u001b[1;33m\u001b[0m\u001b[0m\n\u001b[0;32m      2\u001b[0m \u001b[0mfig\u001b[0m\u001b[1;33m,\u001b[0m \u001b[0max\u001b[0m \u001b[1;33m=\u001b[0m \u001b[0mplt\u001b[0m\u001b[1;33m.\u001b[0m\u001b[0msubplots\u001b[0m\u001b[1;33m(\u001b[0m\u001b[1;33m)\u001b[0m\u001b[1;33m\u001b[0m\u001b[1;33m\u001b[0m\u001b[0m\n\u001b[1;32m----> 3\u001b[1;33m \u001b[0max\u001b[0m\u001b[1;33m.\u001b[0m\u001b[0mhist\u001b[0m\u001b[1;33m(\u001b[0m\u001b[0mx\u001b[0m\u001b[1;33m=\u001b[0m\u001b[0mtitanic\u001b[0m\u001b[1;33m[\u001b[0m\u001b[1;34m'Age'\u001b[0m\u001b[1;33m]\u001b[0m\u001b[1;33m.\u001b[0m\u001b[0mdropna\u001b[0m\u001b[1;33m(\u001b[0m\u001b[1;33m)\u001b[0m\u001b[1;33m)\u001b[0m\u001b[1;33m\u001b[0m\u001b[1;33m\u001b[0m\u001b[0m\n\u001b[0m\u001b[0;32m      4\u001b[0m \u001b[0mplt\u001b[0m\u001b[1;33m.\u001b[0m\u001b[0mshow\u001b[0m\u001b[1;33m(\u001b[0m\u001b[1;33m)\u001b[0m\u001b[1;33m\u001b[0m\u001b[1;33m\u001b[0m\u001b[0m\n",
      "\u001b[1;32m~\\anaconda3\\lib\\site-packages\\pandas\\core\\frame.py\u001b[0m in \u001b[0;36m__getitem__\u001b[1;34m(self, key)\u001b[0m\n\u001b[0;32m   2798\u001b[0m             \u001b[1;32mif\u001b[0m \u001b[0mself\u001b[0m\u001b[1;33m.\u001b[0m\u001b[0mcolumns\u001b[0m\u001b[1;33m.\u001b[0m\u001b[0mnlevels\u001b[0m \u001b[1;33m>\u001b[0m \u001b[1;36m1\u001b[0m\u001b[1;33m:\u001b[0m\u001b[1;33m\u001b[0m\u001b[1;33m\u001b[0m\u001b[0m\n\u001b[0;32m   2799\u001b[0m                 \u001b[1;32mreturn\u001b[0m \u001b[0mself\u001b[0m\u001b[1;33m.\u001b[0m\u001b[0m_getitem_multilevel\u001b[0m\u001b[1;33m(\u001b[0m\u001b[0mkey\u001b[0m\u001b[1;33m)\u001b[0m\u001b[1;33m\u001b[0m\u001b[1;33m\u001b[0m\u001b[0m\n\u001b[1;32m-> 2800\u001b[1;33m             \u001b[0mindexer\u001b[0m \u001b[1;33m=\u001b[0m \u001b[0mself\u001b[0m\u001b[1;33m.\u001b[0m\u001b[0mcolumns\u001b[0m\u001b[1;33m.\u001b[0m\u001b[0mget_loc\u001b[0m\u001b[1;33m(\u001b[0m\u001b[0mkey\u001b[0m\u001b[1;33m)\u001b[0m\u001b[1;33m\u001b[0m\u001b[1;33m\u001b[0m\u001b[0m\n\u001b[0m\u001b[0;32m   2801\u001b[0m             \u001b[1;32mif\u001b[0m \u001b[0mis_integer\u001b[0m\u001b[1;33m(\u001b[0m\u001b[0mindexer\u001b[0m\u001b[1;33m)\u001b[0m\u001b[1;33m:\u001b[0m\u001b[1;33m\u001b[0m\u001b[1;33m\u001b[0m\u001b[0m\n\u001b[0;32m   2802\u001b[0m                 \u001b[0mindexer\u001b[0m \u001b[1;33m=\u001b[0m \u001b[1;33m[\u001b[0m\u001b[0mindexer\u001b[0m\u001b[1;33m]\u001b[0m\u001b[1;33m\u001b[0m\u001b[1;33m\u001b[0m\u001b[0m\n",
      "\u001b[1;32m~\\anaconda3\\lib\\site-packages\\pandas\\core\\indexes\\base.py\u001b[0m in \u001b[0;36mget_loc\u001b[1;34m(self, key, method, tolerance)\u001b[0m\n\u001b[0;32m   2646\u001b[0m                 \u001b[1;32mreturn\u001b[0m \u001b[0mself\u001b[0m\u001b[1;33m.\u001b[0m\u001b[0m_engine\u001b[0m\u001b[1;33m.\u001b[0m\u001b[0mget_loc\u001b[0m\u001b[1;33m(\u001b[0m\u001b[0mkey\u001b[0m\u001b[1;33m)\u001b[0m\u001b[1;33m\u001b[0m\u001b[1;33m\u001b[0m\u001b[0m\n\u001b[0;32m   2647\u001b[0m             \u001b[1;32mexcept\u001b[0m \u001b[0mKeyError\u001b[0m\u001b[1;33m:\u001b[0m\u001b[1;33m\u001b[0m\u001b[1;33m\u001b[0m\u001b[0m\n\u001b[1;32m-> 2648\u001b[1;33m                 \u001b[1;32mreturn\u001b[0m \u001b[0mself\u001b[0m\u001b[1;33m.\u001b[0m\u001b[0m_engine\u001b[0m\u001b[1;33m.\u001b[0m\u001b[0mget_loc\u001b[0m\u001b[1;33m(\u001b[0m\u001b[0mself\u001b[0m\u001b[1;33m.\u001b[0m\u001b[0m_maybe_cast_indexer\u001b[0m\u001b[1;33m(\u001b[0m\u001b[0mkey\u001b[0m\u001b[1;33m)\u001b[0m\u001b[1;33m)\u001b[0m\u001b[1;33m\u001b[0m\u001b[1;33m\u001b[0m\u001b[0m\n\u001b[0m\u001b[0;32m   2649\u001b[0m         \u001b[0mindexer\u001b[0m \u001b[1;33m=\u001b[0m \u001b[0mself\u001b[0m\u001b[1;33m.\u001b[0m\u001b[0mget_indexer\u001b[0m\u001b[1;33m(\u001b[0m\u001b[1;33m[\u001b[0m\u001b[0mkey\u001b[0m\u001b[1;33m]\u001b[0m\u001b[1;33m,\u001b[0m \u001b[0mmethod\u001b[0m\u001b[1;33m=\u001b[0m\u001b[0mmethod\u001b[0m\u001b[1;33m,\u001b[0m \u001b[0mtolerance\u001b[0m\u001b[1;33m=\u001b[0m\u001b[0mtolerance\u001b[0m\u001b[1;33m)\u001b[0m\u001b[1;33m\u001b[0m\u001b[1;33m\u001b[0m\u001b[0m\n\u001b[0;32m   2650\u001b[0m         \u001b[1;32mif\u001b[0m \u001b[0mindexer\u001b[0m\u001b[1;33m.\u001b[0m\u001b[0mndim\u001b[0m \u001b[1;33m>\u001b[0m \u001b[1;36m1\u001b[0m \u001b[1;32mor\u001b[0m \u001b[0mindexer\u001b[0m\u001b[1;33m.\u001b[0m\u001b[0msize\u001b[0m \u001b[1;33m>\u001b[0m \u001b[1;36m1\u001b[0m\u001b[1;33m:\u001b[0m\u001b[1;33m\u001b[0m\u001b[1;33m\u001b[0m\u001b[0m\n",
      "\u001b[1;32mpandas\\_libs\\index.pyx\u001b[0m in \u001b[0;36mpandas._libs.index.IndexEngine.get_loc\u001b[1;34m()\u001b[0m\n",
      "\u001b[1;32mpandas\\_libs\\index.pyx\u001b[0m in \u001b[0;36mpandas._libs.index.IndexEngine.get_loc\u001b[1;34m()\u001b[0m\n",
      "\u001b[1;32mpandas\\_libs\\hashtable_class_helper.pxi\u001b[0m in \u001b[0;36mpandas._libs.hashtable.PyObjectHashTable.get_item\u001b[1;34m()\u001b[0m\n",
      "\u001b[1;32mpandas\\_libs\\hashtable_class_helper.pxi\u001b[0m in \u001b[0;36mpandas._libs.hashtable.PyObjectHashTable.get_item\u001b[1;34m()\u001b[0m\n",
      "\u001b[1;31mKeyError\u001b[0m: 'Age'"
     ]
    },
    {
     "data": {
      "image/png": "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\n",
=======
   "execution_count": 217,
   "metadata": {},
   "outputs": [
    {
     "data": {
      "image/png": "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\n",
>>>>>>> 09e97300c08ed82afbc3b1ff6711a93f409a91c5
      "text/plain": [
       "<Figure size 432x288 with 1 Axes>"
      ]
     },
<<<<<<< HEAD
     "metadata": {
      "needs_background": "light"
     },
=======
     "metadata": {},
>>>>>>> 09e97300c08ed82afbc3b1ff6711a93f409a91c5
     "output_type": "display_data"
    }
   ],
   "source": [
    "### As there are null values in Age, we have to drop those nulls adding the .dropna() function !\n",
    "fig, ax = plt.subplots()\n",
    "ax.hist(x=titanic['Age'].dropna())\n",
    "plt.show()"
   ]
  },
  {
   "cell_type": "code",
<<<<<<< HEAD
   "execution_count": 20,
   "metadata": {},
   "outputs": [
    {
     "ename": "KeyError",
     "evalue": "'Age'",
     "output_type": "error",
     "traceback": [
      "\u001b[1;31m---------------------------------------------------------------------------\u001b[0m",
      "\u001b[1;31mKeyError\u001b[0m                                  Traceback (most recent call last)",
      "\u001b[1;32m~\\anaconda3\\lib\\site-packages\\pandas\\core\\indexes\\base.py\u001b[0m in \u001b[0;36mget_loc\u001b[1;34m(self, key, method, tolerance)\u001b[0m\n\u001b[0;32m   2645\u001b[0m             \u001b[1;32mtry\u001b[0m\u001b[1;33m:\u001b[0m\u001b[1;33m\u001b[0m\u001b[1;33m\u001b[0m\u001b[0m\n\u001b[1;32m-> 2646\u001b[1;33m                 \u001b[1;32mreturn\u001b[0m \u001b[0mself\u001b[0m\u001b[1;33m.\u001b[0m\u001b[0m_engine\u001b[0m\u001b[1;33m.\u001b[0m\u001b[0mget_loc\u001b[0m\u001b[1;33m(\u001b[0m\u001b[0mkey\u001b[0m\u001b[1;33m)\u001b[0m\u001b[1;33m\u001b[0m\u001b[1;33m\u001b[0m\u001b[0m\n\u001b[0m\u001b[0;32m   2647\u001b[0m             \u001b[1;32mexcept\u001b[0m \u001b[0mKeyError\u001b[0m\u001b[1;33m:\u001b[0m\u001b[1;33m\u001b[0m\u001b[1;33m\u001b[0m\u001b[0m\n",
      "\u001b[1;32mpandas\\_libs\\index.pyx\u001b[0m in \u001b[0;36mpandas._libs.index.IndexEngine.get_loc\u001b[1;34m()\u001b[0m\n",
      "\u001b[1;32mpandas\\_libs\\index.pyx\u001b[0m in \u001b[0;36mpandas._libs.index.IndexEngine.get_loc\u001b[1;34m()\u001b[0m\n",
      "\u001b[1;32mpandas\\_libs\\hashtable_class_helper.pxi\u001b[0m in \u001b[0;36mpandas._libs.hashtable.PyObjectHashTable.get_item\u001b[1;34m()\u001b[0m\n",
      "\u001b[1;32mpandas\\_libs\\hashtable_class_helper.pxi\u001b[0m in \u001b[0;36mpandas._libs.hashtable.PyObjectHashTable.get_item\u001b[1;34m()\u001b[0m\n",
      "\u001b[1;31mKeyError\u001b[0m: 'Age'",
      "\nDuring handling of the above exception, another exception occurred:\n",
      "\u001b[1;31mKeyError\u001b[0m                                  Traceback (most recent call last)",
      "\u001b[1;32m<ipython-input-20-cc2aee161a22>\u001b[0m in \u001b[0;36m<module>\u001b[1;34m\u001b[0m\n\u001b[0;32m      1\u001b[0m \u001b[1;31m### A more sophisticated example...\u001b[0m\u001b[1;33m\u001b[0m\u001b[1;33m\u001b[0m\u001b[1;33m\u001b[0m\u001b[0m\n\u001b[1;32m----> 2\u001b[1;33m \u001b[0mn\u001b[0m\u001b[1;33m,\u001b[0m \u001b[0mbins\u001b[0m\u001b[1;33m,\u001b[0m \u001b[0mpatches\u001b[0m \u001b[1;33m=\u001b[0m \u001b[0mplt\u001b[0m\u001b[1;33m.\u001b[0m\u001b[0mhist\u001b[0m\u001b[1;33m(\u001b[0m\u001b[0mx\u001b[0m\u001b[1;33m=\u001b[0m\u001b[0mtitanic\u001b[0m\u001b[1;33m[\u001b[0m\u001b[1;34m'Age'\u001b[0m\u001b[1;33m]\u001b[0m\u001b[1;33m.\u001b[0m\u001b[0mdropna\u001b[0m\u001b[1;33m(\u001b[0m\u001b[1;33m)\u001b[0m\u001b[1;33m,\u001b[0m \u001b[0mbins\u001b[0m\u001b[1;33m=\u001b[0m\u001b[1;34m'auto'\u001b[0m\u001b[1;33m,\u001b[0m \u001b[0mcolor\u001b[0m\u001b[1;33m=\u001b[0m\u001b[1;34m'#0504aa'\u001b[0m\u001b[1;33m,\u001b[0m\u001b[0malpha\u001b[0m\u001b[1;33m=\u001b[0m\u001b[1;36m0.7\u001b[0m\u001b[1;33m,\u001b[0m \u001b[0mrwidth\u001b[0m\u001b[1;33m=\u001b[0m\u001b[1;36m0.85\u001b[0m\u001b[1;33m)\u001b[0m\u001b[1;33m\u001b[0m\u001b[1;33m\u001b[0m\u001b[0m\n\u001b[0m\u001b[0;32m      3\u001b[0m \u001b[0mplt\u001b[0m\u001b[1;33m.\u001b[0m\u001b[0mgrid\u001b[0m\u001b[1;33m(\u001b[0m\u001b[0maxis\u001b[0m\u001b[1;33m=\u001b[0m\u001b[1;34m'y'\u001b[0m\u001b[1;33m,\u001b[0m \u001b[0malpha\u001b[0m\u001b[1;33m=\u001b[0m\u001b[1;36m0.75\u001b[0m\u001b[1;33m)\u001b[0m\u001b[1;33m\u001b[0m\u001b[1;33m\u001b[0m\u001b[0m\n\u001b[0;32m      4\u001b[0m \u001b[0mplt\u001b[0m\u001b[1;33m.\u001b[0m\u001b[0mxlabel\u001b[0m\u001b[1;33m(\u001b[0m\u001b[1;34m'Age'\u001b[0m\u001b[1;33m)\u001b[0m\u001b[1;33m\u001b[0m\u001b[1;33m\u001b[0m\u001b[0m\n\u001b[0;32m      5\u001b[0m \u001b[0mplt\u001b[0m\u001b[1;33m.\u001b[0m\u001b[0mylabel\u001b[0m\u001b[1;33m(\u001b[0m\u001b[1;34m'Frequency'\u001b[0m\u001b[1;33m)\u001b[0m\u001b[1;33m\u001b[0m\u001b[1;33m\u001b[0m\u001b[0m\n",
      "\u001b[1;32m~\\anaconda3\\lib\\site-packages\\pandas\\core\\frame.py\u001b[0m in \u001b[0;36m__getitem__\u001b[1;34m(self, key)\u001b[0m\n\u001b[0;32m   2798\u001b[0m             \u001b[1;32mif\u001b[0m \u001b[0mself\u001b[0m\u001b[1;33m.\u001b[0m\u001b[0mcolumns\u001b[0m\u001b[1;33m.\u001b[0m\u001b[0mnlevels\u001b[0m \u001b[1;33m>\u001b[0m \u001b[1;36m1\u001b[0m\u001b[1;33m:\u001b[0m\u001b[1;33m\u001b[0m\u001b[1;33m\u001b[0m\u001b[0m\n\u001b[0;32m   2799\u001b[0m                 \u001b[1;32mreturn\u001b[0m \u001b[0mself\u001b[0m\u001b[1;33m.\u001b[0m\u001b[0m_getitem_multilevel\u001b[0m\u001b[1;33m(\u001b[0m\u001b[0mkey\u001b[0m\u001b[1;33m)\u001b[0m\u001b[1;33m\u001b[0m\u001b[1;33m\u001b[0m\u001b[0m\n\u001b[1;32m-> 2800\u001b[1;33m             \u001b[0mindexer\u001b[0m \u001b[1;33m=\u001b[0m \u001b[0mself\u001b[0m\u001b[1;33m.\u001b[0m\u001b[0mcolumns\u001b[0m\u001b[1;33m.\u001b[0m\u001b[0mget_loc\u001b[0m\u001b[1;33m(\u001b[0m\u001b[0mkey\u001b[0m\u001b[1;33m)\u001b[0m\u001b[1;33m\u001b[0m\u001b[1;33m\u001b[0m\u001b[0m\n\u001b[0m\u001b[0;32m   2801\u001b[0m             \u001b[1;32mif\u001b[0m \u001b[0mis_integer\u001b[0m\u001b[1;33m(\u001b[0m\u001b[0mindexer\u001b[0m\u001b[1;33m)\u001b[0m\u001b[1;33m:\u001b[0m\u001b[1;33m\u001b[0m\u001b[1;33m\u001b[0m\u001b[0m\n\u001b[0;32m   2802\u001b[0m                 \u001b[0mindexer\u001b[0m \u001b[1;33m=\u001b[0m \u001b[1;33m[\u001b[0m\u001b[0mindexer\u001b[0m\u001b[1;33m]\u001b[0m\u001b[1;33m\u001b[0m\u001b[1;33m\u001b[0m\u001b[0m\n",
      "\u001b[1;32m~\\anaconda3\\lib\\site-packages\\pandas\\core\\indexes\\base.py\u001b[0m in \u001b[0;36mget_loc\u001b[1;34m(self, key, method, tolerance)\u001b[0m\n\u001b[0;32m   2646\u001b[0m                 \u001b[1;32mreturn\u001b[0m \u001b[0mself\u001b[0m\u001b[1;33m.\u001b[0m\u001b[0m_engine\u001b[0m\u001b[1;33m.\u001b[0m\u001b[0mget_loc\u001b[0m\u001b[1;33m(\u001b[0m\u001b[0mkey\u001b[0m\u001b[1;33m)\u001b[0m\u001b[1;33m\u001b[0m\u001b[1;33m\u001b[0m\u001b[0m\n\u001b[0;32m   2647\u001b[0m             \u001b[1;32mexcept\u001b[0m \u001b[0mKeyError\u001b[0m\u001b[1;33m:\u001b[0m\u001b[1;33m\u001b[0m\u001b[1;33m\u001b[0m\u001b[0m\n\u001b[1;32m-> 2648\u001b[1;33m                 \u001b[1;32mreturn\u001b[0m \u001b[0mself\u001b[0m\u001b[1;33m.\u001b[0m\u001b[0m_engine\u001b[0m\u001b[1;33m.\u001b[0m\u001b[0mget_loc\u001b[0m\u001b[1;33m(\u001b[0m\u001b[0mself\u001b[0m\u001b[1;33m.\u001b[0m\u001b[0m_maybe_cast_indexer\u001b[0m\u001b[1;33m(\u001b[0m\u001b[0mkey\u001b[0m\u001b[1;33m)\u001b[0m\u001b[1;33m)\u001b[0m\u001b[1;33m\u001b[0m\u001b[1;33m\u001b[0m\u001b[0m\n\u001b[0m\u001b[0;32m   2649\u001b[0m         \u001b[0mindexer\u001b[0m \u001b[1;33m=\u001b[0m \u001b[0mself\u001b[0m\u001b[1;33m.\u001b[0m\u001b[0mget_indexer\u001b[0m\u001b[1;33m(\u001b[0m\u001b[1;33m[\u001b[0m\u001b[0mkey\u001b[0m\u001b[1;33m]\u001b[0m\u001b[1;33m,\u001b[0m \u001b[0mmethod\u001b[0m\u001b[1;33m=\u001b[0m\u001b[0mmethod\u001b[0m\u001b[1;33m,\u001b[0m \u001b[0mtolerance\u001b[0m\u001b[1;33m=\u001b[0m\u001b[0mtolerance\u001b[0m\u001b[1;33m)\u001b[0m\u001b[1;33m\u001b[0m\u001b[1;33m\u001b[0m\u001b[0m\n\u001b[0;32m   2650\u001b[0m         \u001b[1;32mif\u001b[0m \u001b[0mindexer\u001b[0m\u001b[1;33m.\u001b[0m\u001b[0mndim\u001b[0m \u001b[1;33m>\u001b[0m \u001b[1;36m1\u001b[0m \u001b[1;32mor\u001b[0m \u001b[0mindexer\u001b[0m\u001b[1;33m.\u001b[0m\u001b[0msize\u001b[0m \u001b[1;33m>\u001b[0m \u001b[1;36m1\u001b[0m\u001b[1;33m:\u001b[0m\u001b[1;33m\u001b[0m\u001b[1;33m\u001b[0m\u001b[0m\n",
      "\u001b[1;32mpandas\\_libs\\index.pyx\u001b[0m in \u001b[0;36mpandas._libs.index.IndexEngine.get_loc\u001b[1;34m()\u001b[0m\n",
      "\u001b[1;32mpandas\\_libs\\index.pyx\u001b[0m in \u001b[0;36mpandas._libs.index.IndexEngine.get_loc\u001b[1;34m()\u001b[0m\n",
      "\u001b[1;32mpandas\\_libs\\hashtable_class_helper.pxi\u001b[0m in \u001b[0;36mpandas._libs.hashtable.PyObjectHashTable.get_item\u001b[1;34m()\u001b[0m\n",
      "\u001b[1;32mpandas\\_libs\\hashtable_class_helper.pxi\u001b[0m in \u001b[0;36mpandas._libs.hashtable.PyObjectHashTable.get_item\u001b[1;34m()\u001b[0m\n",
      "\u001b[1;31mKeyError\u001b[0m: 'Age'"
     ]
=======
   "execution_count": 218,
   "metadata": {},
   "outputs": [
    {
     "data": {
      "text/plain": [
       "(0.0, 100.0)"
      ]
     },
     "execution_count": 218,
     "metadata": {},
     "output_type": "execute_result"
    },
    {
     "data": {
      "image/png": "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\n",
      "text/plain": [
       "<Figure size 432x288 with 1 Axes>"
      ]
     },
     "metadata": {},
     "output_type": "display_data"
>>>>>>> 09e97300c08ed82afbc3b1ff6711a93f409a91c5
    }
   ],
   "source": [
    "### A more sophisticated example...\n",
    "n, bins, patches = plt.hist(x=titanic['Age'].dropna(), bins='auto', color='#0504aa',alpha=0.7, rwidth=0.85)\n",
    "plt.grid(axis='y', alpha=0.75)\n",
    "plt.xlabel('Age')\n",
    "plt.ylabel('Frequency')\n",
    "plt.title('Age Distribution of the Titanic Passengers')\n",
    "maxfreq = n.max()\n",
    "# Set a clean upper y-axis limit.\n",
    "plt.ylim(ymax=np.ceil(maxfreq / 10) * 10 if maxfreq % 10 else maxfreq + 10)\n"
   ]
  },
  {
   "cell_type": "code",
<<<<<<< HEAD
   "execution_count": 26,
=======
   "execution_count": 219,
>>>>>>> 09e97300c08ed82afbc3b1ff6711a93f409a91c5
   "metadata": {},
   "outputs": [
    {
     "data": {
      "text/plain": [
<<<<<<< HEAD
       "<matplotlib.axes._subplots.AxesSubplot at 0x241b03cc3c8>"
      ]
     },
     "execution_count": 26,
=======
       "<matplotlib.axes._subplots.AxesSubplot at 0x7faa259ecba8>"
      ]
     },
     "execution_count": 219,
>>>>>>> 09e97300c08ed82afbc3b1ff6711a93f409a91c5
     "metadata": {},
     "output_type": "execute_result"
    },
    {
     "data": {
<<<<<<< HEAD
      "image/png": "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\n",
=======
      "image/png": "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\n",
>>>>>>> 09e97300c08ed82afbc3b1ff6711a93f409a91c5
      "text/plain": [
       "<Figure size 432x288 with 1 Axes>"
      ]
     },
<<<<<<< HEAD
     "metadata": {
      "needs_background": "light"
     },
=======
     "metadata": {},
>>>>>>> 09e97300c08ed82afbc3b1ff6711a93f409a91c5
     "output_type": "display_data"
    }
   ],
   "source": [
    "### using seaborn... easier to create...\n",
<<<<<<< HEAD
    "sns.distplot(titanic.age.dropna())"
=======
    "sns.distplot(...)"
>>>>>>> 09e97300c08ed82afbc3b1ff6711a93f409a91c5
   ]
  },
  {
   "cell_type": "markdown",
   "metadata": {},
   "source": [
    "\n",
    "Create a new variable that will divide the passangers in four age categories:\n",
    "\n",
    "- Babies: 0-5\n",
    "- Children: 6-12 years old\n",
    "- Young: 13-17 years old\n",
    "- Adult: 18-59 years old\n",
    "- Older: 60+ years old\n",
    "\n",
    "How many (number and percent) survived on each age group? (We will use the mean function as the percentage)\n"
   ]
  },
  {
   "cell_type": "code",
<<<<<<< HEAD
   "execution_count": 38,
   "metadata": {},
   "outputs": [
    {
     "ename": "SyntaxError",
     "evalue": "invalid syntax (<ipython-input-38-8817febfbdf7>, line 3)",
     "output_type": "error",
     "traceback": [
      "\u001b[1;36m  File \u001b[1;32m\"<ipython-input-38-8817febfbdf7>\"\u001b[1;36m, line \u001b[1;32m3\u001b[0m\n\u001b[1;33m    titanic.AgeGroup[(titanic.age<60),titanic.AgeGroup='0-6']\u001b[0m\n\u001b[1;37m                                                      ^\u001b[0m\n\u001b[1;31mSyntaxError\u001b[0m\u001b[1;31m:\u001b[0m invalid syntax\n"
     ]
    }
   ],
   "source": [
    "### create the categorical variables\n",
    "titanic['AgeGroup'] = '18-59'\n",
    "titanic.AgeGroup[(titanic.age<60),titanic.AgeGroup='0-6']\n",
    "\n",
    "\n"
   ]
  },
  {
   "cell_type": "code",
   "execution_count": 41,
   "metadata": {},
   "outputs": [],
   "source": [
    "titanic.AgeGroup= titanic.AgeGroup[(titanic.age<60)]=='3'\n"
   ]
  },
  {
   "cell_type": "code",
   "execution_count": 53,
   "metadata": {},
   "outputs": [
    {
     "ename": "SyntaxError",
     "evalue": "invalid syntax (<ipython-input-53-717ba32a4a9d>, line 2)",
     "output_type": "error",
     "traceback": [
      "\u001b[1;36m  File \u001b[1;32m\"<ipython-input-53-717ba32a4a9d>\"\u001b[1;36m, line \u001b[1;32m2\u001b[0m\n\u001b[1;33m    titanic.loc[((titanic['age']>=6),'AgeGroup') & (titanic['age']<13)),'AgeGroup']='6-12'\u001b[0m\n\u001b[1;37m                                                                      ^\u001b[0m\n\u001b[1;31mSyntaxError\u001b[0m\u001b[1;31m:\u001b[0m invalid syntax\n"
     ]
    }
   ],
   "source": [
    "titanic.loc[(titanic['age']<6),'AgeGroup']='0-5'\n",
    "titanic.loc[((titanic['age']>=6),'AgeGroup') & (titanic['age']<13)),'AgeGroup']='6-12'"
   ]
  },
  {
   "cell_type": "code",
   "execution_count": 58,
   "metadata": {},
   "outputs": [],
   "source": [
    "titanic.loc[(titanic['age']>60),'AgeGroup']='>60'\n",
    "titanic.loc[(titanic['age']<49),'AgeGroup']='49-60'\n",
    "titanic.loc[(titanic['age']<49),'AgeGroup']='18-49'\n",
    "titanic.loc[(titanic['age']<17),'AgeGroup']='13-17'\n",
    "titanic.loc[(titanic['age']<12),'AgeGroup']='0-12'"
=======
   "execution_count": 220,
   "metadata": {},
   "outputs": [],
   "source": [
    "### create the categorical variables\n",
    "titanic['AgeGroup'] = '18-59'\n",
    "\n",
    "... your code\n"
>>>>>>> 09e97300c08ed82afbc3b1ff6711a93f409a91c5
   ]
  },
  {
   "cell_type": "code",
<<<<<<< HEAD
   "execution_count": 59,
=======
   "execution_count": 222,
>>>>>>> 09e97300c08ed82afbc3b1ff6711a93f409a91c5
   "metadata": {},
   "outputs": [
    {
     "data": {
      "text/html": [
       "<div>\n",
<<<<<<< HEAD
       "<style scoped>\n",
       "    .dataframe tbody tr th:only-of-type {\n",
       "        vertical-align: middle;\n",
       "    }\n",
       "\n",
       "    .dataframe tbody tr th {\n",
       "        vertical-align: top;\n",
       "    }\n",
       "\n",
       "    .dataframe thead th {\n",
       "        text-align: right;\n",
=======
       "<style>\n",
       "    .dataframe thead tr:only-child th {\n",
       "        text-align: right;\n",
       "    }\n",
       "\n",
       "    .dataframe thead th {\n",
       "        text-align: left;\n",
       "    }\n",
       "\n",
       "    .dataframe tbody tr th {\n",
       "        vertical-align: top;\n",
>>>>>>> 09e97300c08ed82afbc3b1ff6711a93f409a91c5
       "    }\n",
       "</style>\n",
       "<table border=\"1\" class=\"dataframe\">\n",
       "  <thead>\n",
<<<<<<< HEAD
       "    <tr style=\"text-align: right;\">\n",
       "      <th></th>\n",
       "      <th>survived</th>\n",
       "      <th>pclass</th>\n",
       "      <th>sex</th>\n",
       "      <th>age</th>\n",
       "      <th>sibsp</th>\n",
       "      <th>parch</th>\n",
       "      <th>fare</th>\n",
       "      <th>embarked</th>\n",
       "      <th>class</th>\n",
       "      <th>who</th>\n",
       "      <th>adult_male</th>\n",
       "      <th>deck</th>\n",
       "      <th>embark_town</th>\n",
       "      <th>alive</th>\n",
       "      <th>alone</th>\n",
       "    </tr>\n",
       "    <tr>\n",
       "      <th>AgeGroup</th>\n",
       "      <th></th>\n",
       "      <th></th>\n",
       "      <th></th>\n",
       "      <th></th>\n",
       "      <th></th>\n",
       "      <th></th>\n",
       "      <th></th>\n",
       "      <th></th>\n",
       "      <th></th>\n",
       "      <th></th>\n",
       "      <th></th>\n",
       "      <th></th>\n",
=======
       "    <tr>\n",
       "      <th></th>\n",
       "      <th colspan=\"3\" halign=\"left\">Survived</th>\n",
       "    </tr>\n",
       "    <tr>\n",
       "      <th></th>\n",
       "      <th>count</th>\n",
       "      <th>sum</th>\n",
       "      <th>mean</th>\n",
       "    </tr>\n",
       "    <tr>\n",
       "      <th>AgeGroup</th>\n",
>>>>>>> 09e97300c08ed82afbc3b1ff6711a93f409a91c5
       "      <th></th>\n",
       "      <th></th>\n",
       "      <th></th>\n",
       "    </tr>\n",
       "  </thead>\n",
       "  <tbody>\n",
       "    <tr>\n",
<<<<<<< HEAD
       "      <th>False</th>\n",
       "      <td>54</td>\n",
       "      <td>54</td>\n",
       "      <td>54</td>\n",
       "      <td>54</td>\n",
       "      <td>54</td>\n",
       "      <td>54</td>\n",
       "      <td>54</td>\n",
       "      <td>54</td>\n",
       "      <td>54</td>\n",
       "      <td>54</td>\n",
       "      <td>54</td>\n",
       "      <td>29</td>\n",
       "      <td>54</td>\n",
       "      <td>54</td>\n",
       "      <td>54</td>\n",
       "    </tr>\n",
       "    <tr>\n",
       "      <th>0-12</th>\n",
       "      <td>68</td>\n",
       "      <td>68</td>\n",
       "      <td>68</td>\n",
       "      <td>68</td>\n",
       "      <td>68</td>\n",
       "      <td>68</td>\n",
       "      <td>68</td>\n",
       "      <td>68</td>\n",
       "      <td>68</td>\n",
       "      <td>68</td>\n",
       "      <td>68</td>\n",
       "      <td>11</td>\n",
       "      <td>68</td>\n",
       "      <td>68</td>\n",
       "      <td>68</td>\n",
       "    </tr>\n",
       "    <tr>\n",
       "      <th>13-17</th>\n",
       "      <td>32</td>\n",
       "      <td>32</td>\n",
       "      <td>32</td>\n",
       "      <td>32</td>\n",
       "      <td>32</td>\n",
       "      <td>32</td>\n",
       "      <td>32</td>\n",
       "      <td>32</td>\n",
       "      <td>32</td>\n",
       "      <td>32</td>\n",
       "      <td>32</td>\n",
       "      <td>5</td>\n",
       "      <td>32</td>\n",
       "      <td>32</td>\n",
       "      <td>32</td>\n",
       "    </tr>\n",
       "    <tr>\n",
       "      <th>18-49</th>\n",
       "      <td>534</td>\n",
       "      <td>534</td>\n",
       "      <td>534</td>\n",
       "      <td>534</td>\n",
       "      <td>534</td>\n",
       "      <td>534</td>\n",
       "      <td>534</td>\n",
       "      <td>533</td>\n",
       "      <td>534</td>\n",
       "      <td>534</td>\n",
       "      <td>534</td>\n",
       "      <td>126</td>\n",
       "      <td>533</td>\n",
       "      <td>534</td>\n",
       "      <td>534</td>\n",
       "    </tr>\n",
       "    <tr>\n",
       "      <th>&gt;60</th>\n",
       "      <td>22</td>\n",
       "      <td>22</td>\n",
       "      <td>22</td>\n",
       "      <td>22</td>\n",
       "      <td>22</td>\n",
       "      <td>22</td>\n",
       "      <td>22</td>\n",
       "      <td>21</td>\n",
       "      <td>22</td>\n",
       "      <td>22</td>\n",
       "      <td>22</td>\n",
       "      <td>11</td>\n",
       "      <td>21</td>\n",
       "      <td>22</td>\n",
       "      <td>22</td>\n",
=======
       "      <th>0-5</th>\n",
       "      <td>44</td>\n",
       "      <td>31</td>\n",
       "      <td>0.704545</td>\n",
       "    </tr>\n",
       "    <tr>\n",
       "      <th>6-12</th>\n",
       "      <td>25</td>\n",
       "      <td>9</td>\n",
       "      <td>0.360000</td>\n",
       "    </tr>\n",
       "    <tr>\n",
       "      <th>13-17</th>\n",
       "      <td>44</td>\n",
       "      <td>21</td>\n",
       "      <td>0.477273</td>\n",
       "    </tr>\n",
       "    <tr>\n",
       "      <th>18-59</th>\n",
       "      <td>752</td>\n",
       "      <td>274</td>\n",
       "      <td>0.364362</td>\n",
       "    </tr>\n",
       "    <tr>\n",
       "      <th>60+</th>\n",
       "      <td>26</td>\n",
       "      <td>7</td>\n",
       "      <td>0.269231</td>\n",
>>>>>>> 09e97300c08ed82afbc3b1ff6711a93f409a91c5
       "    </tr>\n",
       "  </tbody>\n",
       "</table>\n",
       "</div>"
      ],
      "text/plain": [
<<<<<<< HEAD
       "          survived  pclass  sex  age  sibsp  parch  fare  embarked  class  \\\n",
       "AgeGroup                                                                    \n",
       "False           54      54   54   54     54     54    54        54     54   \n",
       "0-12            68      68   68   68     68     68    68        68     68   \n",
       "13-17           32      32   32   32     32     32    32        32     32   \n",
       "18-49          534     534  534  534    534    534   534       533    534   \n",
       ">60             22      22   22   22     22     22    22        21     22   \n",
       "\n",
       "          who  adult_male  deck  embark_town  alive  alone  \n",
       "AgeGroup                                                    \n",
       "False      54          54    29           54     54     54  \n",
       "0-12       68          68    11           68     68     68  \n",
       "13-17      32          32     5           32     32     32  \n",
       "18-49     534         534   126          533    534    534  \n",
       ">60        22          22    11           21     22     22  "
      ]
     },
     "execution_count": 59,
=======
       "         Survived               \n",
       "            count  sum      mean\n",
       "AgeGroup                        \n",
       " 0-5           44   31  0.704545\n",
       " 6-12          25    9  0.360000\n",
       "13-17          44   21  0.477273\n",
       "18-59         752  274  0.364362\n",
       "60+            26    7  0.269231"
      ]
     },
     "execution_count": 222,
>>>>>>> 09e97300c08ed82afbc3b1ff6711a93f409a91c5
     "metadata": {},
     "output_type": "execute_result"
    }
   ],
   "source": [
<<<<<<< HEAD
    "titanic.groupby('AgeGroup').agg('count')"
=======
    "## use groupby() and agg() to get the table bellow\n",
    "titanic.groupby(...).agg(...)"
   ]
  },
  {
   "cell_type": "markdown",
   "metadata": {},
   "source": [
    "\tSurvived\n",
    "\n",
    "AgeGroup count\tsum\tmean\t\t\t\n",
    "0-5\t      44\t31\t0.704545\n",
    "6-12\t  25\t9\t0.360000\n",
    "13-17\t  44\t21\t0.477273\n",
    "18-59\t  752\t274\t0.364362\n",
    "60+\t      26\t7\t0.269231"
   ]
  },
  {
   "cell_type": "markdown",
   "metadata": {},
   "source": [
    "#### Age-Gender Survival\n",
    "\n",
    "Where there differences on survival by age group and gender?"
>>>>>>> 09e97300c08ed82afbc3b1ff6711a93f409a91c5
   ]
  },
  {
   "cell_type": "code",
<<<<<<< HEAD
   "execution_count": 63,
=======
   "execution_count": 223,
>>>>>>> 09e97300c08ed82afbc3b1ff6711a93f409a91c5
   "metadata": {},
   "outputs": [
    {
     "data": {
      "text/html": [
       "<div>\n",
<<<<<<< HEAD
       "<style scoped>\n",
       "    .dataframe tbody tr th:only-of-type {\n",
       "        vertical-align: middle;\n",
       "    }\n",
       "\n",
       "    .dataframe tbody tr th {\n",
       "        vertical-align: top;\n",
       "    }\n",
       "\n",
       "    .dataframe thead tr th {\n",
       "        text-align: left;\n",
       "    }\n",
       "\n",
       "    .dataframe thead tr:last-of-type th {\n",
       "        text-align: right;\n",
=======
       "<style>\n",
       "    .dataframe thead tr:only-child th {\n",
       "        text-align: right;\n",
       "    }\n",
       "\n",
       "    .dataframe thead th {\n",
       "        text-align: left;\n",
       "    }\n",
       "\n",
       "    .dataframe tbody tr th {\n",
       "        vertical-align: top;\n",
>>>>>>> 09e97300c08ed82afbc3b1ff6711a93f409a91c5
       "    }\n",
       "</style>\n",
       "<table border=\"1\" class=\"dataframe\">\n",
       "  <thead>\n",
       "    <tr>\n",
       "      <th></th>\n",
       "      <th></th>\n",
<<<<<<< HEAD
       "      <th colspan=\"3\" halign=\"left\">survived</th>\n",
=======
       "      <th colspan=\"3\" halign=\"left\">Survived</th>\n",
>>>>>>> 09e97300c08ed82afbc3b1ff6711a93f409a91c5
       "    </tr>\n",
       "    <tr>\n",
       "      <th></th>\n",
       "      <th></th>\n",
       "      <th>count</th>\n",
       "      <th>sum</th>\n",
       "      <th>mean</th>\n",
       "    </tr>\n",
       "    <tr>\n",
<<<<<<< HEAD
       "      <th>sex</th>\n",
=======
       "      <th>Sex</th>\n",
>>>>>>> 09e97300c08ed82afbc3b1ff6711a93f409a91c5
       "      <th>AgeGroup</th>\n",
       "      <th></th>\n",
       "      <th></th>\n",
       "      <th></th>\n",
       "    </tr>\n",
       "  </thead>\n",
       "  <tbody>\n",
       "    <tr>\n",
       "      <th rowspan=\"5\" valign=\"top\">female</th>\n",
<<<<<<< HEAD
       "      <th>False</th>\n",
       "      <td>20</td>\n",
       "      <td>18</td>\n",
       "      <td>0.900000</td>\n",
       "    </tr>\n",
       "    <tr>\n",
       "      <th>0-12</th>\n",
       "      <td>32</td>\n",
       "      <td>19</td>\n",
       "      <td>0.593750</td>\n",
       "    </tr>\n",
       "    <tr>\n",
       "      <th>13-17</th>\n",
       "      <td>17</td>\n",
       "      <td>14</td>\n",
       "      <td>0.823529</td>\n",
       "    </tr>\n",
       "    <tr>\n",
       "      <th>18-49</th>\n",
       "      <td>188</td>\n",
       "      <td>142</td>\n",
       "      <td>0.755319</td>\n",
       "    </tr>\n",
       "    <tr>\n",
       "      <th>&gt;60</th>\n",
       "      <td>3</td>\n",
       "      <td>3</td>\n",
=======
       "      <th>0-5</th>\n",
       "      <td>21</td>\n",
       "      <td>16</td>\n",
       "      <td>0.761905</td>\n",
       "    </tr>\n",
       "    <tr>\n",
       "      <th>6-12</th>\n",
       "      <td>11</td>\n",
       "      <td>3</td>\n",
       "      <td>0.272727</td>\n",
       "    </tr>\n",
       "    <tr>\n",
       "      <th>13-17</th>\n",
       "      <td>23</td>\n",
       "      <td>19</td>\n",
       "      <td>0.826087</td>\n",
       "    </tr>\n",
       "    <tr>\n",
       "      <th>18-59</th>\n",
       "      <td>255</td>\n",
       "      <td>191</td>\n",
       "      <td>0.749020</td>\n",
       "    </tr>\n",
       "    <tr>\n",
       "      <th>60+</th>\n",
       "      <td>4</td>\n",
       "      <td>4</td>\n",
>>>>>>> 09e97300c08ed82afbc3b1ff6711a93f409a91c5
       "      <td>1.000000</td>\n",
       "    </tr>\n",
       "    <tr>\n",
       "      <th rowspan=\"5\" valign=\"top\">male</th>\n",
<<<<<<< HEAD
       "      <th>False</th>\n",
       "      <td>34</td>\n",
       "      <td>6</td>\n",
       "      <td>0.176471</td>\n",
       "    </tr>\n",
       "    <tr>\n",
       "      <th>0-12</th>\n",
       "      <td>36</td>\n",
       "      <td>20</td>\n",
       "      <td>0.555556</td>\n",
       "    </tr>\n",
       "    <tr>\n",
       "      <th>13-17</th>\n",
       "      <td>15</td>\n",
       "      <td>2</td>\n",
       "      <td>0.133333</td>\n",
       "    </tr>\n",
       "    <tr>\n",
       "      <th>18-49</th>\n",
       "      <td>346</td>\n",
       "      <td>62</td>\n",
       "      <td>0.179191</td>\n",
       "    </tr>\n",
       "    <tr>\n",
       "      <th>&gt;60</th>\n",
       "      <td>19</td>\n",
       "      <td>2</td>\n",
       "      <td>0.105263</td>\n",
=======
       "      <th>0-5</th>\n",
       "      <td>23</td>\n",
       "      <td>15</td>\n",
       "      <td>0.652174</td>\n",
       "    </tr>\n",
       "    <tr>\n",
       "      <th>6-12</th>\n",
       "      <td>14</td>\n",
       "      <td>6</td>\n",
       "      <td>0.428571</td>\n",
       "    </tr>\n",
       "    <tr>\n",
       "      <th>13-17</th>\n",
       "      <td>21</td>\n",
       "      <td>2</td>\n",
       "      <td>0.095238</td>\n",
       "    </tr>\n",
       "    <tr>\n",
       "      <th>18-59</th>\n",
       "      <td>497</td>\n",
       "      <td>83</td>\n",
       "      <td>0.167002</td>\n",
       "    </tr>\n",
       "    <tr>\n",
       "      <th>60+</th>\n",
       "      <td>22</td>\n",
       "      <td>3</td>\n",
       "      <td>0.136364</td>\n",
>>>>>>> 09e97300c08ed82afbc3b1ff6711a93f409a91c5
       "    </tr>\n",
       "  </tbody>\n",
       "</table>\n",
       "</div>"
      ],
      "text/plain": [
<<<<<<< HEAD
       "                survived               \n",
       "                   count  sum      mean\n",
       "sex    AgeGroup                        \n",
       "female False          20   18  0.900000\n",
       "       0-12           32   19  0.593750\n",
       "       13-17          17   14  0.823529\n",
       "       18-49         188  142  0.755319\n",
       "       >60             3    3  1.000000\n",
       "male   False          34    6  0.176471\n",
       "       0-12           36   20  0.555556\n",
       "       13-17          15    2  0.133333\n",
       "       18-49         346   62  0.179191\n",
       "       >60            19    2  0.105263"
      ]
     },
     "execution_count": 63,
=======
       "                Survived               \n",
       "                   count  sum      mean\n",
       "Sex    AgeGroup                        \n",
       "female  0-5           21   16  0.761905\n",
       "        6-12          11    3  0.272727\n",
       "       13-17          23   19  0.826087\n",
       "       18-59         255  191  0.749020\n",
       "       60+             4    4  1.000000\n",
       "male    0-5           23   15  0.652174\n",
       "        6-12          14    6  0.428571\n",
       "       13-17          21    2  0.095238\n",
       "       18-59         497   83  0.167002\n",
       "       60+            22    3  0.136364"
      ]
     },
     "execution_count": 223,
>>>>>>> 09e97300c08ed82afbc3b1ff6711a93f409a91c5
     "metadata": {},
     "output_type": "execute_result"
    }
   ],
   "source": [
    "## use groupby() and agg() to get the table bellow\n",
<<<<<<< HEAD
    "titanic.groupby(['sex','AgeGroup']).agg({'survived': ['count',sum,'mean']})"
=======
    "titanic.groupby(...).agg(...)"
>>>>>>> 09e97300c08ed82afbc3b1ff6711a93f409a91c5
   ]
  },
  {
   "cell_type": "markdown",
   "metadata": {},
   "source": [
<<<<<<< HEAD
    "\tSurvived\n",
    "\n",
    "AgeGroup count\tsum\tmean\t\t\t\n",
    "0-5\t      44\t31\t0.704545\n",
    "6-12\t  25\t9\t0.360000\n",
    "13-17\t  44\t21\t0.477273\n",
    "18-59\t  752\t274\t0.364362\n",
    "60+\t      26\t7\t0.269231"
=======
    "Survived\n",
    "\n",
    "Sex\t  AgeGroup count\tsum\tmean\t\t\n",
    "female\t0-5\t    21\t    16\t0.761905\n",
    "        6-12\t11\t    3\t0.272727\n",
    "        13-17\t23\t    19\t0.826087\n",
    "        18-59\t255\t    191\t0.749020\n",
    "        60+\t    4\t    4\t1.000000\n",
    "male\t0-5\t    23\t    15\t0.652174\n",
    "        6-12\t14\t    6\t0.428571\n",
    "        13-17\t21\t    2\t0.095238\n",
    "        18-59\t497\t    83\t0.167002\n",
    "        60+\t    22\t    3\t0.136364"
>>>>>>> 09e97300c08ed82afbc3b1ff6711a93f409a91c5
   ]
  },
  {
   "cell_type": "markdown",
   "metadata": {},
   "source": [
<<<<<<< HEAD
    "#### Age-Gender Survival\n",
    "\n",
    "Where there differences on survival by age group and gender?"
=======
    "#### Passenger Class and Survival\n",
    "\n",
    "Was there any difference in the survival among passangers by their ticket class (Pclass) ?"
>>>>>>> 09e97300c08ed82afbc3b1ff6711a93f409a91c5
   ]
  },
  {
   "cell_type": "code",
<<<<<<< HEAD
   "execution_count": 72,
=======
   "execution_count": 224,
>>>>>>> 09e97300c08ed82afbc3b1ff6711a93f409a91c5
   "metadata": {},
   "outputs": [
    {
     "data": {
      "text/html": [
       "<div>\n",
<<<<<<< HEAD
       "<style scoped>\n",
       "    .dataframe tbody tr th:only-of-type {\n",
       "        vertical-align: middle;\n",
       "    }\n",
       "\n",
       "    .dataframe tbody tr th {\n",
       "        vertical-align: top;\n",
       "    }\n",
       "\n",
       "    .dataframe thead tr th {\n",
       "        text-align: left;\n",
       "    }\n",
       "\n",
       "    .dataframe thead tr:last-of-type th {\n",
       "        text-align: right;\n",
=======
       "<style>\n",
       "    .dataframe thead tr:only-child th {\n",
       "        text-align: right;\n",
       "    }\n",
       "\n",
       "    .dataframe thead th {\n",
       "        text-align: left;\n",
       "    }\n",
       "\n",
       "    .dataframe tbody tr th {\n",
       "        vertical-align: top;\n",
>>>>>>> 09e97300c08ed82afbc3b1ff6711a93f409a91c5
       "    }\n",
       "</style>\n",
       "<table border=\"1\" class=\"dataframe\">\n",
       "  <thead>\n",
       "    <tr>\n",
       "      <th></th>\n",
<<<<<<< HEAD
       "      <th colspan=\"2\" halign=\"left\">survived</th>\n",
       "    </tr>\n",
       "    <tr>\n",
       "      <th></th>\n",
       "      <th>mean</th>\n",
       "      <th>sum</th>\n",
       "    </tr>\n",
       "    <tr>\n",
       "      <th>pclass</th>\n",
=======
       "      <th colspan=\"3\" halign=\"left\">Survived</th>\n",
       "    </tr>\n",
       "    <tr>\n",
       "      <th></th>\n",
       "      <th>count</th>\n",
       "      <th>sum</th>\n",
       "      <th>mean</th>\n",
       "    </tr>\n",
       "    <tr>\n",
       "      <th>Pclass</th>\n",
       "      <th></th>\n",
>>>>>>> 09e97300c08ed82afbc3b1ff6711a93f409a91c5
       "      <th></th>\n",
       "      <th></th>\n",
       "    </tr>\n",
       "  </thead>\n",
       "  <tbody>\n",
       "    <tr>\n",
       "      <th>1</th>\n",
<<<<<<< HEAD
       "      <td>0.629630</td>\n",
       "      <td>136</td>\n",
       "    </tr>\n",
       "    <tr>\n",
       "      <th>2</th>\n",
       "      <td>0.472826</td>\n",
       "      <td>87</td>\n",
       "    </tr>\n",
       "    <tr>\n",
       "      <th>3</th>\n",
       "      <td>0.242363</td>\n",
       "      <td>119</td>\n",
=======
       "      <td>216</td>\n",
       "      <td>136</td>\n",
       "      <td>0.629630</td>\n",
       "    </tr>\n",
       "    <tr>\n",
       "      <th>2</th>\n",
       "      <td>184</td>\n",
       "      <td>87</td>\n",
       "      <td>0.472826</td>\n",
       "    </tr>\n",
       "    <tr>\n",
       "      <th>3</th>\n",
       "      <td>491</td>\n",
       "      <td>119</td>\n",
       "      <td>0.242363</td>\n",
>>>>>>> 09e97300c08ed82afbc3b1ff6711a93f409a91c5
       "    </tr>\n",
       "  </tbody>\n",
       "</table>\n",
       "</div>"
      ],
      "text/plain": [
<<<<<<< HEAD
       "        survived     \n",
       "            mean  sum\n",
       "pclass               \n",
       "1       0.629630  136\n",
       "2       0.472826   87\n",
       "3       0.242363  119"
      ]
     },
     "execution_count": 72,
     "metadata": {},
     "output_type": "execute_result"
    }
   ],
   "source": [
    "## use groupby() and agg() to get the table bellow\n",
    "titanic.groupby(['pclass']).agg({'survived': ['mean',sum]})"
   ]
  },
  {
   "cell_type": "markdown",
   "metadata": {},
   "source": [
    "Survived\n",
    "\n",
    "Sex\t  AgeGroup count\tsum\tmean\t\t\n",
    "female\t0-5\t    21\t    16\t0.761905\n",
    "        6-12\t11\t    3\t0.272727\n",
    "        13-17\t23\t    19\t0.826087\n",
    "        18-59\t255\t    191\t0.749020\n",
    "        60+\t    4\t    4\t1.000000\n",
    "male\t0-5\t    23\t    15\t0.652174\n",
    "        6-12\t14\t    6\t0.428571\n",
    "        13-17\t21\t    2\t0.095238\n",
    "        18-59\t497\t    83\t0.167002\n",
    "        60+\t    22\t    3\t0.136364"
   ]
  },
  {
   "cell_type": "markdown",
   "metadata": {},
   "source": [
    "#### Passenger Class and Survival\n",
    "\n",
    "Was there any difference in the survival among passangers by their ticket class (Pclass) ?"
   ]
  },
  {
   "cell_type": "code",
   "execution_count": 78,
   "metadata": {},
   "outputs": [
    {
     "data": {
      "text/html": [
       "<div>\n",
       "<style scoped>\n",
       "    .dataframe tbody tr th:only-of-type {\n",
       "        vertical-align: middle;\n",
       "    }\n",
       "\n",
       "    .dataframe tbody tr th {\n",
       "        vertical-align: top;\n",
       "    }\n",
       "\n",
       "    .dataframe thead tr th {\n",
       "        text-align: left;\n",
       "    }\n",
       "\n",
       "    .dataframe thead tr:last-of-type th {\n",
       "        text-align: right;\n",
       "    }\n",
       "</style>\n",
       "<table border=\"1\" class=\"dataframe\">\n",
       "  <thead>\n",
       "    <tr>\n",
       "      <th></th>\n",
       "      <th colspan=\"3\" halign=\"left\">survived</th>\n",
       "    </tr>\n",
       "    <tr>\n",
       "      <th></th>\n",
       "      <th>count</th>\n",
       "      <th>mean</th>\n",
       "      <th>sum</th>\n",
       "    </tr>\n",
       "    <tr>\n",
       "      <th>TravelAlone</th>\n",
       "      <th></th>\n",
       "      <th></th>\n",
       "      <th></th>\n",
       "    </tr>\n",
       "  </thead>\n",
       "  <tbody>\n",
       "    <tr>\n",
       "      <th>1</th>\n",
       "      <td>891</td>\n",
       "      <td>0.830527</td>\n",
       "      <td>740</td>\n",
       "    </tr>\n",
       "  </tbody>\n",
       "</table>\n",
       "</div>"
      ],
      "text/plain": [
       "            survived               \n",
       "               count      mean  sum\n",
       "TravelAlone                        \n",
       "1                891  0.830527  740"
      ]
     },
     "execution_count": 78,
=======
       "       Survived               \n",
       "          count  sum      mean\n",
       "Pclass                        \n",
       "1           216  136  0.629630\n",
       "2           184   87  0.472826\n",
       "3           491  119  0.242363"
      ]
     },
     "execution_count": 224,
>>>>>>> 09e97300c08ed82afbc3b1ff6711a93f409a91c5
     "metadata": {},
     "output_type": "execute_result"
    }
   ],
   "source": [
    "## use groupby() and agg() to get the table bellow\n",
<<<<<<< HEAD
    "titanic['TravelAlone']=1\n",
    "#titanic.loc[(titanic.sibsp==0)]=0\n",
    "titanic.loc[(titanic.sibsp==0)&(titanic.parch==0)]=1\n",
    "titanic.groupby(['TravelAlone']).agg({'survived': ['count','mean',sum]})"
   ]
  },
  {
   "cell_type": "code",
   "execution_count": 76,
   "metadata": {},
   "outputs": [],
   "source": [
    "titanic.loc[(titanic.sibsp==0)&(titanic.parch==0)]=0"
=======
    "titanic.groupby(...).agg(...)"
>>>>>>> 09e97300c08ed82afbc3b1ff6711a93f409a91c5
   ]
  },
  {
   "cell_type": "markdown",
   "metadata": {},
   "source": [
    "Survived\n",
    "\n",
    "Pclass\tcount\tsum\tmean\t\t\n",
    "    1\t216\t    136\t0.629630\n",
    "    2\t184\t    87\t0.472826\n",
    "    3\t491\t    119\t0.242363\n"
   ]
  },
  {
   "cell_type": "markdown",
   "metadata": {},
   "source": [
    "#### Traveling alone vs with family\n",
    "\n",
    "Who survived more, individuals that traveled alone or those who traveled with their families?"
   ]
  },
  {
   "cell_type": "code",
   "execution_count": 225,
   "metadata": {},
   "outputs": [
    {
     "data": {
      "text/html": [
       "<div>\n",
       "<style>\n",
       "    .dataframe thead tr:only-child th {\n",
       "        text-align: right;\n",
       "    }\n",
       "\n",
       "    .dataframe thead th {\n",
       "        text-align: left;\n",
       "    }\n",
       "\n",
       "    .dataframe tbody tr th {\n",
       "        vertical-align: top;\n",
       "    }\n",
       "</style>\n",
       "<table border=\"1\" class=\"dataframe\">\n",
       "  <thead>\n",
       "    <tr>\n",
       "      <th></th>\n",
       "      <th colspan=\"3\" halign=\"left\">Survived</th>\n",
       "    </tr>\n",
       "    <tr>\n",
       "      <th></th>\n",
       "      <th>count</th>\n",
       "      <th>sum</th>\n",
       "      <th>mean</th>\n",
       "    </tr>\n",
       "    <tr>\n",
       "      <th>TravelAlone</th>\n",
       "      <th></th>\n",
       "      <th></th>\n",
       "      <th></th>\n",
       "    </tr>\n",
       "  </thead>\n",
       "  <tbody>\n",
       "    <tr>\n",
       "      <th>0</th>\n",
       "      <td>354</td>\n",
       "      <td>179</td>\n",
       "      <td>0.505650</td>\n",
       "    </tr>\n",
       "    <tr>\n",
       "      <th>1</th>\n",
       "      <td>537</td>\n",
       "      <td>163</td>\n",
       "      <td>0.303538</td>\n",
       "    </tr>\n",
       "  </tbody>\n",
       "</table>\n",
       "</div>"
      ],
      "text/plain": [
       "            Survived               \n",
       "               count  sum      mean\n",
       "TravelAlone                        \n",
       "0                354  179  0.505650\n",
       "1                537  163  0.303538"
      ]
     },
     "execution_count": 225,
     "metadata": {},
     "output_type": "execute_result"
    }
   ],
   "source": [
    "# first we have to determine who was alone and who was in family. Use the variables SibSp and Parch\n",
    "titanic['TravelAlone'] = 0\n",
    "...\n",
    "\n",
    "\n",
    "## then use groupby() and agg() to get the table bellow\n",
    "titanic.groupby(...).agg(...)"
   ]
  },
  {
   "cell_type": "markdown",
   "metadata": {},
   "source": [
    "Survived\n",
    "\n",
    "TravelAlone\tcount\tsum\tmean\t\t\n",
    "    0\t     354\t179\t0.505650\n",
    "    1\t     537\t163\t0.303538"
   ]
  },
  {
   "cell_type": "markdown",
   "metadata": {},
   "source": [
    "#### Embarking port and survival\n",
    "\n",
    "Was there any difference in survival related to the embarking port?"
   ]
  },
  {
   "cell_type": "code",
<<<<<<< HEAD
   "execution_count": 79,
=======
   "execution_count": 226,
>>>>>>> 09e97300c08ed82afbc3b1ff6711a93f409a91c5
   "metadata": {},
   "outputs": [
    {
     "data": {
      "text/html": [
       "<div>\n",
<<<<<<< HEAD
       "<style scoped>\n",
       "    .dataframe tbody tr th:only-of-type {\n",
       "        vertical-align: middle;\n",
       "    }\n",
       "\n",
       "    .dataframe tbody tr th {\n",
       "        vertical-align: top;\n",
       "    }\n",
       "\n",
       "    .dataframe thead tr th {\n",
       "        text-align: left;\n",
       "    }\n",
       "\n",
       "    .dataframe thead tr:last-of-type th {\n",
       "        text-align: right;\n",
=======
       "<style>\n",
       "    .dataframe thead tr:only-child th {\n",
       "        text-align: right;\n",
       "    }\n",
       "\n",
       "    .dataframe thead th {\n",
       "        text-align: left;\n",
       "    }\n",
       "\n",
       "    .dataframe tbody tr th {\n",
       "        vertical-align: top;\n",
>>>>>>> 09e97300c08ed82afbc3b1ff6711a93f409a91c5
       "    }\n",
       "</style>\n",
       "<table border=\"1\" class=\"dataframe\">\n",
       "  <thead>\n",
       "    <tr>\n",
       "      <th></th>\n",
<<<<<<< HEAD
       "      <th colspan=\"3\" halign=\"left\">survived</th>\n",
       "    </tr>\n",
       "    <tr>\n",
       "      <th></th>\n",
       "      <th>sum</th>\n",
       "      <th>mean</th>\n",
       "      <th>count</th>\n",
       "    </tr>\n",
       "    <tr>\n",
       "      <th>embarked</th>\n",
=======
       "      <th colspan=\"3\" halign=\"left\">Survived</th>\n",
       "    </tr>\n",
       "    <tr>\n",
       "      <th></th>\n",
       "      <th>count</th>\n",
       "      <th>sum</th>\n",
       "      <th>mean</th>\n",
       "    </tr>\n",
       "    <tr>\n",
       "      <th>Embarked</th>\n",
>>>>>>> 09e97300c08ed82afbc3b1ff6711a93f409a91c5
       "      <th></th>\n",
       "      <th></th>\n",
       "      <th></th>\n",
       "    </tr>\n",
       "  </thead>\n",
       "  <tbody>\n",
       "    <tr>\n",
<<<<<<< HEAD
       "      <th>1</th>\n",
       "      <td>608</td>\n",
       "      <td>1.000000</td>\n",
       "      <td>608</td>\n",
       "    </tr>\n",
       "    <tr>\n",
       "      <th>C</th>\n",
       "      <td>41</td>\n",
       "      <td>0.694915</td>\n",
       "      <td>59</td>\n",
       "    </tr>\n",
       "    <tr>\n",
       "      <th>Q</th>\n",
       "      <td>7</td>\n",
       "      <td>0.388889</td>\n",
       "      <td>18</td>\n",
       "    </tr>\n",
       "    <tr>\n",
       "      <th>S</th>\n",
       "      <td>84</td>\n",
       "      <td>0.407767</td>\n",
       "      <td>206</td>\n",
=======
       "      <th>C</th>\n",
       "      <td>168</td>\n",
       "      <td>93</td>\n",
       "      <td>0.553571</td>\n",
       "    </tr>\n",
       "    <tr>\n",
       "      <th>Q</th>\n",
       "      <td>77</td>\n",
       "      <td>30</td>\n",
       "      <td>0.389610</td>\n",
       "    </tr>\n",
       "    <tr>\n",
       "      <th>S</th>\n",
       "      <td>644</td>\n",
       "      <td>217</td>\n",
       "      <td>0.336957</td>\n",
>>>>>>> 09e97300c08ed82afbc3b1ff6711a93f409a91c5
       "    </tr>\n",
       "  </tbody>\n",
       "</table>\n",
       "</div>"
      ],
      "text/plain": [
<<<<<<< HEAD
       "         survived                \n",
       "              sum      mean count\n",
       "embarked                         \n",
       "1             608  1.000000   608\n",
       "C              41  0.694915    59\n",
       "Q               7  0.388889    18\n",
       "S              84  0.407767   206"
      ]
     },
     "execution_count": 79,
=======
       "         Survived               \n",
       "            count  sum      mean\n",
       "Embarked                        \n",
       "C             168   93  0.553571\n",
       "Q              77   30  0.389610\n",
       "S             644  217  0.336957"
      ]
     },
     "execution_count": 226,
>>>>>>> 09e97300c08ed82afbc3b1ff6711a93f409a91c5
     "metadata": {},
     "output_type": "execute_result"
    }
   ],
   "source": [
    "## use groupby() and agg() to get the table bellow\n",
<<<<<<< HEAD
    "titanic.groupby('embarked').agg({'survived': [sum,'mean','count']})"
=======
    "titanic.groupby(...).agg(...)"
>>>>>>> 09e97300c08ed82afbc3b1ff6711a93f409a91c5
   ]
  },
  {
   "cell_type": "markdown",
   "metadata": {},
   "source": [
    "Survived\n",
    "\n",
    "Embarked  count\tsum\tmean\t\t\t\n",
    "    C\t   168\t93\t0.553571\n",
    "    Q\t    77\t30\t0.389610\n",
    "    S\t   644\t217\t0.336957"
   ]
  },
  {
   "cell_type": "markdown",
   "metadata": {},
   "source": [
    "#### Paid fair and survival\n",
    "\n",
    "What was the fare range paid by the passangers?\n"
   ]
  },
  {
   "cell_type": "code",
<<<<<<< HEAD
   "execution_count": 89,
=======
   "execution_count": 227,
>>>>>>> 09e97300c08ed82afbc3b1ff6711a93f409a91c5
   "metadata": {},
   "outputs": [
    {
     "data": {
<<<<<<< HEAD
      "text/plain": [
       "count    891.000000\n",
       "mean      15.354878\n",
       "std       33.682778\n",
       "min        1.000000\n",
       "25%        1.000000\n",
       "50%        1.000000\n",
       "75%       16.100000\n",
       "max      263.000000\n",
       "Name: fare, dtype: float64"
      ]
     },
     "execution_count": 89,
     "metadata": {},
     "output_type": "execute_result"
    },
    {
     "data": {
      "image/png": "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\n",
=======
      "image/png": "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\n",
>>>>>>> 09e97300c08ed82afbc3b1ff6711a93f409a91c5
      "text/plain": [
       "<Figure size 432x288 with 1 Axes>"
      ]
     },
<<<<<<< HEAD
     "metadata": {
      "needs_background": "light"
     },
=======
     "metadata": {},
>>>>>>> 09e97300c08ed82afbc3b1ff6711a93f409a91c5
     "output_type": "display_data"
    }
   ],
   "source": [
    "#### use describe() to get the summary of the Fare variable\n",
<<<<<<< HEAD
    "sns.distplot(titanic['fare'].dropna())\n",
    "titanic.fare.describe()\n",
=======
    "...\n",
    "\n",
>>>>>>> 09e97300c08ed82afbc3b1ff6711a93f409a91c5
    "### draw an histogram for the Fare variable. \n",
    "\n"
   ]
  },
  {
   "cell_type": "markdown",
   "metadata": {},
   "source": [
    "How many individuals didn't paid for their ticket?\n",
    " \n",
    "Does this affected their survival?"
   ]
  },
  {
   "cell_type": "code",
<<<<<<< HEAD
   "execution_count": 94,
   "metadata": {},
   "outputs": [
    {
     "data": {
      "text/plain": [
       "0"
      ]
     },
     "execution_count": 94,
     "metadata": {},
     "output_type": "execute_result"
    }
   ],
   "source": [
    "### get the number of those with a Fare == 0\n",
    "len(titanic.loc[titanic.fare==0],)\n",
    "#t=(titanic['fare']==0).count\n",
    "#print (t)"
   ]
  },
  {
   "cell_type": "code",
   "execution_count": 100,
   "metadata": {},
   "outputs": [
    {
     "ename": "SyntaxError",
     "evalue": "invalid syntax (<ipython-input-100-daa574dfa6bc>, line 3)",
     "output_type": "error",
     "traceback": [
      "\u001b[1;36m  File \u001b[1;32m\"<ipython-input-100-daa574dfa6bc>\"\u001b[1;36m, line \u001b[1;32m3\u001b[0m\n\u001b[1;33m    titanic.loc[titanic.fare==0,'Gratis'=1]\u001b[0m\n\u001b[1;37m                                        ^\u001b[0m\n\u001b[1;31mSyntaxError\u001b[0m\u001b[1;31m:\u001b[0m invalid syntax\n"
=======
   "execution_count": 228,
   "metadata": {},
   "outputs": [
    {
     "name": "stdout",
     "output_type": "stream",
     "text": [
      "15\n"
>>>>>>> 09e97300c08ed82afbc3b1ff6711a93f409a91c5
     ]
    }
   ],
   "source": [
<<<<<<< HEAD
    "### Create a new variable called Gratis and give 1 to passangers who didn't pay\n",
    "titanic['Gratis'] = 0\n",
    "titanic.loc[titanic.fare==0,'Gratis']=1\n",
    "titanic.groupby('Gratis').agg({'survived': [sum,'mean','count']})\n",
    "## then use groupby() and agg() to get the table bellow\n",
=======
    "### get the number of those with a Fare == 0\n",
>>>>>>> 09e97300c08ed82afbc3b1ff6711a93f409a91c5
    "..."
   ]
  },
  {
   "cell_type": "code",
<<<<<<< HEAD
   "execution_count": 99,
=======
   "execution_count": 229,
>>>>>>> 09e97300c08ed82afbc3b1ff6711a93f409a91c5
   "metadata": {},
   "outputs": [
    {
     "data": {
      "text/html": [
       "<div>\n",
<<<<<<< HEAD
       "<style scoped>\n",
       "    .dataframe tbody tr th:only-of-type {\n",
       "        vertical-align: middle;\n",
       "    }\n",
       "\n",
       "    .dataframe tbody tr th {\n",
       "        vertical-align: top;\n",
       "    }\n",
       "\n",
       "    .dataframe thead th {\n",
       "        text-align: right;\n",
=======
       "<style>\n",
       "    .dataframe thead tr:only-child th {\n",
       "        text-align: right;\n",
       "    }\n",
       "\n",
       "    .dataframe thead th {\n",
       "        text-align: left;\n",
       "    }\n",
       "\n",
       "    .dataframe tbody tr th {\n",
       "        vertical-align: top;\n",
>>>>>>> 09e97300c08ed82afbc3b1ff6711a93f409a91c5
       "    }\n",
       "</style>\n",
       "<table border=\"1\" class=\"dataframe\">\n",
       "  <thead>\n",
<<<<<<< HEAD
       "    <tr style=\"text-align: right;\">\n",
       "      <th></th>\n",
       "      <th>survived</th>\n",
       "      <th>pclass</th>\n",
       "      <th>sex</th>\n",
       "      <th>age</th>\n",
       "      <th>sibsp</th>\n",
       "      <th>parch</th>\n",
       "      <th>fare</th>\n",
       "      <th>embarked</th>\n",
       "      <th>class</th>\n",
       "      <th>who</th>\n",
       "      <th>adult_male</th>\n",
       "      <th>deck</th>\n",
       "      <th>embark_town</th>\n",
       "      <th>alive</th>\n",
       "      <th>alone</th>\n",
       "      <th>AgeGroup</th>\n",
       "      <th>TravelAlone</th>\n",
       "      <th>Gratis</th>\n",
=======
       "    <tr>\n",
       "      <th></th>\n",
       "      <th colspan=\"3\" halign=\"left\">Survived</th>\n",
       "    </tr>\n",
       "    <tr>\n",
       "      <th></th>\n",
       "      <th>count</th>\n",
       "      <th>sum</th>\n",
       "      <th>mean</th>\n",
       "    </tr>\n",
       "    <tr>\n",
       "      <th>Gratis</th>\n",
       "      <th></th>\n",
       "      <th></th>\n",
       "      <th></th>\n",
>>>>>>> 09e97300c08ed82afbc3b1ff6711a93f409a91c5
       "    </tr>\n",
       "  </thead>\n",
       "  <tbody>\n",
       "    <tr>\n",
       "      <th>0</th>\n",
<<<<<<< HEAD
       "      <td>0</td>\n",
       "      <td>3</td>\n",
       "      <td>male</td>\n",
       "      <td>22.0</td>\n",
       "      <td>1</td>\n",
       "      <td>0</td>\n",
       "      <td>7.2500</td>\n",
       "      <td>S</td>\n",
       "      <td>Third</td>\n",
       "      <td>man</td>\n",
       "      <td>True</td>\n",
       "      <td>NaN</td>\n",
       "      <td>Southampton</td>\n",
       "      <td>no</td>\n",
       "      <td>False</td>\n",
       "      <td>18-49</td>\n",
       "      <td>1</td>\n",
       "      <td>0</td>\n",
       "    </tr>\n",
       "    <tr>\n",
       "      <th>1</th>\n",
       "      <td>1</td>\n",
       "      <td>1</td>\n",
       "      <td>female</td>\n",
       "      <td>38.0</td>\n",
       "      <td>1</td>\n",
       "      <td>0</td>\n",
       "      <td>71.2833</td>\n",
       "      <td>C</td>\n",
       "      <td>First</td>\n",
       "      <td>woman</td>\n",
       "      <td>False</td>\n",
       "      <td>C</td>\n",
       "      <td>Cherbourg</td>\n",
       "      <td>yes</td>\n",
       "      <td>False</td>\n",
       "      <td>18-49</td>\n",
       "      <td>1</td>\n",
       "      <td>0</td>\n",
       "    </tr>\n",
       "    <tr>\n",
       "      <th>2</th>\n",
       "      <td>1</td>\n",
       "      <td>1</td>\n",
       "      <td>1</td>\n",
       "      <td>1.0</td>\n",
       "      <td>1</td>\n",
       "      <td>1</td>\n",
       "      <td>1.0000</td>\n",
       "      <td>1</td>\n",
       "      <td>1</td>\n",
       "      <td>1</td>\n",
       "      <td>1</td>\n",
       "      <td>1</td>\n",
       "      <td>1</td>\n",
       "      <td>1</td>\n",
       "      <td>1</td>\n",
       "      <td>1</td>\n",
       "      <td>1</td>\n",
       "      <td>0</td>\n",
       "    </tr>\n",
       "    <tr>\n",
       "      <th>3</th>\n",
       "      <td>1</td>\n",
       "      <td>1</td>\n",
       "      <td>female</td>\n",
       "      <td>35.0</td>\n",
       "      <td>1</td>\n",
       "      <td>0</td>\n",
       "      <td>53.1000</td>\n",
       "      <td>S</td>\n",
       "      <td>First</td>\n",
       "      <td>woman</td>\n",
       "      <td>False</td>\n",
       "      <td>C</td>\n",
       "      <td>Southampton</td>\n",
       "      <td>yes</td>\n",
       "      <td>False</td>\n",
       "      <td>18-49</td>\n",
       "      <td>1</td>\n",
       "      <td>0</td>\n",
       "    </tr>\n",
       "    <tr>\n",
       "      <th>4</th>\n",
       "      <td>1</td>\n",
       "      <td>1</td>\n",
       "      <td>1</td>\n",
       "      <td>1.0</td>\n",
       "      <td>1</td>\n",
       "      <td>1</td>\n",
       "      <td>1.0000</td>\n",
       "      <td>1</td>\n",
       "      <td>1</td>\n",
       "      <td>1</td>\n",
       "      <td>1</td>\n",
       "      <td>1</td>\n",
       "      <td>1</td>\n",
       "      <td>1</td>\n",
       "      <td>1</td>\n",
       "      <td>1</td>\n",
       "      <td>1</td>\n",
       "      <td>0</td>\n",
       "    </tr>\n",
       "    <tr>\n",
       "      <th>...</th>\n",
       "      <td>...</td>\n",
       "      <td>...</td>\n",
       "      <td>...</td>\n",
       "      <td>...</td>\n",
       "      <td>...</td>\n",
       "      <td>...</td>\n",
       "      <td>...</td>\n",
       "      <td>...</td>\n",
       "      <td>...</td>\n",
       "      <td>...</td>\n",
       "      <td>...</td>\n",
       "      <td>...</td>\n",
       "      <td>...</td>\n",
       "      <td>...</td>\n",
       "      <td>...</td>\n",
       "      <td>...</td>\n",
       "      <td>...</td>\n",
       "      <td>...</td>\n",
       "    </tr>\n",
       "    <tr>\n",
       "      <th>886</th>\n",
       "      <td>1</td>\n",
       "      <td>1</td>\n",
       "      <td>1</td>\n",
       "      <td>1.0</td>\n",
       "      <td>1</td>\n",
       "      <td>1</td>\n",
       "      <td>1.0000</td>\n",
       "      <td>1</td>\n",
       "      <td>1</td>\n",
       "      <td>1</td>\n",
       "      <td>1</td>\n",
       "      <td>1</td>\n",
       "      <td>1</td>\n",
       "      <td>1</td>\n",
       "      <td>1</td>\n",
       "      <td>1</td>\n",
       "      <td>1</td>\n",
       "      <td>0</td>\n",
       "    </tr>\n",
       "    <tr>\n",
       "      <th>887</th>\n",
       "      <td>1</td>\n",
       "      <td>1</td>\n",
       "      <td>1</td>\n",
       "      <td>1.0</td>\n",
       "      <td>1</td>\n",
       "      <td>1</td>\n",
       "      <td>1.0000</td>\n",
       "      <td>1</td>\n",
       "      <td>1</td>\n",
       "      <td>1</td>\n",
       "      <td>1</td>\n",
       "      <td>1</td>\n",
       "      <td>1</td>\n",
       "      <td>1</td>\n",
       "      <td>1</td>\n",
       "      <td>1</td>\n",
       "      <td>1</td>\n",
       "      <td>0</td>\n",
       "    </tr>\n",
       "    <tr>\n",
       "      <th>888</th>\n",
       "      <td>0</td>\n",
       "      <td>3</td>\n",
       "      <td>female</td>\n",
       "      <td>NaN</td>\n",
       "      <td>1</td>\n",
       "      <td>2</td>\n",
       "      <td>23.4500</td>\n",
       "      <td>S</td>\n",
       "      <td>Third</td>\n",
       "      <td>woman</td>\n",
       "      <td>False</td>\n",
       "      <td>NaN</td>\n",
       "      <td>Southampton</td>\n",
       "      <td>no</td>\n",
       "      <td>False</td>\n",
       "      <td>NaN</td>\n",
       "      <td>1</td>\n",
       "      <td>0</td>\n",
       "    </tr>\n",
       "    <tr>\n",
       "      <th>889</th>\n",
       "      <td>1</td>\n",
       "      <td>1</td>\n",
       "      <td>1</td>\n",
       "      <td>1.0</td>\n",
       "      <td>1</td>\n",
       "      <td>1</td>\n",
       "      <td>1.0000</td>\n",
       "      <td>1</td>\n",
       "      <td>1</td>\n",
       "      <td>1</td>\n",
       "      <td>1</td>\n",
       "      <td>1</td>\n",
       "      <td>1</td>\n",
       "      <td>1</td>\n",
       "      <td>1</td>\n",
       "      <td>1</td>\n",
       "      <td>1</td>\n",
       "      <td>0</td>\n",
       "    </tr>\n",
       "    <tr>\n",
       "      <th>890</th>\n",
       "      <td>1</td>\n",
       "      <td>1</td>\n",
       "      <td>1</td>\n",
       "      <td>1.0</td>\n",
       "      <td>1</td>\n",
       "      <td>1</td>\n",
       "      <td>1.0000</td>\n",
       "      <td>1</td>\n",
       "      <td>1</td>\n",
       "      <td>1</td>\n",
       "      <td>1</td>\n",
       "      <td>1</td>\n",
       "      <td>1</td>\n",
       "      <td>1</td>\n",
       "      <td>1</td>\n",
       "      <td>1</td>\n",
       "      <td>1</td>\n",
       "      <td>0</td>\n",
       "    </tr>\n",
       "  </tbody>\n",
       "</table>\n",
       "<p>891 rows × 18 columns</p>\n",
       "</div>"
      ],
      "text/plain": [
       "     survived  pclass     sex   age  sibsp  parch     fare embarked  class  \\\n",
       "0           0       3    male  22.0      1      0   7.2500        S  Third   \n",
       "1           1       1  female  38.0      1      0  71.2833        C  First   \n",
       "2           1       1       1   1.0      1      1   1.0000        1      1   \n",
       "3           1       1  female  35.0      1      0  53.1000        S  First   \n",
       "4           1       1       1   1.0      1      1   1.0000        1      1   \n",
       "..        ...     ...     ...   ...    ...    ...      ...      ...    ...   \n",
       "886         1       1       1   1.0      1      1   1.0000        1      1   \n",
       "887         1       1       1   1.0      1      1   1.0000        1      1   \n",
       "888         0       3  female   NaN      1      2  23.4500        S  Third   \n",
       "889         1       1       1   1.0      1      1   1.0000        1      1   \n",
       "890         1       1       1   1.0      1      1   1.0000        1      1   \n",
       "\n",
       "       who adult_male deck  embark_town alive  alone AgeGroup  TravelAlone  \\\n",
       "0      man       True  NaN  Southampton    no  False    18-49            1   \n",
       "1    woman      False    C    Cherbourg   yes  False    18-49            1   \n",
       "2        1          1    1            1     1      1        1            1   \n",
       "3    woman      False    C  Southampton   yes  False    18-49            1   \n",
       "4        1          1    1            1     1      1        1            1   \n",
       "..     ...        ...  ...          ...   ...    ...      ...          ...   \n",
       "886      1          1    1            1     1      1        1            1   \n",
       "887      1          1    1            1     1      1        1            1   \n",
       "888  woman      False  NaN  Southampton    no  False      NaN            1   \n",
       "889      1          1    1            1     1      1        1            1   \n",
       "890      1          1    1            1     1      1        1            1   \n",
       "\n",
       "     Gratis  \n",
       "0         0  \n",
       "1         0  \n",
       "2         0  \n",
       "3         0  \n",
       "4         0  \n",
       "..      ...  \n",
       "886       0  \n",
       "887       0  \n",
       "888       0  \n",
       "889       0  \n",
       "890       0  \n",
       "\n",
       "[891 rows x 18 columns]"
      ]
     },
     "execution_count": 99,
=======
       "      <td>876</td>\n",
       "      <td>341</td>\n",
       "      <td>0.389269</td>\n",
       "    </tr>\n",
       "    <tr>\n",
       "      <th>1</th>\n",
       "      <td>15</td>\n",
       "      <td>1</td>\n",
       "      <td>0.066667</td>\n",
       "    </tr>\n",
       "  </tbody>\n",
       "</table>\n",
       "</div>"
      ],
      "text/plain": [
       "       Survived               \n",
       "          count  sum      mean\n",
       "Gratis                        \n",
       "0           876  341  0.389269\n",
       "1            15    1  0.066667"
      ]
     },
     "execution_count": 229,
>>>>>>> 09e97300c08ed82afbc3b1ff6711a93f409a91c5
     "metadata": {},
     "output_type": "execute_result"
    }
   ],
   "source": [
<<<<<<< HEAD
    "titanic"
=======
    "### Create a new variable called Gratis and give 1 to passangers who didn't pay\n",
    "titanic['Gratis'] = 0\n",
    "....\n",
    "\n",
    "## then use groupby() and agg() to get the table bellow\n",
    "..."
>>>>>>> 09e97300c08ed82afbc3b1ff6711a93f409a91c5
   ]
  },
  {
   "cell_type": "markdown",
   "metadata": {},
   "source": [
    "Where there differences in fare rates among the same ticket classes? \n",
    " \n",
    "If the answer was yes, does those differences affected the survival of individuals?"
   ]
  },
  {
   "cell_type": "code",
<<<<<<< HEAD
   "execution_count": 104,
   "metadata": {},
   "outputs": [
    {
     "data": {
      "text/plain": [
       "count    891.000000\n",
       "mean      15.354878\n",
       "std       33.682778\n",
       "min        1.000000\n",
       "25%        1.000000\n",
       "50%        1.000000\n",
       "75%       16.100000\n",
       "max      263.000000\n",
       "Name: fare, dtype: float64"
      ]
     },
     "execution_count": 104,
     "metadata": {},
     "output_type": "execute_result"
    }
   ],
   "source": [
    "\n",
    "titanic['fare'].describe()\n",
    "titanic.groupby('embarked').agg({'survived': [sum,'mean','count']})"
   ]
  },
  {
   "cell_type": "code",
   "execution_count": 112,
=======
   "execution_count": 230,
>>>>>>> 09e97300c08ed82afbc3b1ff6711a93f409a91c5
   "metadata": {},
   "outputs": [
    {
     "data": {
      "text/html": [
       "<div>\n",
<<<<<<< HEAD
       "<style scoped>\n",
       "    .dataframe tbody tr th:only-of-type {\n",
       "        vertical-align: middle;\n",
       "    }\n",
       "\n",
       "    .dataframe tbody tr th {\n",
       "        vertical-align: top;\n",
       "    }\n",
       "\n",
       "    .dataframe thead tr th {\n",
       "        text-align: left;\n",
       "    }\n",
       "\n",
       "    .dataframe thead tr:last-of-type th {\n",
       "        text-align: right;\n",
=======
       "<style>\n",
       "    .dataframe thead tr:only-child th {\n",
       "        text-align: right;\n",
       "    }\n",
       "\n",
       "    .dataframe thead th {\n",
       "        text-align: left;\n",
       "    }\n",
       "\n",
       "    .dataframe tbody tr th {\n",
       "        vertical-align: top;\n",
>>>>>>> 09e97300c08ed82afbc3b1ff6711a93f409a91c5
       "    }\n",
       "</style>\n",
       "<table border=\"1\" class=\"dataframe\">\n",
       "  <thead>\n",
<<<<<<< HEAD
       "    <tr>\n",
       "      <th></th>\n",
       "      <th></th>\n",
       "      <th colspan=\"3\" halign=\"left\">survived</th>\n",
       "    </tr>\n",
       "    <tr>\n",
       "      <th></th>\n",
       "      <th></th>\n",
       "      <th>sum</th>\n",
       "      <th>count</th>\n",
       "      <th>mean</th>\n",
       "    </tr>\n",
       "    <tr>\n",
       "      <th>pclass</th>\n",
       "      <th>FareGroup</th>\n",
=======
       "    <tr style=\"text-align: right;\">\n",
       "      <th></th>\n",
       "      <th>count</th>\n",
       "      <th>mean</th>\n",
       "      <th>std</th>\n",
       "      <th>min</th>\n",
       "      <th>25%</th>\n",
       "      <th>50%</th>\n",
       "      <th>75%</th>\n",
       "      <th>max</th>\n",
       "    </tr>\n",
       "    <tr>\n",
       "      <th>Pclass</th>\n",
       "      <th></th>\n",
       "      <th></th>\n",
       "      <th></th>\n",
       "      <th></th>\n",
       "      <th></th>\n",
>>>>>>> 09e97300c08ed82afbc3b1ff6711a93f409a91c5
       "      <th></th>\n",
       "      <th></th>\n",
       "      <th></th>\n",
       "    </tr>\n",
       "  </thead>\n",
       "  <tbody>\n",
       "    <tr>\n",
<<<<<<< HEAD
       "      <th rowspan=\"2\" valign=\"top\">1</th>\n",
       "      <th>Normal</th>\n",
       "      <td>59</td>\n",
       "      <td>79</td>\n",
       "      <td>0.746835</td>\n",
       "    </tr>\n",
       "    <tr>\n",
       "      <th>underpaid</th>\n",
       "      <td>608</td>\n",
       "      <td>608</td>\n",
       "      <td>1.000000</td>\n",
       "    </tr>\n",
       "    <tr>\n",
       "      <th rowspan=\"2\" valign=\"top\">2</th>\n",
       "      <th>Normal</th>\n",
       "      <td>36</td>\n",
       "      <td>61</td>\n",
       "      <td>0.590164</td>\n",
       "    </tr>\n",
       "    <tr>\n",
       "      <th>underpaid</th>\n",
       "      <td>1</td>\n",
       "      <td>3</td>\n",
       "      <td>0.333333</td>\n",
       "    </tr>\n",
       "    <tr>\n",
       "      <th rowspan=\"2\" valign=\"top\">3</th>\n",
       "      <th>Normal</th>\n",
       "      <td>34</td>\n",
       "      <td>128</td>\n",
       "      <td>0.265625</td>\n",
       "    </tr>\n",
       "    <tr>\n",
       "      <th>underpaid</th>\n",
       "      <td>2</td>\n",
       "      <td>12</td>\n",
       "      <td>0.166667</td>\n",
=======
       "      <th>1</th>\n",
       "      <td>216.0</td>\n",
       "      <td>84.154687</td>\n",
       "      <td>78.380373</td>\n",
       "      <td>0.0</td>\n",
       "      <td>30.92395</td>\n",
       "      <td>60.2875</td>\n",
       "      <td>93.5</td>\n",
       "      <td>512.3292</td>\n",
       "    </tr>\n",
       "    <tr>\n",
       "      <th>2</th>\n",
       "      <td>184.0</td>\n",
       "      <td>20.662183</td>\n",
       "      <td>13.417399</td>\n",
       "      <td>0.0</td>\n",
       "      <td>13.00000</td>\n",
       "      <td>14.2500</td>\n",
       "      <td>26.0</td>\n",
       "      <td>73.5000</td>\n",
       "    </tr>\n",
       "    <tr>\n",
       "      <th>3</th>\n",
       "      <td>491.0</td>\n",
       "      <td>13.675550</td>\n",
       "      <td>11.778142</td>\n",
       "      <td>0.0</td>\n",
       "      <td>7.75000</td>\n",
       "      <td>8.0500</td>\n",
       "      <td>15.5</td>\n",
       "      <td>69.5500</td>\n",
>>>>>>> 09e97300c08ed82afbc3b1ff6711a93f409a91c5
       "    </tr>\n",
       "  </tbody>\n",
       "</table>\n",
       "</div>"
      ],
      "text/plain": [
<<<<<<< HEAD
       "                 survived                \n",
       "                      sum count      mean\n",
       "pclass FareGroup                         \n",
       "1      Normal          59    79  0.746835\n",
       "       underpaid      608   608  1.000000\n",
       "2      Normal          36    61  0.590164\n",
       "       underpaid        1     3  0.333333\n",
       "3      Normal          34   128  0.265625\n",
       "       underpaid        2    12  0.166667"
      ]
     },
     "execution_count": 112,
=======
       "        count       mean        std  min       25%      50%   75%       max\n",
       "Pclass                                                                     \n",
       "1       216.0  84.154687  78.380373  0.0  30.92395  60.2875  93.5  512.3292\n",
       "2       184.0  20.662183  13.417399  0.0  13.00000  14.2500  26.0   73.5000\n",
       "3       491.0  13.675550  11.778142  0.0   7.75000   8.0500  15.5   69.5500"
      ]
     },
     "execution_count": 230,
>>>>>>> 09e97300c08ed82afbc3b1ff6711a93f409a91c5
     "metadata": {},
     "output_type": "execute_result"
    }
   ],
   "source": [
<<<<<<< HEAD
=======
    "byPclass = titanic.groupby('Pclass')\n",
    "byPclass['Fare'].describe()\n"
   ]
  },
  {
   "cell_type": "code",
   "execution_count": 231,
   "metadata": {},
   "outputs": [],
   "source": [
>>>>>>> 09e97300c08ed82afbc3b1ff6711a93f409a91c5
    "### We will use the data on the desctiptive table to divide the paid fare:\n",
    "### Those who paid more than the 75% where considered 'Overpaid', \n",
    "### If paid less than the 25% where categorized as 'Underpaid', else 'Normal' fare\n",
    "titanic['FareGroup'] = 'Normal'\n",
<<<<<<< HEAD
    "titanic.loc[(titanic.fare<30.92)&(titanic.pclass==1),'FareGroup']='underpaid'\n",
    "titanic.loc[(titanic.fare<13.92)&(titanic.pclass==2),'FareGroup']='underpaid'\n",
    "titanic.loc[(titanic.fare<7.92)&(titanic.pclass==3),'FareGroup']='underpaid'\n",
    "\n",
    "titanic.groupby(['pclass','FareGroup']).agg ({'survived':[sum,'count','mean']})\n",
    "\n",
=======
    "\n",
    "....\n",
>>>>>>> 09e97300c08ed82afbc3b1ff6711a93f409a91c5
    "\n"
   ]
  },
  {
   "cell_type": "markdown",
   "metadata": {},
   "source": [
    "Now we will check how many survived by Pclass and Fategroup:"
   ]
  },
  {
   "cell_type": "code",
   "execution_count": 232,
   "metadata": {},
   "outputs": [
    {
     "data": {
      "text/html": [
       "<div>\n",
       "<style>\n",
       "    .dataframe thead tr:only-child th {\n",
       "        text-align: right;\n",
       "    }\n",
       "\n",
       "    .dataframe thead th {\n",
       "        text-align: left;\n",
       "    }\n",
       "\n",
       "    .dataframe tbody tr th {\n",
       "        vertical-align: top;\n",
       "    }\n",
       "</style>\n",
       "<table border=\"1\" class=\"dataframe\">\n",
       "  <thead>\n",
       "    <tr>\n",
       "      <th></th>\n",
       "      <th></th>\n",
       "      <th colspan=\"3\" halign=\"left\">Survived</th>\n",
       "    </tr>\n",
       "    <tr>\n",
       "      <th></th>\n",
       "      <th></th>\n",
       "      <th>count</th>\n",
       "      <th>sum</th>\n",
       "      <th>mean</th>\n",
       "    </tr>\n",
       "    <tr>\n",
       "      <th>Pclass</th>\n",
       "      <th>FareGroup</th>\n",
       "      <th></th>\n",
       "      <th></th>\n",
       "      <th></th>\n",
       "    </tr>\n",
       "  </thead>\n",
       "  <tbody>\n",
       "    <tr>\n",
       "      <th rowspan=\"3\" valign=\"top\">1</th>\n",
       "      <th>Normal</th>\n",
       "      <td>109</td>\n",
       "      <td>72</td>\n",
       "      <td>0.660550</td>\n",
       "    </tr>\n",
       "    <tr>\n",
       "      <th>Overpaid</th>\n",
       "      <td>53</td>\n",
       "      <td>39</td>\n",
       "      <td>0.735849</td>\n",
       "    </tr>\n",
       "    <tr>\n",
       "      <th>Underpaid</th>\n",
       "      <td>54</td>\n",
       "      <td>25</td>\n",
       "      <td>0.462963</td>\n",
       "    </tr>\n",
       "    <tr>\n",
       "      <th rowspan=\"3\" valign=\"top\">2</th>\n",
       "      <th>Normal</th>\n",
       "      <td>103</td>\n",
       "      <td>51</td>\n",
       "      <td>0.495146</td>\n",
       "    </tr>\n",
       "    <tr>\n",
       "      <th>Overpaid</th>\n",
       "      <td>39</td>\n",
       "      <td>23</td>\n",
       "      <td>0.589744</td>\n",
       "    </tr>\n",
       "    <tr>\n",
       "      <th>Underpaid</th>\n",
       "      <td>42</td>\n",
       "      <td>13</td>\n",
       "      <td>0.309524</td>\n",
       "    </tr>\n",
       "    <tr>\n",
       "      <th rowspan=\"3\" valign=\"top\">3</th>\n",
       "      <th>Normal</th>\n",
       "      <td>277</td>\n",
       "      <td>68</td>\n",
       "      <td>0.245487</td>\n",
       "    </tr>\n",
       "    <tr>\n",
       "      <th>Overpaid</th>\n",
       "      <td>120</td>\n",
       "      <td>34</td>\n",
       "      <td>0.283333</td>\n",
       "    </tr>\n",
       "    <tr>\n",
       "      <th>Underpaid</th>\n",
       "      <td>94</td>\n",
       "      <td>17</td>\n",
       "      <td>0.180851</td>\n",
       "    </tr>\n",
       "  </tbody>\n",
       "</table>\n",
       "</div>"
      ],
      "text/plain": [
       "                 Survived              \n",
       "                    count sum      mean\n",
       "Pclass FareGroup                       \n",
       "1      Normal         109  72  0.660550\n",
       "       Overpaid        53  39  0.735849\n",
       "       Underpaid       54  25  0.462963\n",
       "2      Normal         103  51  0.495146\n",
       "       Overpaid        39  23  0.589744\n",
       "       Underpaid       42  13  0.309524\n",
       "3      Normal         277  68  0.245487\n",
       "       Overpaid       120  34  0.283333\n",
       "       Underpaid       94  17  0.180851"
      ]
     },
     "execution_count": 232,
     "metadata": {},
     "output_type": "execute_result"
    }
   ],
   "source": [
    "## use groupby() and agg() to get the table bellow\n",
    "...\n"
   ]
  },
  {
   "cell_type": "markdown",
   "metadata": {},
   "source": [
    "Survived\n",
    "\n",
    "Pclass\tFareGroup count\tsum\tmean\n",
    "    1\tNormal\t   109\t72\t0.660550\n",
    "        Overpaid\t53\t39\t0.735849\n",
    "        Underpaid\t54\t25\t0.462963\n",
    "    2\tNormal\t   103\t51\t0.495146\n",
    "        Overpaid\t39\t23\t0.589744\n",
    "        Underpaid\t42\t13\t0.309524\n",
    "    3\tNormal\t   277\t68\t0.245487\n",
    "        Overpaid   120\t34\t0.283333\n",
    "        Underpaid\t94\t17\t0.180851"
   ]
  },
  {
   "cell_type": "markdown",
   "metadata": {},
   "source": [
    "#### The title passanger had and survival \n",
    "\n",
    "Which were the five most common titles passanger had? (Sir, Mr, Mrs, etc)?\n",
    " \n",
    "For this part we will take the 'Name' column and will split all the words in the name by the white space.\n",
    " \n",
    "Then we will join all the words and calculate the frequency of appearance of each world in descending order.\n",
    " \n",
    "We will take the five most common words (must be titles), and with them we will create a new column. Then we will procede as we did in the other analyses.\n"
   ]
  },
  {
   "cell_type": "code",
   "execution_count": 233,
   "metadata": {},
   "outputs": [
    {
     "name": "stdout",
     "output_type": "stream",
     "text": [
      "Braund, Mr. Owen Harris Cumings, Mrs. John Bradley (Florence Briggs Thayer) Heikkinen, Miss. Laina F\n"
     ]
    }
   ],
   "source": [
    "## Join all the words in the 'Name' column\n",
    "words = ' '.join(titanic['Name'])\n",
    "len(words)\n",
    "print(words[0:100])"
   ]
  },
  {
   "cell_type": "code",
<<<<<<< HEAD
   "execution_count": null,
   "metadata": {},
   "outputs": [],
   "source": []
  },
  {
   "cell_type": "code",
   "execution_count": 116,
   "metadata": {},
   "outputs": [
    {
     "ename": "NameError",
     "evalue": "name 'words' is not defined",
     "output_type": "error",
     "traceback": [
      "\u001b[1;31m---------------------------------------------------------------------------\u001b[0m",
      "\u001b[1;31mNameError\u001b[0m                                 Traceback (most recent call last)",
      "\u001b[1;32m<ipython-input-116-9df3ed7c8b77>\u001b[0m in \u001b[0;36m<module>\u001b[1;34m\u001b[0m\n\u001b[0;32m      4\u001b[0m \u001b[0mtable\u001b[0m \u001b[1;33m=\u001b[0m \u001b[0mstr\u001b[0m\u001b[1;33m.\u001b[0m\u001b[0mmaketrans\u001b[0m\u001b[1;33m(\u001b[0m\u001b[1;33m{\u001b[0m\u001b[0mkey\u001b[0m\u001b[1;33m:\u001b[0m \u001b[1;32mNone\u001b[0m \u001b[1;32mfor\u001b[0m \u001b[0mkey\u001b[0m \u001b[1;32min\u001b[0m \u001b[0mstring\u001b[0m\u001b[1;33m.\u001b[0m\u001b[0mpunctuation\u001b[0m\u001b[1;33m}\u001b[0m\u001b[1;33m)\u001b[0m\u001b[1;33m\u001b[0m\u001b[1;33m\u001b[0m\u001b[0m\n\u001b[0;32m      5\u001b[0m \u001b[1;31m#remove special marks\u001b[0m\u001b[1;33m\u001b[0m\u001b[1;33m\u001b[0m\u001b[1;33m\u001b[0m\u001b[0m\n\u001b[1;32m----> 6\u001b[1;33m \u001b[0mwords\u001b[0m \u001b[1;33m=\u001b[0m \u001b[0mwords\u001b[0m\u001b[1;33m.\u001b[0m\u001b[0mtranslate\u001b[0m\u001b[1;33m(\u001b[0m\u001b[0mtable\u001b[0m\u001b[1;33m)\u001b[0m\u001b[1;33m\u001b[0m\u001b[1;33m\u001b[0m\u001b[0m\n\u001b[0m\u001b[0;32m      7\u001b[0m \u001b[0mprint\u001b[0m\u001b[1;33m(\u001b[0m\u001b[0mwords\u001b[0m\u001b[1;33m[\u001b[0m\u001b[1;36m0\u001b[0m\u001b[1;33m:\u001b[0m\u001b[1;36m100\u001b[0m\u001b[1;33m]\u001b[0m\u001b[1;33m)\u001b[0m\u001b[1;33m\u001b[0m\u001b[1;33m\u001b[0m\u001b[0m\n",
      "\u001b[1;31mNameError\u001b[0m: name 'words' is not defined"
=======
   "execution_count": 234,
   "metadata": {},
   "outputs": [
    {
     "name": "stdout",
     "output_type": "stream",
     "text": [
      "Braund Mr Owen Harris Cumings Mrs John Bradley Florence Briggs Thayer Heikkinen Miss Laina Futrelle \n"
>>>>>>> 09e97300c08ed82afbc3b1ff6711a93f409a91c5
     ]
    }
   ],
   "source": [
    "## the following code will delete the punctuation\n",
    "import string\n",
    "\n",
    "table = str.maketrans({key: None for key in string.punctuation})\n",
<<<<<<< HEAD
    "#remove special marks\n",
    "words = words.translate(table)\n",
    "print(words[0:100])"
   ]
  },
  {
   "cell_type": "code",
   "execution_count": 115,
   "metadata": {},
   "outputs": [
    {
     "ename": "NameError",
     "evalue": "name 'words' is not defined",
     "output_type": "error",
     "traceback": [
      "\u001b[1;31m---------------------------------------------------------------------------\u001b[0m",
      "\u001b[1;31mNameError\u001b[0m                                 Traceback (most recent call last)",
      "\u001b[1;32m<ipython-input-115-89a721c58613>\u001b[0m in \u001b[0;36m<module>\u001b[1;34m\u001b[0m\n\u001b[0;32m      4\u001b[0m \u001b[0mtable\u001b[0m \u001b[1;33m=\u001b[0m \u001b[0mstr\u001b[0m\u001b[1;33m.\u001b[0m\u001b[0mmaketrans\u001b[0m\u001b[1;33m(\u001b[0m\u001b[1;33m{\u001b[0m\u001b[0mkey\u001b[0m\u001b[1;33m:\u001b[0m \u001b[1;32mNone\u001b[0m \u001b[1;32mfor\u001b[0m \u001b[0mkey\u001b[0m \u001b[1;32min\u001b[0m \u001b[0mstring\u001b[0m\u001b[1;33m.\u001b[0m\u001b[0mpunctuation\u001b[0m\u001b[1;33m}\u001b[0m\u001b[1;33m)\u001b[0m\u001b[1;33m\u001b[0m\u001b[1;33m\u001b[0m\u001b[0m\n\u001b[0;32m      5\u001b[0m \u001b[1;31m#remove special marks\u001b[0m\u001b[1;33m\u001b[0m\u001b[1;33m\u001b[0m\u001b[1;33m\u001b[0m\u001b[0m\n\u001b[1;32m----> 6\u001b[1;33m \u001b[0mwords\u001b[0m \u001b[1;33m=\u001b[0m \u001b[0mwords\u001b[0m\u001b[1;33m.\u001b[0m\u001b[0mtranslate\u001b[0m\u001b[1;33m(\u001b[0m\u001b[0mtable\u001b[0m\u001b[1;33m)\u001b[0m\u001b[1;33m\u001b[0m\u001b[1;33m\u001b[0m\u001b[0m\n\u001b[0m\u001b[0;32m      7\u001b[0m \u001b[0mprint\u001b[0m\u001b[1;33m(\u001b[0m\u001b[0mwords\u001b[0m\u001b[1;33m[\u001b[0m\u001b[1;36m0\u001b[0m\u001b[1;33m:\u001b[0m\u001b[1;36m100\u001b[0m\u001b[1;33m]\u001b[0m\u001b[1;33m)\u001b[0m\u001b[1;33m\u001b[0m\u001b[1;33m\u001b[0m\u001b[0m\n",
      "\u001b[1;31mNameError\u001b[0m: name 'words' is not defined"
     ]
    }
   ],
   "source": [
    "import string\n",
    "import re\n",
    "\n",
    "table = str.maketrans({key: None for key in string.punctuation})\n",
    "#remove special marks\n",
=======
>>>>>>> 09e97300c08ed82afbc3b1ff6711a93f409a91c5
    "words = words.translate(table)\n",
    "print(words[0:100])"
   ]
  },
  {
   "cell_type": "code",
<<<<<<< HEAD
   "execution_count": 119,
   "metadata": {},
   "outputs": [
    {
     "ename": "AttributeError",
     "evalue": "module 'string' has no attribute '_version_'",
     "output_type": "error",
     "traceback": [
      "\u001b[1;31m---------------------------------------------------------------------------\u001b[0m",
      "\u001b[1;31mAttributeError\u001b[0m                            Traceback (most recent call last)",
      "\u001b[1;32m<ipython-input-119-c0a56b2d28b4>\u001b[0m in \u001b[0;36m<module>\u001b[1;34m\u001b[0m\n\u001b[1;32m----> 1\u001b[1;33m \u001b[0mstring\u001b[0m\u001b[1;33m.\u001b[0m\u001b[0m_version_\u001b[0m\u001b[1;33m\u001b[0m\u001b[1;33m\u001b[0m\u001b[0m\n\u001b[0m",
      "\u001b[1;31mAttributeError\u001b[0m: module 'string' has no attribute '_version_'"
     ]
    }
   ],
   "source": [
    "string._version_"
   ]
  },
  {
   "cell_type": "code",
   "execution_count": 121,
   "metadata": {},
   "outputs": [
    {
     "ename": "NameError",
     "evalue": "name 'words' is not defined",
     "output_type": "error",
     "traceback": [
      "\u001b[1;31m---------------------------------------------------------------------------\u001b[0m",
      "\u001b[1;31mNameError\u001b[0m                                 Traceback (most recent call last)",
      "\u001b[1;32m<ipython-input-121-fe782503b38d>\u001b[0m in \u001b[0;36m<module>\u001b[1;34m\u001b[0m\n\u001b[0;32m      1\u001b[0m \u001b[1;31m## now we will split by the white spaces the words string into a list\u001b[0m\u001b[1;33m\u001b[0m\u001b[1;33m\u001b[0m\u001b[1;33m\u001b[0m\u001b[0m\n\u001b[1;32m----> 2\u001b[1;33m \u001b[0mwordlist\u001b[0m \u001b[1;33m=\u001b[0m \u001b[0mwords\u001b[0m\u001b[1;33m.\u001b[0m\u001b[0msplit\u001b[0m\u001b[1;33m(\u001b[0m\u001b[1;33m)\u001b[0m\u001b[1;33m\u001b[0m\u001b[1;33m\u001b[0m\u001b[0m\n\u001b[0m\u001b[0;32m      3\u001b[0m \u001b[0mprint\u001b[0m\u001b[1;33m(\u001b[0m\u001b[0mtype\u001b[0m\u001b[1;33m(\u001b[0m\u001b[0mwordlist\u001b[0m\u001b[1;33m)\u001b[0m\u001b[1;33m)\u001b[0m\u001b[1;33m\u001b[0m\u001b[1;33m\u001b[0m\u001b[0m\n\u001b[0;32m      4\u001b[0m \u001b[0mprint\u001b[0m\u001b[1;33m(\u001b[0m\u001b[0mwordlist\u001b[0m\u001b[1;33m[\u001b[0m\u001b[1;36m1\u001b[0m\u001b[1;33m:\u001b[0m\u001b[1;36m10\u001b[0m\u001b[1;33m]\u001b[0m\u001b[1;33m)\u001b[0m\u001b[1;33m\u001b[0m\u001b[1;33m\u001b[0m\u001b[0m\n",
      "\u001b[1;31mNameError\u001b[0m: name 'words' is not defined"
=======
   "execution_count": 235,
   "metadata": {},
   "outputs": [
    {
     "name": "stdout",
     "output_type": "stream",
     "text": [
      "<class 'list'>\n",
      "['Mr', 'Owen', 'Harris', 'Cumings', 'Mrs', 'John', 'Bradley', 'Florence', 'Briggs']\n"
>>>>>>> 09e97300c08ed82afbc3b1ff6711a93f409a91c5
     ]
    }
   ],
   "source": [
    "## now we will split by the white spaces the words string into a list\n",
    "wordlist = words.split()\n",
    "print(type(wordlist))\n",
    "print(wordlist[1:10])"
   ]
  },
  {
   "cell_type": "code",
<<<<<<< HEAD
   "execution_count": 113,
   "metadata": {},
   "outputs": [],
   "source": [
    "import re"
   ]
  },
  {
   "cell_type": "code",
   "execution_count": null,
   "metadata": {},
   "outputs": [],
   "source": []
  },
  {
   "cell_type": "code",
   "execution_count": 120,
   "metadata": {},
   "outputs": [
    {
     "ename": "NameError",
     "evalue": "name 'wordlist' is not defined",
     "output_type": "error",
     "traceback": [
      "\u001b[1;31m---------------------------------------------------------------------------\u001b[0m",
      "\u001b[1;31mNameError\u001b[0m                                 Traceback (most recent call last)",
      "\u001b[1;32m<ipython-input-120-18cfb924d8cf>\u001b[0m in \u001b[0;36m<module>\u001b[1;34m\u001b[0m\n\u001b[0;32m      2\u001b[0m \u001b[1;31m## There are lots of ways to this. We will generate a dictionary to make the counts\u001b[0m\u001b[1;33m\u001b[0m\u001b[1;33m\u001b[0m\u001b[1;33m\u001b[0m\u001b[0m\n\u001b[0;32m      3\u001b[0m \u001b[1;33m\u001b[0m\u001b[0m\n\u001b[1;32m----> 4\u001b[1;33m \u001b[0mworddict\u001b[0m \u001b[1;33m=\u001b[0m \u001b[1;33m{\u001b[0m\u001b[0mx\u001b[0m\u001b[1;33m:\u001b[0m\u001b[0mwordlist\u001b[0m\u001b[1;33m.\u001b[0m\u001b[0mcount\u001b[0m\u001b[1;33m(\u001b[0m\u001b[0mx\u001b[0m\u001b[1;33m)\u001b[0m \u001b[1;32mfor\u001b[0m \u001b[0mx\u001b[0m \u001b[1;32min\u001b[0m \u001b[0mwordlist\u001b[0m\u001b[1;33m}\u001b[0m\u001b[1;33m\u001b[0m\u001b[1;33m\u001b[0m\u001b[0m\n\u001b[0m\u001b[0;32m      5\u001b[0m \u001b[1;33m\u001b[0m\u001b[0m\n\u001b[0;32m      6\u001b[0m \u001b[0mwordunq\u001b[0m\u001b[1;33m,\u001b[0m \u001b[0mwordcnt\u001b[0m \u001b[1;33m=\u001b[0m \u001b[0mworddict\u001b[0m\u001b[1;33m.\u001b[0m\u001b[0mkeys\u001b[0m\u001b[1;33m(\u001b[0m\u001b[1;33m)\u001b[0m\u001b[1;33m,\u001b[0m \u001b[0mworddict\u001b[0m\u001b[1;33m.\u001b[0m\u001b[0mvalues\u001b[0m\u001b[1;33m(\u001b[0m\u001b[1;33m)\u001b[0m\u001b[1;33m\u001b[0m\u001b[1;33m\u001b[0m\u001b[0m\n",
      "\u001b[1;31mNameError\u001b[0m: name 'wordlist' is not defined"
=======
   "execution_count": 236,
   "metadata": {},
   "outputs": [
    {
     "name": "stdout",
     "output_type": "stream",
     "text": [
      "1526\n",
      "1526\n",
      "1526\n",
      "<class 'dict_keys'>\n",
      "<class 'dict_values'>\n"
>>>>>>> 09e97300c08ed82afbc3b1ff6711a93f409a91c5
     ]
    }
   ],
   "source": [
    "## We will count each unique word and show the top 20 in descending order\n",
    "## There are lots of ways to this. We will generate a dictionary to make the counts\n",
    "\n",
    "worddict = {x:wordlist.count(x) for x in wordlist}\n",
    "\n",
    "wordunq, wordcnt = worddict.keys(), worddict.values()\n",
    "\n",
    "print(len(worddict))\n",
    "print(len(wordunq))\n",
    "print(len(wordcnt))\n",
    "\n",
    "#wordunq.tolist()\n",
    "\n",
    "print(type(wordunq))\n",
    "print(type(wordcnt))\n"
   ]
  },
  {
   "cell_type": "code",
   "execution_count": 243,
   "metadata": {},
   "outputs": [
    {
     "data": {
      "text/html": [
       "<div>\n",
       "<style>\n",
       "    .dataframe thead tr:only-child th {\n",
       "        text-align: right;\n",
       "    }\n",
       "\n",
       "    .dataframe thead th {\n",
       "        text-align: left;\n",
       "    }\n",
       "\n",
       "    .dataframe tbody tr th {\n",
       "        vertical-align: top;\n",
       "    }\n",
       "</style>\n",
       "<table border=\"1\" class=\"dataframe\">\n",
       "  <thead>\n",
       "    <tr style=\"text-align: right;\">\n",
       "      <th></th>\n",
       "      <th>quantity</th>\n",
       "      <th>word</th>\n",
       "    </tr>\n",
       "  </thead>\n",
       "  <tbody>\n",
       "    <tr>\n",
       "      <th>1225</th>\n",
       "      <td>521</td>\n",
       "      <td>Mr</td>\n",
       "    </tr>\n",
       "    <tr>\n",
       "      <th>389</th>\n",
       "      <td>182</td>\n",
       "      <td>Miss</td>\n",
       "    </tr>\n",
       "    <tr>\n",
       "      <th>893</th>\n",
       "      <td>129</td>\n",
       "      <td>Mrs</td>\n",
       "    </tr>\n",
       "    <tr>\n",
       "      <th>453</th>\n",
       "      <td>64</td>\n",
       "      <td>William</td>\n",
       "    </tr>\n",
       "    <tr>\n",
       "      <th>124</th>\n",
       "      <td>44</td>\n",
       "      <td>John</td>\n",
       "    </tr>\n",
       "    <tr>\n",
       "      <th>509</th>\n",
       "      <td>40</td>\n",
       "      <td>Master</td>\n",
       "    </tr>\n",
       "    <tr>\n",
       "      <th>998</th>\n",
       "      <td>35</td>\n",
       "      <td>Henry</td>\n",
       "    </tr>\n",
       "    <tr>\n",
       "      <th>423</th>\n",
       "      <td>24</td>\n",
       "      <td>George</td>\n",
       "    </tr>\n",
       "    <tr>\n",
       "      <th>1356</th>\n",
       "      <td>24</td>\n",
       "      <td>James</td>\n",
       "    </tr>\n",
       "    <tr>\n",
       "      <th>821</th>\n",
       "      <td>23</td>\n",
       "      <td>Charles</td>\n",
       "    </tr>\n",
       "    <tr>\n",
       "      <th>1498</th>\n",
       "      <td>22</td>\n",
       "      <td>Thomas</td>\n",
       "    </tr>\n",
       "    <tr>\n",
       "      <th>1006</th>\n",
       "      <td>20</td>\n",
       "      <td>Mary</td>\n",
       "    </tr>\n",
       "    <tr>\n",
       "      <th>167</th>\n",
       "      <td>18</td>\n",
       "      <td>Edward</td>\n",
       "    </tr>\n",
       "    <tr>\n",
       "      <th>875</th>\n",
       "      <td>17</td>\n",
       "      <td>Anna</td>\n",
       "    </tr>\n",
       "    <tr>\n",
       "      <th>1394</th>\n",
       "      <td>16</td>\n",
       "      <td>Joseph</td>\n",
       "    </tr>\n",
       "    <tr>\n",
       "      <th>1405</th>\n",
       "      <td>15</td>\n",
       "      <td>Johan</td>\n",
       "    </tr>\n",
       "    <tr>\n",
       "      <th>433</th>\n",
       "      <td>15</td>\n",
       "      <td>Frederick</td>\n",
       "    </tr>\n",
       "    <tr>\n",
       "      <th>1028</th>\n",
       "      <td>15</td>\n",
       "      <td>Elizabeth</td>\n",
       "    </tr>\n",
       "    <tr>\n",
       "      <th>770</th>\n",
       "      <td>14</td>\n",
       "      <td>Richard</td>\n",
       "    </tr>\n",
       "    <tr>\n",
       "      <th>529</th>\n",
       "      <td>13</td>\n",
       "      <td>Arthur</td>\n",
       "    </tr>\n",
       "  </tbody>\n",
       "</table>\n",
       "</div>"
      ],
      "text/plain": [
       "      quantity       word\n",
       "1225       521         Mr\n",
       "389        182       Miss\n",
       "893        129        Mrs\n",
       "453         64    William\n",
       "124         44       John\n",
       "509         40     Master\n",
       "998         35      Henry\n",
       "423         24     George\n",
       "1356        24      James\n",
       "821         23    Charles\n",
       "1498        22     Thomas\n",
       "1006        20       Mary\n",
       "167         18     Edward\n",
       "875         17       Anna\n",
       "1394        16     Joseph\n",
       "1405        15      Johan\n",
       "433         15  Frederick\n",
       "1028        15  Elizabeth\n",
       "770         14    Richard\n",
       "529         13     Arthur"
      ]
     },
     "execution_count": 243,
     "metadata": {},
     "output_type": "execute_result"
    }
   ],
   "source": [
    "## now we tranform the keys and values into lists and create with them a DataFrame\n",
    "\n",
    "...\n",
    "\n",
    "...\n"
   ]
  },
  {
   "cell_type": "markdown",
   "metadata": {},
   "source": [
    "Answer:\n",
    "    quantity\tword\n",
    " \t521\t        Mr\n",
    "\t182\t        Miss\n",
    "\t129\t        Mrs\n",
    "\t64\t        William\n",
    "\t44\t        John\n",
    "\t40\t        Master"
   ]
  },
  {
   "cell_type": "markdown",
   "metadata": {},
   "source": [
    "We have shown here that the most common titles were Mr (521), Miss (182), Mrs (129) and Master (40). \n",
    " \n",
    "This totals 872 out of 891 passengers (97.9%).\n",
    " \n",
    "Now we will create a new variable with those titles and check for differences on survival among them.\n",
    " \n",
    "We can use the following function to decide if a title is present on a name:\n",
    "\n",
    "<code> \n",
    " titanic['Name'].str.contains('Mr')\n",
    "</code>"
   ]
  },
  {
   "cell_type": "code",
   "execution_count": 242,
   "metadata": {},
   "outputs": [
    {
     "data": {
      "text/html": [
       "<div>\n",
       "<style>\n",
       "    .dataframe thead tr:only-child th {\n",
       "        text-align: right;\n",
       "    }\n",
       "\n",
       "    .dataframe thead th {\n",
       "        text-align: left;\n",
       "    }\n",
       "\n",
       "    .dataframe tbody tr th {\n",
       "        vertical-align: top;\n",
       "    }\n",
       "</style>\n",
       "<table border=\"1\" class=\"dataframe\">\n",
       "  <thead>\n",
       "    <tr>\n",
       "      <th></th>\n",
       "      <th colspan=\"3\" halign=\"left\">Survived</th>\n",
       "    </tr>\n",
       "    <tr>\n",
       "      <th></th>\n",
       "      <th>count</th>\n",
       "      <th>sum</th>\n",
       "      <th>mean</th>\n",
       "    </tr>\n",
       "    <tr>\n",
       "      <th>Title</th>\n",
       "      <th></th>\n",
       "      <th></th>\n",
       "      <th></th>\n",
       "    </tr>\n",
       "  </thead>\n",
       "  <tbody>\n",
       "    <tr>\n",
       "      <th>Master</th>\n",
       "      <td>40</td>\n",
       "      <td>23</td>\n",
       "      <td>0.575000</td>\n",
       "    </tr>\n",
       "    <tr>\n",
       "      <th>Miss</th>\n",
       "      <td>180</td>\n",
       "      <td>126</td>\n",
       "      <td>0.700000</td>\n",
       "    </tr>\n",
       "    <tr>\n",
       "      <th>Mr</th>\n",
       "      <td>518</td>\n",
       "      <td>82</td>\n",
       "      <td>0.158301</td>\n",
       "    </tr>\n",
       "    <tr>\n",
       "      <th>Mrs</th>\n",
       "      <td>130</td>\n",
       "      <td>103</td>\n",
       "      <td>0.792308</td>\n",
       "    </tr>\n",
       "    <tr>\n",
       "      <th>Other</th>\n",
       "      <td>24</td>\n",
       "      <td>9</td>\n",
       "      <td>0.375000</td>\n",
       "    </tr>\n",
       "  </tbody>\n",
       "</table>\n",
       "</div>"
      ],
      "text/plain": [
       "       Survived               \n",
       "          count  sum      mean\n",
       "Title                         \n",
       "Master       40   23  0.575000\n",
       "Miss        180  126  0.700000\n",
       "Mr          518   82  0.158301\n",
       "Mrs         130  103  0.792308\n",
       "Other        24    9  0.375000"
      ]
     },
     "execution_count": 242,
     "metadata": {},
     "output_type": "execute_result"
    }
   ],
   "source": [
    "titanic['Title'] = 'Other'\n",
    "\n",
    "...\n",
    "\n",
    "## then use groupby() and agg() to get the table bellow\n",
    "...\n"
   ]
  },
  {
   "cell_type": "markdown",
   "metadata": {},
   "source": [
    "Survived\n",
    "\n",
    "Title\tcount\tsum\tmean\t\t\n",
    "Master\t  40\t23\t0.575000\n",
    "Miss\t 180\t126\t0.700000\n",
    "Mr\t     518\t82\t0.158301\n",
    "Mrs\t     130\t103\t0.792308\n",
    "Other\t  24\t9\t0.375000"
   ]
  }
 ],
 "metadata": {
  "kernelspec": {
   "display_name": "Python 3",
   "language": "python",
   "name": "python3"
  },
  "language_info": {
   "codemirror_mode": {
    "name": "ipython",
    "version": 3
   },
   "file_extension": ".py",
   "mimetype": "text/x-python",
   "name": "python",
   "nbconvert_exporter": "python",
   "pygments_lexer": "ipython3",
<<<<<<< HEAD
   "version": "3.7.6"
=======
   "version": "3.4.3"
>>>>>>> 09e97300c08ed82afbc3b1ff6711a93f409a91c5
  }
 },
 "nbformat": 4,
 "nbformat_minor": 2
}
