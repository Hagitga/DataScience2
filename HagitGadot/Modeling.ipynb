{
 "cells": [
  {
   "cell_type": "markdown",
   "metadata": {},
   "source": [
    "# Drugs Prediction"
   ]
  },
  {
   "cell_type": "code",
   "execution_count": 496,
   "metadata": {},
   "outputs": [],
   "source": [
    "import numpy as np\n",
    "import pandas as pd\n",
    "import seaborn as sns\n",
    "from pandas.api.types import CategoricalDtype\n"
   ]
  },
  {
   "cell_type": "code",
   "execution_count": 563,
   "metadata": {},
   "outputs": [],
   "source": [
    "train = pd.read_csv(\"../HagitGadot/train.csv\")\n",
    "test = pd.read_csv(\"../HagitGadot/dev.csv\")"
   ]
  },
  {
   "cell_type": "code",
   "execution_count": 564,
   "metadata": {},
   "outputs": [],
   "source": [
    "#list(train)"
   ]
  },
  {
   "cell_type": "code",
   "execution_count": 565,
   "metadata": {},
   "outputs": [],
   "source": [
    "train2 = train.copy()\n",
    "train2['AgeStartAll'] = train2['AgeStartAll'].astype('category')"
   ]
  },
  {
   "cell_type": "code",
   "execution_count": 566,
   "metadata": {},
   "outputs": [],
   "source": [
    "test2 = test.copy()\n",
    "test2['AgeStartAll'] = test2['AgeStartAll'].astype('category')"
   ]
  },
  {
   "cell_type": "code",
   "execution_count": 567,
   "metadata": {},
   "outputs": [],
   "source": [
    "train2 = train2.rename(columns={'X.PeoInFamily_1':'XPeoInFamily_1'})\n",
    "test2 = test2.rename(columns={'X.PeoInFamily_1':'XPeoInFamily_1'})"
   ]
  },
  {
   "cell_type": "markdown",
   "metadata": {},
   "source": [
    "# Partition of the data"
   ]
  },
  {
   "cell_type": "raw",
   "metadata": {},
   "source": [
    "X_train = train2.loc[:,nn]\n",
    "y_train = train2.AgeStartAll\n",
    "X_test = test2.loc[:,nn]\n",
    "y_test = test2.AgeStartAll"
   ]
  },
  {
   "cell_type": "code",
   "execution_count": 570,
   "metadata": {},
   "outputs": [],
   "source": [
    "y_train = train2.AgeStartAll\n",
    "y_test = test2.AgeStartAll"
   ]
  },
  {
   "cell_type": "code",
   "execution_count": 571,
   "metadata": {},
   "outputs": [],
   "source": [
    "train3=train2.copy()\n",
    "test3=test2.copy()"
   ]
  },
  {
   "cell_type": "code",
   "execution_count": 572,
   "metadata": {},
   "outputs": [],
   "source": [
    "train3=train3.drop(\"Unnamed: 0\",axis=1)\n",
    "test3=test3.drop(\"Unnamed: 0\",axis=1)\n",
    "train3=train3.drop(\"AgeStartAll\",axis=1)\n",
    "test3=test3.drop(\"AgeStartAll\",axis=1)"
   ]
  },
  {
   "cell_type": "code",
   "execution_count": 573,
   "metadata": {},
   "outputs": [],
   "source": [
    "X_train = train3\n",
    "X_test = test3"
   ]
  },
  {
   "cell_type": "markdown",
   "metadata": {},
   "source": [
    "# Models"
   ]
  },
  {
   "cell_type": "markdown",
   "metadata": {},
   "source": [
    "### Logistic Regression"
   ]
  },
  {
   "cell_type": "code",
   "execution_count": 481,
   "metadata": {},
   "outputs": [],
   "source": [
    "from sklearn.linear_model import LogisticRegression\n"
   ]
  },
  {
   "cell_type": "code",
   "execution_count": 482,
   "metadata": {},
   "outputs": [],
   "source": [
    "from sklearn.metrics import roc_auc_score"
   ]
  },
  {
   "cell_type": "code",
   "execution_count": 575,
   "metadata": {},
   "outputs": [],
   "source": [
    "mod1 = LogisticRegression(random_state=1)\n"
   ]
  },
  {
   "cell_type": "code",
   "execution_count": 576,
   "metadata": {},
   "outputs": [
    {
     "data": {
      "text/plain": [
       "LogisticRegression(C=1.0, class_weight=None, dual=False, fit_intercept=True,\n",
       "                   intercept_scaling=1, l1_ratio=None, max_iter=100,\n",
       "                   multi_class='auto', n_jobs=None, penalty='l2',\n",
       "                   random_state=1, solver='lbfgs', tol=0.0001, verbose=0,\n",
       "                   warm_start=False)"
      ]
     },
     "execution_count": 576,
     "metadata": {},
     "output_type": "execute_result"
    }
   ],
   "source": [
    "mod1.fit(X_train,y_train)"
   ]
  },
  {
   "cell_type": "code",
   "execution_count": 577,
   "metadata": {},
   "outputs": [
    {
     "data": {
      "text/plain": [
       "array([0, 0, 0, ..., 0, 0, 0], dtype=int64)"
      ]
     },
     "execution_count": 577,
     "metadata": {},
     "output_type": "execute_result"
    }
   ],
   "source": [
    "yhat1_tr = mod1.predict(X_train)\n",
    "yhat1_tr"
   ]
  },
  {
   "cell_type": "code",
   "execution_count": 578,
   "metadata": {},
   "outputs": [
    {
     "data": {
      "text/plain": [
       "array([[0.97947926, 0.02052074],\n",
       "       [0.99217964, 0.00782036],\n",
       "       [0.96522514, 0.03477486],\n",
       "       ...,\n",
       "       [0.9555648 , 0.0444352 ],\n",
       "       [0.95477904, 0.04522096],\n",
       "       [0.97903246, 0.02096754]])"
      ]
     },
     "execution_count": 578,
     "metadata": {},
     "output_type": "execute_result"
    }
   ],
   "source": [
    "yprob1_tr = mod1.predict_proba(X_train)\n",
    "yprob1_tr"
   ]
  },
  {
   "cell_type": "code",
   "execution_count": 579,
   "metadata": {},
   "outputs": [
    {
     "data": {
      "text/html": [
       "<div>\n",
       "<style scoped>\n",
       "    .dataframe tbody tr th:only-of-type {\n",
       "        vertical-align: middle;\n",
       "    }\n",
       "\n",
       "    .dataframe tbody tr th {\n",
       "        vertical-align: top;\n",
       "    }\n",
       "\n",
       "    .dataframe thead th {\n",
       "        text-align: right;\n",
       "    }\n",
       "</style>\n",
       "<table border=\"1\" class=\"dataframe\">\n",
       "  <thead>\n",
       "    <tr style=\"text-align: right;\">\n",
       "      <th>col_0</th>\n",
       "      <th>0</th>\n",
       "      <th>1</th>\n",
       "    </tr>\n",
       "    <tr>\n",
       "      <th>AgeStartAll</th>\n",
       "      <th></th>\n",
       "      <th></th>\n",
       "    </tr>\n",
       "  </thead>\n",
       "  <tbody>\n",
       "    <tr>\n",
       "      <th>0</th>\n",
       "      <td>13565</td>\n",
       "      <td>161</td>\n",
       "    </tr>\n",
       "    <tr>\n",
       "      <th>1</th>\n",
       "      <td>950</td>\n",
       "      <td>392</td>\n",
       "    </tr>\n",
       "  </tbody>\n",
       "</table>\n",
       "</div>"
      ],
      "text/plain": [
       "col_0            0    1\n",
       "AgeStartAll            \n",
       "0            13565  161\n",
       "1              950  392"
      ]
     },
     "execution_count": 579,
     "metadata": {},
     "output_type": "execute_result"
    }
   ],
   "source": [
    "pd.crosstab(y_train,yhat1_tr)"
   ]
  },
  {
   "cell_type": "code",
   "execution_count": 580,
   "metadata": {},
   "outputs": [
    {
     "data": {
      "text/plain": [
       "0.926267586939209"
      ]
     },
     "execution_count": 580,
     "metadata": {},
     "output_type": "execute_result"
    }
   ],
   "source": [
    "### Accuracy:\n",
    "mod1.score(X_train,y_train)"
   ]
  },
  {
   "cell_type": "code",
   "execution_count": 581,
   "metadata": {},
   "outputs": [
    {
     "name": "stdout",
     "output_type": "stream",
     "text": [
      "AUC= 0.8693233256020045\n"
     ]
    }
   ],
   "source": [
    "### Train\n",
    "mod1.score(X_train,y_train)\n",
    "yprob1_tr = mod1.predict_proba(X_train)\n",
    "print('AUC=',roc_auc_score(y_train, yprob1_tr[:,1]))\n"
   ]
  },
  {
   "cell_type": "code",
   "execution_count": 582,
   "metadata": {},
   "outputs": [
    {
     "name": "stdout",
     "output_type": "stream",
     "text": [
      "0.9166666666666666\n",
      "col_0           0   1\n",
      "AgeStartAll          \n",
      "0            3356  56\n",
      "1             258  98\n",
      "0.845624168499809\n"
     ]
    }
   ],
   "source": [
    "yhat1_ts = mod1.predict(X_test)\n",
    "print(mod1.score(X_test,y_test))\n",
    "print(pd.crosstab(y_test,yhat1_ts))\n",
    "yprob1_ts = mod1.predict_proba(X_test)\n",
    "print(roc_auc_score(y_test, yprob1_ts[:,1]))"
   ]
  },
  {
   "cell_type": "code",
   "execution_count": 92,
   "metadata": {},
   "outputs": [],
   "source": [
    "res = {1:{'model':'Logistic Regression',\n",
    "           'accuracy-Train':mod1.score(X_train,y_train),\n",
    "           'accuracy-Test':mod1.score(X_test,y_test),\n",
    "           'AUC-train':roc_auc_score(y_train, yprob1_tr[:,1]),\n",
    "           'AUC-test':roc_auc_score(y_test, yprob1_ts[:,1])\n",
    "      }}"
   ]
  },
  {
   "cell_type": "code",
   "execution_count": 93,
   "metadata": {},
   "outputs": [
    {
     "data": {
      "text/plain": [
       "{1: {'model': 'Logistic Regression',\n",
       "  'accuracy-Train': 0.926267586939209,\n",
       "  'accuracy-Test': 0.9166666666666666,\n",
       "  'AUC-train': 0.8693233256020045,\n",
       "  'AUC-test': 0.845624168499809}}"
      ]
     },
     "execution_count": 93,
     "metadata": {},
     "output_type": "execute_result"
    }
   ],
   "source": [
    "res"
   ]
  },
  {
   "cell_type": "markdown",
   "metadata": {},
   "source": [
    "## Decision Tree Model"
   ]
  },
  {
   "cell_type": "code",
   "execution_count": 94,
   "metadata": {},
   "outputs": [],
   "source": [
    "from sklearn.tree import DecisionTreeClassifier"
   ]
  },
  {
   "cell_type": "code",
   "execution_count": 583,
   "metadata": {},
   "outputs": [
    {
     "data": {
      "text/plain": [
       "DecisionTreeClassifier(ccp_alpha=0.0, class_weight=None, criterion='gini',\n",
       "                       max_depth=None, max_features=None, max_leaf_nodes=None,\n",
       "                       min_impurity_decrease=0.0, min_impurity_split=None,\n",
       "                       min_samples_leaf=1, min_samples_split=2,\n",
       "                       min_weight_fraction_leaf=0.0, presort='deprecated',\n",
       "                       random_state=1, splitter='best')"
      ]
     },
     "execution_count": 583,
     "metadata": {},
     "output_type": "execute_result"
    }
   ],
   "source": [
    "mod2 = DecisionTreeClassifier(random_state=1)\n",
    "mod2.fit(X_train,y_train)"
   ]
  },
  {
   "cell_type": "code",
   "execution_count": 584,
   "metadata": {},
   "outputs": [
    {
     "name": "stdout",
     "output_type": "stream",
     "text": [
      "col_0            0    1\n",
      "AgeStartAll            \n",
      "0            13664   62\n",
      "1              659  683\n",
      "---------------\n",
      "0.9521502521900717\n",
      "0.9329105912110406\n"
     ]
    }
   ],
   "source": [
    "yhat2_tr = mod2.predict(X_train)\n",
    "print(pd.crosstab(y_train,yhat2_tr))\n",
    "yprob2_tr = mod2.predict_proba(X_train)\n",
    "print('---------------')\n",
    "print(mod2.score(X_train,y_train))\n",
    "print(roc_auc_score(y_train, yprob2_tr[:,1]))"
   ]
  },
  {
   "cell_type": "code",
   "execution_count": 585,
   "metadata": {},
   "outputs": [
    {
     "name": "stdout",
     "output_type": "stream",
     "text": [
      "col_0           0    1\n",
      "AgeStartAll           \n",
      "0            3303  109\n",
      "1             257   99\n",
      "---------------\n",
      "0.9028662420382165\n",
      "0.6741848828325671\n"
     ]
    }
   ],
   "source": [
    "yhat2_ts = mod2.predict(X_test)\n",
    "print(pd.crosstab(y_test,yhat2_ts))\n",
    "yprob2_ts = mod2.predict_proba(X_test)\n",
    "print('---------------')\n",
    "print(mod2.score(X_test,y_test))\n",
    "print(roc_auc_score(y_test, yprob2_ts[:,1]))"
   ]
  },
  {
   "cell_type": "code",
   "execution_count": 586,
   "metadata": {},
   "outputs": [],
   "source": [
    "res[2] = {'model':'Decision Tree',\n",
    "           'accuracy-Train':mod2.score(X_train,y_train),\n",
    "           'accuracy-Test':mod2.score(X_test,y_test),\n",
    "           'AUC-train':roc_auc_score(y_train, yprob2_tr[:,1]),\n",
    "           'AUC-test':roc_auc_score(y_test, yprob2_ts[:,1])\n",
    "         }"
   ]
  },
  {
   "cell_type": "code",
   "execution_count": 587,
   "metadata": {},
   "outputs": [
    {
     "data": {
      "text/plain": [
       "{'model': 'Decision Tree',\n",
       " 'accuracy-Train': 0.9521502521900717,\n",
       " 'accuracy-Test': 0.9028662420382165,\n",
       " 'AUC-train': 0.9329105912110406,\n",
       " 'AUC-test': 0.6741848828325671}"
      ]
     },
     "execution_count": 587,
     "metadata": {},
     "output_type": "execute_result"
    }
   ],
   "source": [
    "res[2]"
   ]
  },
  {
   "cell_type": "markdown",
   "metadata": {},
   "source": [
    "## Random Forest Model"
   ]
  },
  {
   "cell_type": "code",
   "execution_count": 100,
   "metadata": {},
   "outputs": [],
   "source": [
    "from sklearn.ensemble import RandomForestClassifier"
   ]
  },
  {
   "cell_type": "code",
   "execution_count": 101,
   "metadata": {},
   "outputs": [
    {
     "data": {
      "text/plain": [
       "RandomForestClassifier(bootstrap=True, ccp_alpha=0.0, class_weight=None,\n",
       "                       criterion='entropy', max_depth=3, max_features='auto',\n",
       "                       max_leaf_nodes=4, max_samples=None,\n",
       "                       min_impurity_decrease=0.0, min_impurity_split=None,\n",
       "                       min_samples_leaf=1, min_samples_split=2,\n",
       "                       min_weight_fraction_leaf=0.0, n_estimators=100,\n",
       "                       n_jobs=None, oob_score=False, random_state=34, verbose=0,\n",
       "                       warm_start=False)"
      ]
     },
     "execution_count": 101,
     "metadata": {},
     "output_type": "execute_result"
    }
   ],
   "source": [
    "mod3 = RandomForestClassifier(max_depth=3,max_leaf_nodes=4,criterion='entropy',random_state=34)\n",
    "mod3.fit(X_train,y_train)"
   ]
  },
  {
   "cell_type": "code",
   "execution_count": 102,
   "metadata": {},
   "outputs": [
    {
     "name": "stdout",
     "output_type": "stream",
     "text": [
      "col_0            0\n",
      "AgeStartAll       \n",
      "0            13726\n",
      "1             1342\n",
      "---------------\n",
      "0.9109370852136979\n",
      "0.8617787112169558\n"
     ]
    }
   ],
   "source": [
    "yhat3_tr = mod3.predict(X_train)\n",
    "print(pd.crosstab(y_train,yhat3_tr))\n",
    "yprob3_tr = mod3.predict_proba(X_train)\n",
    "print('---------------')\n",
    "print(mod3.score(X_train,y_train))\n",
    "print(roc_auc_score(y_train, yprob3_tr[:,1]))"
   ]
  },
  {
   "cell_type": "code",
   "execution_count": 103,
   "metadata": {},
   "outputs": [
    {
     "name": "stdout",
     "output_type": "stream",
     "text": [
      "col_0           0\n",
      "AgeStartAll      \n",
      "0            3412\n",
      "1             356\n",
      "---------------\n",
      "0.9055201698513801\n",
      "0.8389194778508108\n"
     ]
    }
   ],
   "source": [
    "yhat3_ts = mod3.predict(X_test)\n",
    "print(pd.crosstab(y_test,yhat3_ts))\n",
    "yprob3_ts = mod3.predict_proba(X_test)\n",
    "print('---------------')\n",
    "print(mod3.score(X_test,y_test))\n",
    "print(roc_auc_score(y_test, yprob3_ts[:,1]))"
   ]
  },
  {
   "cell_type": "code",
   "execution_count": 104,
   "metadata": {},
   "outputs": [],
   "source": [
    "res[3] = {'model':'Random Forest',\n",
    "           'accuracy-Train':mod3.score(X_train,y_train),\n",
    "           'accuracy-Test':mod3.score(X_test,y_test),\n",
    "           'AUC-train':roc_auc_score(y_train, yprob3_tr[:,1]),\n",
    "           'AUC-test':roc_auc_score(y_test, yprob3_ts[:,1])\n",
    "         }"
   ]
  },
  {
   "cell_type": "code",
   "execution_count": 105,
   "metadata": {},
   "outputs": [
    {
     "data": {
      "text/plain": [
       "{'model': 'Random Forest',\n",
       " 'accuracy-Train': 0.9109370852136979,\n",
       " 'accuracy-Test': 0.9055201698513801,\n",
       " 'AUC-train': 0.8617787112169558,\n",
       " 'AUC-test': 0.8389194778508108}"
      ]
     },
     "execution_count": 105,
     "metadata": {},
     "output_type": "execute_result"
    }
   ],
   "source": [
    "res[3]"
   ]
  },
  {
   "cell_type": "markdown",
   "metadata": {},
   "source": [
    "## SVM"
   ]
  },
  {
   "cell_type": "code",
   "execution_count": 106,
   "metadata": {},
   "outputs": [],
   "source": [
    "from sklearn.svm import SVC"
   ]
  },
  {
   "cell_type": "code",
   "execution_count": 107,
   "metadata": {},
   "outputs": [
    {
     "data": {
      "text/plain": [
       "SVC(C=1.0, break_ties=False, cache_size=200, class_weight=None, coef0=0.0,\n",
       "    decision_function_shape='ovr', degree=3, gamma='scale', kernel='rbf',\n",
       "    max_iter=-1, probability=True, random_state=None, shrinking=True, tol=0.001,\n",
       "    verbose=False)"
      ]
     },
     "execution_count": 107,
     "metadata": {},
     "output_type": "execute_result"
    }
   ],
   "source": [
    "mod4 = SVC(probability=True)\n",
    "mod4.fit(X_train,y_train)"
   ]
  },
  {
   "cell_type": "code",
   "execution_count": 108,
   "metadata": {},
   "outputs": [
    {
     "name": "stdout",
     "output_type": "stream",
     "text": [
      "col_0            0    1\n",
      "AgeStartAll            \n",
      "0            13660   66\n",
      "1              956  386\n",
      "---------------\n",
      "0.9321741438810724\n",
      "0.8087602248650563\n"
     ]
    }
   ],
   "source": [
    "yhat4_tr = mod4.predict(X_train)\n",
    "print(pd.crosstab(y_train,yhat4_tr))\n",
    "yprob4_tr = mod4.predict_proba(X_train)\n",
    "print('---------------')\n",
    "print(mod4.score(X_train,y_train))\n",
    "print(roc_auc_score(y_train, yprob4_tr[:,1]))"
   ]
  },
  {
   "cell_type": "code",
   "execution_count": 109,
   "metadata": {},
   "outputs": [
    {
     "name": "stdout",
     "output_type": "stream",
     "text": [
      "col_0           0   1\n",
      "AgeStartAll          \n",
      "0            3375  37\n",
      "1             268  88\n",
      "---------------\n",
      "0.9190552016985138\n",
      "0.7186450333917305\n"
     ]
    }
   ],
   "source": [
    "yhat4_ts = mod4.predict(X_test)\n",
    "print(pd.crosstab(y_test,yhat4_ts))\n",
    "yprob4_ts = mod4.predict_proba(X_test)\n",
    "print('---------------')\n",
    "print(mod4.score(X_test,y_test))\n",
    "print(roc_auc_score(y_test, yprob4_ts[:,1]))"
   ]
  },
  {
   "cell_type": "code",
   "execution_count": 110,
   "metadata": {},
   "outputs": [],
   "source": [
    "res[4] = {'model':'SVM',\n",
    "           'accuracy-Train':mod4.score(X_train,y_train),\n",
    "           'accuracy-Test':mod4.score(X_test,y_test),\n",
    "           'AUC-train':roc_auc_score(y_train, 1-yprob4_tr[:,1]),\n",
    "           'AUC-test':roc_auc_score(y_test, 1-yprob4_ts[:,1])\n",
    "         }"
   ]
  },
  {
   "cell_type": "code",
   "execution_count": 111,
   "metadata": {},
   "outputs": [
    {
     "data": {
      "text/plain": [
       "{'model': 'SVM',\n",
       " 'accuracy-Train': 0.9321741438810724,\n",
       " 'accuracy-Test': 0.9190552016985138,\n",
       " 'AUC-train': 0.19123977513494356,\n",
       " 'AUC-test': 0.28135496660826953}"
      ]
     },
     "execution_count": 111,
     "metadata": {},
     "output_type": "execute_result"
    }
   ],
   "source": [
    "res[4]"
   ]
  },
  {
   "cell_type": "markdown",
   "metadata": {},
   "source": [
    "## kNN"
   ]
  },
  {
   "cell_type": "code",
   "execution_count": 112,
   "metadata": {},
   "outputs": [],
   "source": [
    "from sklearn.neighbors import KNeighborsClassifier"
   ]
  },
  {
   "cell_type": "code",
   "execution_count": 113,
   "metadata": {
    "scrolled": true
   },
   "outputs": [
    {
     "data": {
      "text/plain": [
       "KNeighborsClassifier(algorithm='auto', leaf_size=30, metric='minkowski',\n",
       "                     metric_params=None, n_jobs=None, n_neighbors=5, p=2,\n",
       "                     weights='uniform')"
      ]
     },
     "execution_count": 113,
     "metadata": {},
     "output_type": "execute_result"
    }
   ],
   "source": [
    "mod5 = KNeighborsClassifier()\n",
    "mod5.fit(X_train,y_train)"
   ]
  },
  {
   "cell_type": "code",
   "execution_count": 114,
   "metadata": {},
   "outputs": [
    {
     "name": "stdout",
     "output_type": "stream",
     "text": [
      "col_0            0    1\n",
      "AgeStartAll            \n",
      "0            13469  257\n",
      "1              843  499\n",
      "---------------\n",
      "0.9269976108308999\n",
      "0.8547518682114268\n"
     ]
    }
   ],
   "source": [
    "yhat5_tr = mod5.predict(X_train)\n",
    "print(pd.crosstab(y_train,yhat5_tr))\n",
    "yprob5_tr = mod5.predict_proba(X_train)\n",
    "print('---------------')\n",
    "print(mod5.score(X_train,y_train))\n",
    "print(roc_auc_score(y_train, yprob5_tr[:,1]))"
   ]
  },
  {
   "cell_type": "code",
   "execution_count": 115,
   "metadata": {},
   "outputs": [
    {
     "name": "stdout",
     "output_type": "stream",
     "text": [
      "col_0           0    1\n",
      "AgeStartAll           \n",
      "0            3307  105\n",
      "1             267   89\n",
      "---------------\n",
      "0.9012738853503185\n",
      "0.7643693112214656\n"
     ]
    }
   ],
   "source": [
    "yhat5_ts = mod5.predict(X_test)\n",
    "print(pd.crosstab(y_test,yhat5_ts))\n",
    "yprob5_ts = mod5.predict_proba(X_test)\n",
    "print('---------------')\n",
    "print(mod5.score(X_test,y_test))\n",
    "print(roc_auc_score(y_test, yprob5_ts[:,1]))"
   ]
  },
  {
   "cell_type": "code",
   "execution_count": 116,
   "metadata": {},
   "outputs": [],
   "source": [
    "res[5] = {'model':'kNN',\n",
    "           'accuracy-Train':mod5.score(X_train,y_train),\n",
    "           'accuracy-Test':mod5.score(X_test,y_test),\n",
    "           'AUC-train':roc_auc_score(y_train,yprob5_tr[:,1]),\n",
    "           'AUC-test':roc_auc_score(y_test,1-yprob5_ts[:,1])\n",
    "         }"
   ]
  },
  {
   "cell_type": "code",
   "execution_count": 117,
   "metadata": {},
   "outputs": [
    {
     "data": {
      "text/plain": [
       "{'model': 'kNN',\n",
       " 'accuracy-Train': 0.9269976108308999,\n",
       " 'accuracy-Test': 0.9012738853503185,\n",
       " 'AUC-train': 0.8547518682114268,\n",
       " 'AUC-test': 0.23563068877853438}"
      ]
     },
     "execution_count": 117,
     "metadata": {},
     "output_type": "execute_result"
    }
   ],
   "source": [
    "res[5]"
   ]
  },
  {
   "cell_type": "markdown",
   "metadata": {},
   "source": [
    "## AdaBoost"
   ]
  },
  {
   "cell_type": "code",
   "execution_count": 122,
   "metadata": {},
   "outputs": [],
   "source": [
    "from sklearn.ensemble import AdaBoostClassifier"
   ]
  },
  {
   "cell_type": "code",
   "execution_count": 123,
   "metadata": {},
   "outputs": [
    {
     "data": {
      "text/plain": [
       "AdaBoostClassifier(algorithm='SAMME.R', base_estimator=None, learning_rate=1.0,\n",
       "                   n_estimators=50, random_state=None)"
      ]
     },
     "execution_count": 123,
     "metadata": {},
     "output_type": "execute_result"
    }
   ],
   "source": [
    "mod6 = AdaBoostClassifier()\n",
    "mod6.fit(X_train,y_train)"
   ]
  },
  {
   "cell_type": "code",
   "execution_count": 124,
   "metadata": {},
   "outputs": [
    {
     "name": "stdout",
     "output_type": "stream",
     "text": [
      "col_0            0    1\n",
      "AgeStartAll            \n",
      "0            13565  161\n",
      "1              946  396\n",
      "---------------\n",
      "0.926533050172551\n",
      "0.8682964417719327\n"
     ]
    }
   ],
   "source": [
    "yhat6_tr = mod6.predict(X_train)\n",
    "print(pd.crosstab(y_train,yhat6_tr))\n",
    "yprob6_tr = mod6.predict_proba(X_train)\n",
    "print('---------------')\n",
    "print(mod6.score(X_train,y_train))\n",
    "print(roc_auc_score(y_train, yprob6_tr[:,1]))"
   ]
  },
  {
   "cell_type": "code",
   "execution_count": 125,
   "metadata": {},
   "outputs": [
    {
     "name": "stdout",
     "output_type": "stream",
     "text": [
      "col_0           0    1\n",
      "AgeStartAll           \n",
      "0            3356   56\n",
      "1             256  100\n",
      "---------------\n",
      "0.9171974522292994\n",
      "0.8428736317293886\n"
     ]
    }
   ],
   "source": [
    "yhat6_ts = mod6.predict(X_test)\n",
    "print(pd.crosstab(y_test,yhat6_ts))\n",
    "yprob6_ts = mod6.predict_proba(X_test)\n",
    "print('---------------')\n",
    "print(mod6.score(X_test,y_test))\n",
    "print(roc_auc_score(y_test, yprob6_ts[:,1]))"
   ]
  },
  {
   "cell_type": "code",
   "execution_count": 126,
   "metadata": {},
   "outputs": [],
   "source": [
    "res[6] = {'model':'AdaBoost',\n",
    "           'accuracy-Train':mod6.score(X_train,y_train),\n",
    "           'accuracy-Test':mod6.score(X_test,y_test),\n",
    "           'AUC-train':roc_auc_score(y_train, yprob6_tr[:,1]),\n",
    "           'AUC-test':roc_auc_score(y_test, yprob6_ts[:,1])\n",
    "         }"
   ]
  },
  {
   "cell_type": "code",
   "execution_count": 127,
   "metadata": {},
   "outputs": [
    {
     "data": {
      "text/plain": [
       "{'model': 'AdaBoost',\n",
       " 'accuracy-Train': 0.926533050172551,\n",
       " 'accuracy-Test': 0.9171974522292994,\n",
       " 'AUC-train': 0.8682964417719327,\n",
       " 'AUC-test': 0.8428736317293886}"
      ]
     },
     "execution_count": 127,
     "metadata": {},
     "output_type": "execute_result"
    }
   ],
   "source": [
    "res[6]"
   ]
  },
  {
   "cell_type": "markdown",
   "metadata": {},
   "source": [
    "## Gradient Boosting Machine"
   ]
  },
  {
   "cell_type": "code",
   "execution_count": 128,
   "metadata": {},
   "outputs": [],
   "source": [
    "from sklearn.ensemble import GradientBoostingClassifier"
   ]
  },
  {
   "cell_type": "code",
   "execution_count": 129,
   "metadata": {},
   "outputs": [
    {
     "data": {
      "text/plain": [
       "GradientBoostingClassifier(ccp_alpha=0.0, criterion='friedman_mse', init=None,\n",
       "                           learning_rate=0.1, loss='deviance', max_depth=3,\n",
       "                           max_features=None, max_leaf_nodes=None,\n",
       "                           min_impurity_decrease=0.0, min_impurity_split=None,\n",
       "                           min_samples_leaf=1, min_samples_split=2,\n",
       "                           min_weight_fraction_leaf=0.0, n_estimators=100,\n",
       "                           n_iter_no_change=None, presort='deprecated',\n",
       "                           random_state=None, subsample=1.0, tol=0.0001,\n",
       "                           validation_fraction=0.1, verbose=0,\n",
       "                           warm_start=False)"
      ]
     },
     "execution_count": 129,
     "metadata": {},
     "output_type": "execute_result"
    }
   ],
   "source": [
    "mod7 = GradientBoostingClassifier()\n",
    "mod7.fit(X_train,y_train)"
   ]
  },
  {
   "cell_type": "code",
   "execution_count": 130,
   "metadata": {},
   "outputs": [
    {
     "name": "stdout",
     "output_type": "stream",
     "text": [
      "col_0            0    1\n",
      "AgeStartAll            \n",
      "0            13610  116\n",
      "1              941  401\n",
      "---------------\n",
      "0.9298513405893284\n",
      "0.8722863893797124\n"
     ]
    }
   ],
   "source": [
    "yhat7_tr = mod7.predict(X_train)\n",
    "print(pd.crosstab(y_train,yhat7_tr))\n",
    "yprob7_tr = mod7.predict_proba(X_train)\n",
    "print('---------------')\n",
    "print(mod7.score(X_train,y_train))\n",
    "print(roc_auc_score(y_train, yprob7_tr[:,1]))"
   ]
  },
  {
   "cell_type": "code",
   "execution_count": 131,
   "metadata": {},
   "outputs": [
    {
     "name": "stdout",
     "output_type": "stream",
     "text": [
      "col_0           0   1\n",
      "AgeStartAll          \n",
      "0            3360  52\n",
      "1             263  93\n",
      "---------------\n",
      "0.9164012738853503\n",
      "0.8405865945703861\n"
     ]
    }
   ],
   "source": [
    "yhat7_ts = mod7.predict(X_test)\n",
    "print(pd.crosstab(y_test,yhat7_ts))\n",
    "yprob7_ts = mod7.predict_proba(X_test)\n",
    "print('---------------')\n",
    "print(mod7.score(X_test,y_test))\n",
    "print(roc_auc_score(y_test, yprob7_ts[:,1]))"
   ]
  },
  {
   "cell_type": "code",
   "execution_count": 132,
   "metadata": {},
   "outputs": [],
   "source": [
    "res[7] = {'model':'Gradient Boosting Machine',\n",
    "           'accuracy-Train':mod7.score(X_train,y_train),\n",
    "           'accuracy-Test':mod7.score(X_test,y_test),\n",
    "           'AUC-train':roc_auc_score(y_train, yprob7_tr[:,1]),\n",
    "           'AUC-test':roc_auc_score(y_test, yprob7_ts[:,1])\n",
    "         }"
   ]
  },
  {
   "cell_type": "code",
   "execution_count": 133,
   "metadata": {},
   "outputs": [
    {
     "data": {
      "text/plain": [
       "{'model': 'Gradient Boosting Machine',\n",
       " 'accuracy-Train': 0.9298513405893284,\n",
       " 'accuracy-Test': 0.9164012738853503,\n",
       " 'AUC-train': 0.8722863893797124,\n",
       " 'AUC-test': 0.8405865945703861}"
      ]
     },
     "execution_count": 133,
     "metadata": {},
     "output_type": "execute_result"
    }
   ],
   "source": [
    "res[7]"
   ]
  },
  {
   "cell_type": "markdown",
   "metadata": {},
   "source": [
    "# Model Selection"
   ]
  },
  {
   "cell_type": "code",
   "execution_count": 134,
   "metadata": {
    "scrolled": true
   },
   "outputs": [
    {
     "data": {
      "text/html": [
       "<div>\n",
       "<style scoped>\n",
       "    .dataframe tbody tr th:only-of-type {\n",
       "        vertical-align: middle;\n",
       "    }\n",
       "\n",
       "    .dataframe tbody tr th {\n",
       "        vertical-align: top;\n",
       "    }\n",
       "\n",
       "    .dataframe thead th {\n",
       "        text-align: right;\n",
       "    }\n",
       "</style>\n",
       "<table border=\"1\" class=\"dataframe\">\n",
       "  <thead>\n",
       "    <tr style=\"text-align: right;\">\n",
       "      <th></th>\n",
       "      <th>model</th>\n",
       "      <th>accuracy-Train</th>\n",
       "      <th>accuracy-Test</th>\n",
       "      <th>AUC-train</th>\n",
       "      <th>AUC-test</th>\n",
       "    </tr>\n",
       "  </thead>\n",
       "  <tbody>\n",
       "    <tr>\n",
       "      <th>1</th>\n",
       "      <td>Logistic Regression</td>\n",
       "      <td>0.926268</td>\n",
       "      <td>0.916667</td>\n",
       "      <td>0.869323</td>\n",
       "      <td>0.845624</td>\n",
       "    </tr>\n",
       "    <tr>\n",
       "      <th>6</th>\n",
       "      <td>AdaBoost</td>\n",
       "      <td>0.926533</td>\n",
       "      <td>0.917197</td>\n",
       "      <td>0.868296</td>\n",
       "      <td>0.842874</td>\n",
       "    </tr>\n",
       "    <tr>\n",
       "      <th>7</th>\n",
       "      <td>Gradient Boosting Machine</td>\n",
       "      <td>0.929851</td>\n",
       "      <td>0.916401</td>\n",
       "      <td>0.872286</td>\n",
       "      <td>0.840587</td>\n",
       "    </tr>\n",
       "    <tr>\n",
       "      <th>3</th>\n",
       "      <td>Random Forest</td>\n",
       "      <td>0.910937</td>\n",
       "      <td>0.905520</td>\n",
       "      <td>0.861779</td>\n",
       "      <td>0.838919</td>\n",
       "    </tr>\n",
       "    <tr>\n",
       "      <th>2</th>\n",
       "      <td>Decision Tree</td>\n",
       "      <td>0.952150</td>\n",
       "      <td>0.902866</td>\n",
       "      <td>0.932911</td>\n",
       "      <td>0.674185</td>\n",
       "    </tr>\n",
       "    <tr>\n",
       "      <th>4</th>\n",
       "      <td>SVM</td>\n",
       "      <td>0.932174</td>\n",
       "      <td>0.919055</td>\n",
       "      <td>0.191240</td>\n",
       "      <td>0.281355</td>\n",
       "    </tr>\n",
       "    <tr>\n",
       "      <th>5</th>\n",
       "      <td>kNN</td>\n",
       "      <td>0.926998</td>\n",
       "      <td>0.901274</td>\n",
       "      <td>0.854752</td>\n",
       "      <td>0.235631</td>\n",
       "    </tr>\n",
       "  </tbody>\n",
       "</table>\n",
       "</div>"
      ],
      "text/plain": [
       "                       model  accuracy-Train  accuracy-Test  AUC-train  \\\n",
       "1        Logistic Regression        0.926268       0.916667   0.869323   \n",
       "6                   AdaBoost        0.926533       0.917197   0.868296   \n",
       "7  Gradient Boosting Machine        0.929851       0.916401   0.872286   \n",
       "3              Random Forest        0.910937       0.905520   0.861779   \n",
       "2              Decision Tree        0.952150       0.902866   0.932911   \n",
       "4                        SVM        0.932174       0.919055   0.191240   \n",
       "5                        kNN        0.926998       0.901274   0.854752   \n",
       "\n",
       "   AUC-test  \n",
       "1  0.845624  \n",
       "6  0.842874  \n",
       "7  0.840587  \n",
       "3  0.838919  \n",
       "2  0.674185  \n",
       "4  0.281355  \n",
       "5  0.235631  "
      ]
     },
     "execution_count": 134,
     "metadata": {},
     "output_type": "execute_result"
    }
   ],
   "source": [
    "pd.DataFrame.from_dict(res,orient='index').sort_values(by='AUC-test',ascending=False)"
   ]
  },
  {
   "cell_type": "code",
   "execution_count": 135,
   "metadata": {},
   "outputs": [
    {
     "data": {
      "text/html": [
       "<div>\n",
       "<style scoped>\n",
       "    .dataframe tbody tr th:only-of-type {\n",
       "        vertical-align: middle;\n",
       "    }\n",
       "\n",
       "    .dataframe tbody tr th {\n",
       "        vertical-align: top;\n",
       "    }\n",
       "\n",
       "    .dataframe thead th {\n",
       "        text-align: right;\n",
       "    }\n",
       "</style>\n",
       "<table border=\"1\" class=\"dataframe\">\n",
       "  <thead>\n",
       "    <tr style=\"text-align: right;\">\n",
       "      <th></th>\n",
       "      <th>model</th>\n",
       "      <th>accuracy-Train</th>\n",
       "      <th>accuracy-Test</th>\n",
       "      <th>AUC-train</th>\n",
       "      <th>AUC-test</th>\n",
       "    </tr>\n",
       "  </thead>\n",
       "  <tbody>\n",
       "    <tr>\n",
       "      <th>4</th>\n",
       "      <td>SVM</td>\n",
       "      <td>0.932174</td>\n",
       "      <td>0.919055</td>\n",
       "      <td>0.191240</td>\n",
       "      <td>0.281355</td>\n",
       "    </tr>\n",
       "    <tr>\n",
       "      <th>6</th>\n",
       "      <td>AdaBoost</td>\n",
       "      <td>0.926533</td>\n",
       "      <td>0.917197</td>\n",
       "      <td>0.868296</td>\n",
       "      <td>0.842874</td>\n",
       "    </tr>\n",
       "    <tr>\n",
       "      <th>1</th>\n",
       "      <td>Logistic Regression</td>\n",
       "      <td>0.926268</td>\n",
       "      <td>0.916667</td>\n",
       "      <td>0.869323</td>\n",
       "      <td>0.845624</td>\n",
       "    </tr>\n",
       "    <tr>\n",
       "      <th>7</th>\n",
       "      <td>Gradient Boosting Machine</td>\n",
       "      <td>0.929851</td>\n",
       "      <td>0.916401</td>\n",
       "      <td>0.872286</td>\n",
       "      <td>0.840587</td>\n",
       "    </tr>\n",
       "    <tr>\n",
       "      <th>3</th>\n",
       "      <td>Random Forest</td>\n",
       "      <td>0.910937</td>\n",
       "      <td>0.905520</td>\n",
       "      <td>0.861779</td>\n",
       "      <td>0.838919</td>\n",
       "    </tr>\n",
       "    <tr>\n",
       "      <th>2</th>\n",
       "      <td>Decision Tree</td>\n",
       "      <td>0.952150</td>\n",
       "      <td>0.902866</td>\n",
       "      <td>0.932911</td>\n",
       "      <td>0.674185</td>\n",
       "    </tr>\n",
       "    <tr>\n",
       "      <th>5</th>\n",
       "      <td>kNN</td>\n",
       "      <td>0.926998</td>\n",
       "      <td>0.901274</td>\n",
       "      <td>0.854752</td>\n",
       "      <td>0.235631</td>\n",
       "    </tr>\n",
       "  </tbody>\n",
       "</table>\n",
       "</div>"
      ],
      "text/plain": [
       "                       model  accuracy-Train  accuracy-Test  AUC-train  \\\n",
       "4                        SVM        0.932174       0.919055   0.191240   \n",
       "6                   AdaBoost        0.926533       0.917197   0.868296   \n",
       "1        Logistic Regression        0.926268       0.916667   0.869323   \n",
       "7  Gradient Boosting Machine        0.929851       0.916401   0.872286   \n",
       "3              Random Forest        0.910937       0.905520   0.861779   \n",
       "2              Decision Tree        0.952150       0.902866   0.932911   \n",
       "5                        kNN        0.926998       0.901274   0.854752   \n",
       "\n",
       "   AUC-test  \n",
       "4  0.281355  \n",
       "6  0.842874  \n",
       "1  0.845624  \n",
       "7  0.840587  \n",
       "3  0.838919  \n",
       "2  0.674185  \n",
       "5  0.235631  "
      ]
     },
     "execution_count": 135,
     "metadata": {},
     "output_type": "execute_result"
    }
   ],
   "source": [
    "pd.DataFrame.from_dict(res,orient='index').sort_values(by='accuracy-Test',ascending=False)"
   ]
  },
  {
   "cell_type": "code",
   "execution_count": null,
   "metadata": {},
   "outputs": [],
   "source": [
    "# I chose Logistic Regression because it is the best model (and also easier model to preform and explain)"
   ]
  },
  {
   "cell_type": "markdown",
   "metadata": {},
   "source": [
    "## Finetunnig - Logistic regression"
   ]
  },
  {
   "cell_type": "code",
   "execution_count": 144,
   "metadata": {},
   "outputs": [],
   "source": [
    "lr=LogisticRegression()"
   ]
  },
  {
   "cell_type": "code",
   "execution_count": 145,
   "metadata": {},
   "outputs": [],
   "source": [
    "from sklearn.model_selection import GridSearchCV"
   ]
  },
  {
   "cell_type": "code",
   "execution_count": 207,
   "metadata": {},
   "outputs": [],
   "source": [
    "param_grid =[{'penalty':['l1','l2','elasticnet','none'],\n",
    "            'C':[0.005, 0.5,1,2,5,8],\n",
    "            'solver':['liblinear','newton-cg','sag','saga'],\n",
    "            'max_iter':[100,200,500]}]"
   ]
  },
  {
   "cell_type": "code",
   "execution_count": 208,
   "metadata": {},
   "outputs": [],
   "source": [
    "ftlr=GridSearchCV(lr,param_grid=param_grid,cv=7,verbose=True,n_jobs=-1)"
   ]
  },
  {
   "cell_type": "code",
   "execution_count": 209,
   "metadata": {},
   "outputs": [
    {
     "name": "stdout",
     "output_type": "stream",
     "text": [
      "Fitting 7 folds for each of 288 candidates, totalling 2016 fits\n"
     ]
    },
    {
     "name": "stderr",
     "output_type": "stream",
     "text": [
      "[Parallel(n_jobs=-1)]: Using backend LokyBackend with 4 concurrent workers.\n",
      "[Parallel(n_jobs=-1)]: Done 125 tasks      | elapsed:    7.8s\n",
      "[Parallel(n_jobs=-1)]: Done 380 tasks      | elapsed:   47.2s\n",
      "[Parallel(n_jobs=-1)]: Done 742 tasks      | elapsed:  1.7min\n",
      "[Parallel(n_jobs=-1)]: Done 1288 tasks      | elapsed:  3.2min\n",
      "[Parallel(n_jobs=-1)]: Done 1930 tasks      | elapsed:  5.5min\n",
      "[Parallel(n_jobs=-1)]: Done 2016 out of 2016 | elapsed:  6.1min finished\n"
     ]
    }
   ],
   "source": [
    "best_ftlr=ftlr.fit(X_train,y_train)"
   ]
  },
  {
   "cell_type": "code",
   "execution_count": 190,
   "metadata": {},
   "outputs": [
    {
     "data": {
      "text/plain": [
       "LogisticRegression(C=8, class_weight=None, dual=False, fit_intercept=True,\n",
       "                   intercept_scaling=1, l1_ratio=None, max_iter=100,\n",
       "                   multi_class='auto', n_jobs=None, penalty='l1',\n",
       "                   random_state=None, solver='liblinear', tol=0.0001, verbose=0,\n",
       "                   warm_start=False)"
      ]
     },
     "execution_count": 190,
     "metadata": {},
     "output_type": "execute_result"
    }
   ],
   "source": [
    "best_ftlr.best_estimator_"
   ]
  },
  {
   "cell_type": "code",
   "execution_count": 191,
   "metadata": {},
   "outputs": [
    {
     "name": "stdout",
     "output_type": "stream",
     "text": [
      "Accuracy:0.92640\n"
     ]
    }
   ],
   "source": [
    "print(f'Accuracy:{best_ftlr.score(X_train,y_train):.5f}')"
   ]
  },
  {
   "cell_type": "code",
   "execution_count": 192,
   "metadata": {},
   "outputs": [
    {
     "name": "stdout",
     "output_type": "stream",
     "text": [
      "AUC= 0.86917142790136\n"
     ]
    }
   ],
   "source": [
    "pred_tr = best_ftlr.predict_proba(X_train)\n",
    "print('AUC=',roc_auc_score(y_train, pred_tr[:,1]))"
   ]
  },
  {
   "cell_type": "code",
   "execution_count": 193,
   "metadata": {},
   "outputs": [],
   "source": [
    "def evaluate(model, test_features, test_labels):\n",
    "    predictions = model.predict(test_features)\n",
    "    errors = abs(predictions - test_labels)\n",
    "    mae = 100 * np.mean(errors)\n",
    "    print('Model Performance')\n",
    "    print('Mean Absolute Error: {:0.4f}'.format(np.mean(errors)))\n",
    "    return mae"
   ]
  },
  {
   "cell_type": "code",
   "execution_count": null,
   "metadata": {},
   "outputs": [],
   "source": []
  },
  {
   "cell_type": "code",
   "execution_count": 194,
   "metadata": {},
   "outputs": [],
   "source": [
    "#Base Logistic regression model"
   ]
  },
  {
   "cell_type": "code",
   "execution_count": 195,
   "metadata": {},
   "outputs": [
    {
     "name": "stdout",
     "output_type": "stream",
     "text": [
      "Model Performance\n",
      "Mean Absolute Error: 0.0833\n"
     ]
    }
   ],
   "source": [
    "base_model = LogisticRegression(random_state=1)\n",
    "base_model.fit(X_train,y_train)\n",
    "y_test=y_test.astype('float')\n",
    "base_accuracy = evaluate(base_model, X_test, y_test)"
   ]
  },
  {
   "cell_type": "code",
   "execution_count": 212,
   "metadata": {},
   "outputs": [
    {
     "name": "stdout",
     "output_type": "stream",
     "text": [
      "bace model Accuracy= 0.92627\n"
     ]
    }
   ],
   "source": [
    "print('bace model Accuracy= {:0.5f}'.format(base_model.score(X_train,y_train)))"
   ]
  },
  {
   "cell_type": "code",
   "execution_count": 213,
   "metadata": {},
   "outputs": [
    {
     "name": "stdout",
     "output_type": "stream",
     "text": [
      "bace model AUC= 0.86932\n"
     ]
    }
   ],
   "source": [
    "yprob1_tr = base_model.predict_proba(X_train)\n",
    "print('bace model AUC= {:0.5f}'.format(roc_auc_score(y_train, yprob1_tr[:,1])))"
   ]
  },
  {
   "cell_type": "code",
   "execution_count": 198,
   "metadata": {},
   "outputs": [],
   "source": [
    "#Best model - Logistic regression"
   ]
  },
  {
   "cell_type": "code",
   "execution_count": 214,
   "metadata": {},
   "outputs": [
    {
     "name": "stdout",
     "output_type": "stream",
     "text": [
      "Model Performance\n",
      "Mean Absolute Error: 0.0833\n"
     ]
    }
   ],
   "source": [
    "best_model = LogisticRegression(C=8, class_weight=None, dual=False, fit_intercept=True,\n",
    "                   intercept_scaling=1, l1_ratio=None, max_iter=100,\n",
    "                   multi_class='auto', n_jobs=None, penalty='l1',\n",
    "                   random_state=None, solver='liblinear', tol=0.0001, verbose=0,\n",
    "                   warm_start=False)\n",
    "\n",
    "best_model.fit(X_train,y_train)\n",
    "best_accuracy = evaluate(best_model, X_test, y_test)"
   ]
  },
  {
   "cell_type": "code",
   "execution_count": 215,
   "metadata": {},
   "outputs": [
    {
     "name": "stdout",
     "output_type": "stream",
     "text": [
      "BEST model Accuracy= 0.92640\n"
     ]
    }
   ],
   "source": [
    "print(\"BEST model Accuracy= {:0.5f}\".format(best_model.score(X_train,y_train)))"
   ]
  },
  {
   "cell_type": "code",
   "execution_count": 203,
   "metadata": {},
   "outputs": [
    {
     "name": "stdout",
     "output_type": "stream",
     "text": [
      "BEST model AUC= 0.86917\n"
     ]
    }
   ],
   "source": [
    "yprob1_tr = best_model.predict_proba(X_train)\n",
    "print('BEST model AUC= {:0.5f}'.format(roc_auc_score(y_train, yprob1_tr[:,1])))"
   ]
  },
  {
   "cell_type": "markdown",
   "metadata": {},
   "source": [
    "## final check"
   ]
  },
  {
   "cell_type": "code",
   "execution_count": 225,
   "metadata": {},
   "outputs": [
    {
     "name": "stdout",
     "output_type": "stream",
     "text": [
      "Accuracy Improvement of 0.01433%\n"
     ]
    }
   ],
   "source": [
    "print('Accuracy Improvement of {:0.5f}%'.format( 100*(best_model.score(X_train,y_train) - base_model.score(X_train,y_train))/best_model.score(X_train,y_train) ))"
   ]
  },
  {
   "cell_type": "code",
   "execution_count": 240,
   "metadata": {},
   "outputs": [
    {
     "name": "stdout",
     "output_type": "stream",
     "text": [
      "AUC improvement  0.01748%\n"
     ]
    }
   ],
   "source": [
    "print('AUC improvement  {:0.5f}%'.format( 100 * (roc_auc_score(y_train, yprob1_tr[:,1])-roc_auc_score(y_train, pred_tr[:,1]))/ roc_auc_score(y_train, pred_tr[:,1])))"
   ]
  },
  {
   "cell_type": "markdown",
   "metadata": {},
   "source": [
    "# The Final Model - Real data"
   ]
  },
  {
   "cell_type": "code",
   "execution_count": 606,
   "metadata": {},
   "outputs": [],
   "source": [
    "TheTest = pd.read_csv(\"../HagitGadot/TheTest.csv\", index_col=False)\n",
    "TheTrain = pd.read_csv(\"../HagitGadot/TheTrain.csv\",index_col=False)"
   ]
  },
  {
   "cell_type": "code",
   "execution_count": 607,
   "metadata": {},
   "outputs": [],
   "source": [
    "TheTrain = TheTrain.rename(columns={'X.PeoInFamily_1':'XPeoInFamily_1'})\n",
    "\n",
    "TheTest = TheTest.rename(columns={'X.PeoInFamily_1':'XPeoInFamily_1'})"
   ]
  },
  {
   "cell_type": "code",
   "execution_count": 608,
   "metadata": {},
   "outputs": [],
   "source": [
    "TheTrain1=TheTrain.copy()"
   ]
  },
  {
   "cell_type": "code",
   "execution_count": 609,
   "metadata": {},
   "outputs": [],
   "source": [
    "TheTest1=TheTest.copy()"
   ]
  },
  {
   "cell_type": "code",
   "execution_count": 611,
   "metadata": {},
   "outputs": [],
   "source": [
    "X_train=TheTrain1.drop('AgeStartAll',axis=1)\n",
    "X_test=TheTest1.drop('AgeStartAll',axis=1)"
   ]
  },
  {
   "cell_type": "code",
   "execution_count": 612,
   "metadata": {},
   "outputs": [],
   "source": [
    "y_train = TheTrain.AgeStartAll\n",
    "y_test = TheTest.AgeStartAll"
   ]
  },
  {
   "cell_type": "code",
   "execution_count": 613,
   "metadata": {},
   "outputs": [
    {
     "data": {
      "text/plain": [
       "LogisticRegression(C=8, class_weight=None, dual=False, fit_intercept=True,\n",
       "                   intercept_scaling=1, l1_ratio=None, max_iter=100,\n",
       "                   multi_class='auto', n_jobs=None, penalty='l1',\n",
       "                   random_state=None, solver='liblinear', tol=0.0001, verbose=0,\n",
       "                   warm_start=False)"
      ]
     },
     "execution_count": 613,
     "metadata": {},
     "output_type": "execute_result"
    }
   ],
   "source": [
    "mod = LogisticRegression(C=8, class_weight=None, dual=False, fit_intercept=True,\n",
    "                   intercept_scaling=1, l1_ratio=None, max_iter=100,\n",
    "                   multi_class='auto', n_jobs=None, penalty='l1',\n",
    "                   random_state=None, solver='liblinear', tol=0.0001, verbose=0,\n",
    "                   warm_start=False)\n",
    "mod.fit(X_train,y_train)"
   ]
  },
  {
   "cell_type": "code",
   "execution_count": 614,
   "metadata": {},
   "outputs": [],
   "source": [
    "yhat_tr = mod.predict(X_train)"
   ]
  },
  {
   "cell_type": "code",
   "execution_count": 615,
   "metadata": {},
   "outputs": [],
   "source": [
    "yprob_tr = mod.predict_proba(X_train)"
   ]
  },
  {
   "cell_type": "code",
   "execution_count": 616,
   "metadata": {},
   "outputs": [
    {
     "data": {
      "text/html": [
       "<div>\n",
       "<style scoped>\n",
       "    .dataframe tbody tr th:only-of-type {\n",
       "        vertical-align: middle;\n",
       "    }\n",
       "\n",
       "    .dataframe tbody tr th {\n",
       "        vertical-align: top;\n",
       "    }\n",
       "\n",
       "    .dataframe thead th {\n",
       "        text-align: right;\n",
       "    }\n",
       "</style>\n",
       "<table border=\"1\" class=\"dataframe\">\n",
       "  <thead>\n",
       "    <tr style=\"text-align: right;\">\n",
       "      <th>col_0</th>\n",
       "      <th>0</th>\n",
       "      <th>1</th>\n",
       "    </tr>\n",
       "    <tr>\n",
       "      <th>AgeStartAll</th>\n",
       "      <th></th>\n",
       "      <th></th>\n",
       "    </tr>\n",
       "  </thead>\n",
       "  <tbody>\n",
       "    <tr>\n",
       "      <th>0</th>\n",
       "      <td>16928</td>\n",
       "      <td>210</td>\n",
       "    </tr>\n",
       "    <tr>\n",
       "      <th>1</th>\n",
       "      <td>1208</td>\n",
       "      <td>490</td>\n",
       "    </tr>\n",
       "  </tbody>\n",
       "</table>\n",
       "</div>"
      ],
      "text/plain": [
       "col_0            0    1\n",
       "AgeStartAll            \n",
       "0            16928  210\n",
       "1             1208  490"
      ]
     },
     "execution_count": 616,
     "metadata": {},
     "output_type": "execute_result"
    }
   ],
   "source": [
    "pd.crosstab(y_train,yhat_tr)"
   ]
  },
  {
   "cell_type": "code",
   "execution_count": 599,
   "metadata": {},
   "outputs": [
    {
     "data": {
      "text/plain": [
       "0.9247186239116585"
      ]
     },
     "execution_count": 599,
     "metadata": {},
     "output_type": "execute_result"
    }
   ],
   "source": [
    "### Accuracy:\n",
    "mod.score(X_train,y_train)"
   ]
  },
  {
   "cell_type": "code",
   "execution_count": 600,
   "metadata": {},
   "outputs": [
    {
     "name": "stdout",
     "output_type": "stream",
     "text": [
      "0.8644642410166979\n"
     ]
    }
   ],
   "source": [
    "### Train\n",
    "mod.score(X_train,y_train)\n",
    "yprob_tr = mod1.predict_proba(X_train)\n",
    "print(roc_auc_score(y_train, yprob_tr[:,1]))"
   ]
  },
  {
   "cell_type": "code",
   "execution_count": 601,
   "metadata": {},
   "outputs": [
    {
     "name": "stdout",
     "output_type": "stream",
     "text": [
      "0.919091102144829\n",
      "col_0           0    1\n",
      "AgeStartAll           \n",
      "0            4199   63\n",
      "1             318  129\n",
      "0.8606442974016253\n"
     ]
    }
   ],
   "source": [
    "yhat_ts = mod.predict(X_test)\n",
    "print(mod.score(X_test,y_test))\n",
    "print(pd.crosstab(y_test,yhat_ts))\n",
    "yprob_ts = mod.predict_proba(X_test)\n",
    "print(roc_auc_score(y_test, yprob_ts[:,1]))"
   ]
  },
  {
   "cell_type": "code",
   "execution_count": 602,
   "metadata": {},
   "outputs": [
    {
     "name": "stdout",
     "output_type": "stream",
     "text": [
      "The final outcome\n",
      "----------------------\n",
      "accuracy-Train= 0.92472\n",
      "accuracy-Test=  0.91994\n",
      "AUC-train=      0.86446\n",
      "AUC-test=       0.86064\n"
     ]
    }
   ],
   "source": [
    "print(\"The final outcome\")\n",
    "print(\"----------------------\")\n",
    "print('accuracy-Train= {:0.5f}'.format(mod.score(X_train,y_train)))\n",
    "print('accuracy-Test=  {:0.5f}'.format(mod1.score(X_test,y_test)))\n",
    "print('AUC-train=      {:0.5f}'.format(roc_auc_score(y_train, yprob_tr[:,1])))\n",
    "print('AUC-test=       {:0.5f}'.format(roc_auc_score(y_test, yprob_ts[:,1])))\n",
    "      "
   ]
  },
  {
   "cell_type": "code",
   "execution_count": null,
   "metadata": {},
   "outputs": [],
   "source": []
  },
  {
   "cell_type": "code",
   "execution_count": null,
   "metadata": {},
   "outputs": [],
   "source": []
  }
 ],
 "metadata": {
  "kernelspec": {
   "display_name": "Python 3",
   "language": "python",
   "name": "python3"
  },
  "language_info": {
   "codemirror_mode": {
    "name": "ipython",
    "version": 3
   },
   "file_extension": ".py",
   "mimetype": "text/x-python",
   "name": "python",
   "nbconvert_exporter": "python",
   "pygments_lexer": "ipython3",
   "version": "3.7.6"
  }
 },
 "nbformat": 4,
 "nbformat_minor": 2
}
